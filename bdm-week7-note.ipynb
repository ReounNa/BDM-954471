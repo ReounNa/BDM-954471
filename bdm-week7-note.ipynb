{
 "cells": [
  {
   "cell_type": "code",
   "execution_count": 1,
   "id": "562f3bbe",
   "metadata": {
    "_cell_guid": "b1076dfc-b9ad-4769-8c92-a6c4dae69d19",
    "_uuid": "8f2839f25d086af736a60e9eeb907d3b93b6e0e5",
    "execution": {
     "iopub.execute_input": "2021-08-29T13:45:08.742336Z",
     "iopub.status.busy": "2021-08-29T13:45:08.741723Z",
     "iopub.status.idle": "2021-08-29T13:45:08.745224Z",
     "shell.execute_reply": "2021-08-29T13:45:08.744608Z",
     "shell.execute_reply.started": "2021-08-29T13:21:20.557111Z"
    },
    "papermill": {
     "duration": 0.047687,
     "end_time": "2021-08-29T13:45:08.745379",
     "exception": false,
     "start_time": "2021-08-29T13:45:08.697692",
     "status": "completed"
    },
    "tags": []
   },
   "outputs": [],
   "source": [
    "# This Python 3 environment comes with many helpful analytics libraries installed\n",
    "# It is defined by the kaggle/python Docker image: https://github.com/kaggle/docker-python\n",
    "# For example, here's several helpful packages to load\n",
    "\n",
    "import numpy as np # linear algebra\n",
    "import pandas as pd # data processing, CSV file I/O (e.g. pd.read_csv)\n",
    "\n",
    "# Input data files are available in the read-only \"../input/\" directory\n",
    "# For example, running this (by clicking run or pressing Shift+Enter) will list all files under the input directory\n",
    "\n",
    "import os\n",
    "for dirname, _, filenames in os.walk('/kaggle/input'):\n",
    "    for filename in filenames:\n",
    "        print(os.path.join(dirname, filename))\n",
    "\n",
    "# You can write up to 20GB to the current directory (/kaggle/working/) that gets preserved as output when you create a version using \"Save & Run All\" \n",
    "# You can also write temporary files to /kaggle/temp/, but they won't be saved outside of the current session"
   ]
  },
  {
   "cell_type": "code",
   "execution_count": 2,
   "id": "dc81c7fa",
   "metadata": {
    "execution": {
     "iopub.execute_input": "2021-08-29T13:45:08.826655Z",
     "iopub.status.busy": "2021-08-29T13:45:08.825973Z",
     "iopub.status.idle": "2021-08-29T13:45:09.299754Z",
     "shell.execute_reply": "2021-08-29T13:45:09.299168Z",
     "shell.execute_reply.started": "2021-08-29T13:21:23.562674Z"
    },
    "papermill": {
     "duration": 0.521161,
     "end_time": "2021-08-29T13:45:09.299900",
     "exception": false,
     "start_time": "2021-08-29T13:45:08.778739",
     "status": "completed"
    },
    "tags": []
   },
   "outputs": [
    {
     "data": {
      "text/html": [
       "<div>\n",
       "<style scoped>\n",
       "    .dataframe tbody tr th:only-of-type {\n",
       "        vertical-align: middle;\n",
       "    }\n",
       "\n",
       "    .dataframe tbody tr th {\n",
       "        vertical-align: top;\n",
       "    }\n",
       "\n",
       "    .dataframe thead th {\n",
       "        text-align: right;\n",
       "    }\n",
       "</style>\n",
       "<table border=\"1\" class=\"dataframe\">\n",
       "  <thead>\n",
       "    <tr style=\"text-align: right;\">\n",
       "      <th></th>\n",
       "      <th>age</th>\n",
       "      <th>parity</th>\n",
       "      <th>hiv</th>\n",
       "      <th>menopaus</th>\n",
       "      <th>disease</th>\n",
       "      <th>surgery</th>\n",
       "      <th>conization</th>\n",
       "      <th>OPDsize</th>\n",
       "      <th>appearance</th>\n",
       "      <th>stage</th>\n",
       "      <th>...</th>\n",
       "      <th>nodeyiel</th>\n",
       "      <th>RHlvsi</th>\n",
       "      <th>depth</th>\n",
       "      <th>size</th>\n",
       "      <th>utmet</th>\n",
       "      <th>vgmargin</th>\n",
       "      <th>vgmet</th>\n",
       "      <th>pelvicme</th>\n",
       "      <th>pmmet</th>\n",
       "      <th>adnmet</th>\n",
       "    </tr>\n",
       "    <tr>\n",
       "      <th>hn</th>\n",
       "      <th></th>\n",
       "      <th></th>\n",
       "      <th></th>\n",
       "      <th></th>\n",
       "      <th></th>\n",
       "      <th></th>\n",
       "      <th></th>\n",
       "      <th></th>\n",
       "      <th></th>\n",
       "      <th></th>\n",
       "      <th></th>\n",
       "      <th></th>\n",
       "      <th></th>\n",
       "      <th></th>\n",
       "      <th></th>\n",
       "      <th></th>\n",
       "      <th></th>\n",
       "      <th></th>\n",
       "      <th></th>\n",
       "      <th></th>\n",
       "      <th></th>\n",
       "    </tr>\n",
       "  </thead>\n",
       "  <tbody>\n",
       "    <tr>\n",
       "      <th>2631840</th>\n",
       "      <td>52</td>\n",
       "      <td>3</td>\n",
       "      <td>0.0</td>\n",
       "      <td>0.0</td>\n",
       "      <td>1</td>\n",
       "      <td>1</td>\n",
       "      <td>0.0</td>\n",
       "      <td>5.0</td>\n",
       "      <td>4.0</td>\n",
       "      <td>5.0</td>\n",
       "      <td>...</td>\n",
       "      <td>21.0</td>\n",
       "      <td>0.0</td>\n",
       "      <td>3.0</td>\n",
       "      <td>6.0</td>\n",
       "      <td>0.0</td>\n",
       "      <td>0.0</td>\n",
       "      <td>0.0</td>\n",
       "      <td>0.0</td>\n",
       "      <td>0.0</td>\n",
       "      <td>0.0</td>\n",
       "    </tr>\n",
       "    <tr>\n",
       "      <th>2633481</th>\n",
       "      <td>32</td>\n",
       "      <td>2</td>\n",
       "      <td>0.0</td>\n",
       "      <td>0.0</td>\n",
       "      <td>0</td>\n",
       "      <td>1</td>\n",
       "      <td>0.0</td>\n",
       "      <td>5.0</td>\n",
       "      <td>1.0</td>\n",
       "      <td>5.0</td>\n",
       "      <td>...</td>\n",
       "      <td>11.0</td>\n",
       "      <td>0.0</td>\n",
       "      <td>3.0</td>\n",
       "      <td>5.0</td>\n",
       "      <td>0.0</td>\n",
       "      <td>0.0</td>\n",
       "      <td>0.0</td>\n",
       "      <td>1.0</td>\n",
       "      <td>0.0</td>\n",
       "      <td>2.0</td>\n",
       "    </tr>\n",
       "    <tr>\n",
       "      <th>2634477</th>\n",
       "      <td>52</td>\n",
       "      <td>2</td>\n",
       "      <td>0.0</td>\n",
       "      <td>0.0</td>\n",
       "      <td>0</td>\n",
       "      <td>0</td>\n",
       "      <td>0.0</td>\n",
       "      <td>5.0</td>\n",
       "      <td>NaN</td>\n",
       "      <td>5.0</td>\n",
       "      <td>...</td>\n",
       "      <td>35.0</td>\n",
       "      <td>6.0</td>\n",
       "      <td>3.0</td>\n",
       "      <td>4.0</td>\n",
       "      <td>0.0</td>\n",
       "      <td>0.0</td>\n",
       "      <td>0.0</td>\n",
       "      <td>0.0</td>\n",
       "      <td>0.0</td>\n",
       "      <td>0.0</td>\n",
       "    </tr>\n",
       "    <tr>\n",
       "      <th>2633633</th>\n",
       "      <td>38</td>\n",
       "      <td>2</td>\n",
       "      <td>0.0</td>\n",
       "      <td>0.0</td>\n",
       "      <td>0</td>\n",
       "      <td>0</td>\n",
       "      <td>0.0</td>\n",
       "      <td>2.0</td>\n",
       "      <td>1.0</td>\n",
       "      <td>4.0</td>\n",
       "      <td>...</td>\n",
       "      <td>20.0</td>\n",
       "      <td>16.0</td>\n",
       "      <td>3.0</td>\n",
       "      <td>3.8</td>\n",
       "      <td>0.0</td>\n",
       "      <td>0.0</td>\n",
       "      <td>0.0</td>\n",
       "      <td>0.0</td>\n",
       "      <td>0.0</td>\n",
       "      <td>2.0</td>\n",
       "    </tr>\n",
       "    <tr>\n",
       "      <th>2630496</th>\n",
       "      <td>55</td>\n",
       "      <td>3</td>\n",
       "      <td>0.0</td>\n",
       "      <td>1.0</td>\n",
       "      <td>0</td>\n",
       "      <td>0</td>\n",
       "      <td>1.0</td>\n",
       "      <td>0.0</td>\n",
       "      <td>5.0</td>\n",
       "      <td>4.0</td>\n",
       "      <td>...</td>\n",
       "      <td>17.0</td>\n",
       "      <td>9.0</td>\n",
       "      <td>3.0</td>\n",
       "      <td>0.0</td>\n",
       "      <td>0.0</td>\n",
       "      <td>0.0</td>\n",
       "      <td>0.0</td>\n",
       "      <td>1.0</td>\n",
       "      <td>0.0</td>\n",
       "      <td>0.0</td>\n",
       "    </tr>\n",
       "    <tr>\n",
       "      <th>...</th>\n",
       "      <td>...</td>\n",
       "      <td>...</td>\n",
       "      <td>...</td>\n",
       "      <td>...</td>\n",
       "      <td>...</td>\n",
       "      <td>...</td>\n",
       "      <td>...</td>\n",
       "      <td>...</td>\n",
       "      <td>...</td>\n",
       "      <td>...</td>\n",
       "      <td>...</td>\n",
       "      <td>...</td>\n",
       "      <td>...</td>\n",
       "      <td>...</td>\n",
       "      <td>...</td>\n",
       "      <td>...</td>\n",
       "      <td>...</td>\n",
       "      <td>...</td>\n",
       "      <td>...</td>\n",
       "      <td>...</td>\n",
       "      <td>...</td>\n",
       "    </tr>\n",
       "    <tr>\n",
       "      <th>3169688</th>\n",
       "      <td>47</td>\n",
       "      <td>2</td>\n",
       "      <td>0.0</td>\n",
       "      <td>0.0</td>\n",
       "      <td>0</td>\n",
       "      <td>0</td>\n",
       "      <td>1.0</td>\n",
       "      <td>0.0</td>\n",
       "      <td>5.0</td>\n",
       "      <td>4.0</td>\n",
       "      <td>...</td>\n",
       "      <td>42.0</td>\n",
       "      <td>5.0</td>\n",
       "      <td>2.0</td>\n",
       "      <td>1.1</td>\n",
       "      <td>0.0</td>\n",
       "      <td>0.0</td>\n",
       "      <td>0.0</td>\n",
       "      <td>0.0</td>\n",
       "      <td>0.0</td>\n",
       "      <td>2.0</td>\n",
       "    </tr>\n",
       "    <tr>\n",
       "      <th>3167041</th>\n",
       "      <td>39</td>\n",
       "      <td>1</td>\n",
       "      <td>0.0</td>\n",
       "      <td>0.0</td>\n",
       "      <td>0</td>\n",
       "      <td>0</td>\n",
       "      <td>1.0</td>\n",
       "      <td>0.0</td>\n",
       "      <td>5.0</td>\n",
       "      <td>2.0</td>\n",
       "      <td>...</td>\n",
       "      <td>20.0</td>\n",
       "      <td>0.0</td>\n",
       "      <td>NaN</td>\n",
       "      <td>0.0</td>\n",
       "      <td>0.0</td>\n",
       "      <td>0.0</td>\n",
       "      <td>0.0</td>\n",
       "      <td>0.0</td>\n",
       "      <td>0.0</td>\n",
       "      <td>2.0</td>\n",
       "    </tr>\n",
       "    <tr>\n",
       "      <th>2623351</th>\n",
       "      <td>46</td>\n",
       "      <td>2</td>\n",
       "      <td>0.0</td>\n",
       "      <td>0.0</td>\n",
       "      <td>0</td>\n",
       "      <td>0</td>\n",
       "      <td>1.0</td>\n",
       "      <td>0.0</td>\n",
       "      <td>5.0</td>\n",
       "      <td>1.0</td>\n",
       "      <td>...</td>\n",
       "      <td>13.0</td>\n",
       "      <td>NaN</td>\n",
       "      <td>NaN</td>\n",
       "      <td>0.0</td>\n",
       "      <td>0.0</td>\n",
       "      <td>0.0</td>\n",
       "      <td>0.0</td>\n",
       "      <td>0.0</td>\n",
       "      <td>0.0</td>\n",
       "      <td>0.0</td>\n",
       "    </tr>\n",
       "    <tr>\n",
       "      <th>3302539</th>\n",
       "      <td>44</td>\n",
       "      <td>3</td>\n",
       "      <td>0.0</td>\n",
       "      <td>0.0</td>\n",
       "      <td>0</td>\n",
       "      <td>1</td>\n",
       "      <td>1.0</td>\n",
       "      <td>0.0</td>\n",
       "      <td>5.0</td>\n",
       "      <td>4.0</td>\n",
       "      <td>...</td>\n",
       "      <td>15.0</td>\n",
       "      <td>NaN</td>\n",
       "      <td>NaN</td>\n",
       "      <td>0.0</td>\n",
       "      <td>0.0</td>\n",
       "      <td>0.0</td>\n",
       "      <td>0.0</td>\n",
       "      <td>0.0</td>\n",
       "      <td>0.0</td>\n",
       "      <td>0.0</td>\n",
       "    </tr>\n",
       "    <tr>\n",
       "      <th>3855674</th>\n",
       "      <td>38</td>\n",
       "      <td>2</td>\n",
       "      <td>0.0</td>\n",
       "      <td>0.0</td>\n",
       "      <td>0</td>\n",
       "      <td>0</td>\n",
       "      <td>0.0</td>\n",
       "      <td>3.0</td>\n",
       "      <td>4.0</td>\n",
       "      <td>4.0</td>\n",
       "      <td>...</td>\n",
       "      <td>21.0</td>\n",
       "      <td>999.0</td>\n",
       "      <td>3.0</td>\n",
       "      <td>2.5</td>\n",
       "      <td>0.0</td>\n",
       "      <td>2.0</td>\n",
       "      <td>1.0</td>\n",
       "      <td>1.0</td>\n",
       "      <td>1.0</td>\n",
       "      <td>0.0</td>\n",
       "    </tr>\n",
       "  </tbody>\n",
       "</table>\n",
       "<p>1723 rows × 23 columns</p>\n",
       "</div>"
      ],
      "text/plain": [
       "         age  parity  hiv  menopaus  disease  surgery  conization  OPDsize  \\\n",
       "hn                                                                           \n",
       "2631840   52       3  0.0       0.0        1        1         0.0      5.0   \n",
       "2633481   32       2  0.0       0.0        0        1         0.0      5.0   \n",
       "2634477   52       2  0.0       0.0        0        0         0.0      5.0   \n",
       "2633633   38       2  0.0       0.0        0        0         0.0      2.0   \n",
       "2630496   55       3  0.0       1.0        0        0         1.0      0.0   \n",
       "...      ...     ...  ...       ...      ...      ...         ...      ...   \n",
       "3169688   47       2  0.0       0.0        0        0         1.0      0.0   \n",
       "3167041   39       1  0.0       0.0        0        0         1.0      0.0   \n",
       "2623351   46       2  0.0       0.0        0        0         1.0      0.0   \n",
       "3302539   44       3  0.0       0.0        0        1         1.0      0.0   \n",
       "3855674   38       2  0.0       0.0        0        0         0.0      3.0   \n",
       "\n",
       "         appearance  stage  ...  nodeyiel  RHlvsi  depth  size  utmet  \\\n",
       "hn                          ...                                         \n",
       "2631840         4.0    5.0  ...      21.0     0.0    3.0   6.0    0.0   \n",
       "2633481         1.0    5.0  ...      11.0     0.0    3.0   5.0    0.0   \n",
       "2634477         NaN    5.0  ...      35.0     6.0    3.0   4.0    0.0   \n",
       "2633633         1.0    4.0  ...      20.0    16.0    3.0   3.8    0.0   \n",
       "2630496         5.0    4.0  ...      17.0     9.0    3.0   0.0    0.0   \n",
       "...             ...    ...  ...       ...     ...    ...   ...    ...   \n",
       "3169688         5.0    4.0  ...      42.0     5.0    2.0   1.1    0.0   \n",
       "3167041         5.0    2.0  ...      20.0     0.0    NaN   0.0    0.0   \n",
       "2623351         5.0    1.0  ...      13.0     NaN    NaN   0.0    0.0   \n",
       "3302539         5.0    4.0  ...      15.0     NaN    NaN   0.0    0.0   \n",
       "3855674         4.0    4.0  ...      21.0   999.0    3.0   2.5    0.0   \n",
       "\n",
       "         vgmargin  vgmet  pelvicme  pmmet  adnmet  \n",
       "hn                                                 \n",
       "2631840       0.0    0.0       0.0    0.0     0.0  \n",
       "2633481       0.0    0.0       1.0    0.0     2.0  \n",
       "2634477       0.0    0.0       0.0    0.0     0.0  \n",
       "2633633       0.0    0.0       0.0    0.0     2.0  \n",
       "2630496       0.0    0.0       1.0    0.0     0.0  \n",
       "...           ...    ...       ...    ...     ...  \n",
       "3169688       0.0    0.0       0.0    0.0     2.0  \n",
       "3167041       0.0    0.0       0.0    0.0     2.0  \n",
       "2623351       0.0    0.0       0.0    0.0     0.0  \n",
       "3302539       0.0    0.0       0.0    0.0     0.0  \n",
       "3855674       2.0    1.0       1.0    1.0     0.0  \n",
       "\n",
       "[1723 rows x 23 columns]"
      ]
     },
     "execution_count": 2,
     "metadata": {},
     "output_type": "execute_result"
    }
   ],
   "source": [
    "df = pd.read_csv('https://raw.githubusercontent.com/plenoi/Clinic/master/ultima_all_clean.csv')\n",
    "df = df.set_index('hn')\n",
    "#df.head() # จะโชว์แค่5อัน\n",
    "df"
   ]
  },
  {
   "cell_type": "code",
   "execution_count": 3,
   "id": "e4623632",
   "metadata": {
    "execution": {
     "iopub.execute_input": "2021-08-29T13:45:09.382144Z",
     "iopub.status.busy": "2021-08-29T13:45:09.381183Z",
     "iopub.status.idle": "2021-08-29T13:45:09.390673Z",
     "shell.execute_reply": "2021-08-29T13:45:09.391142Z",
     "shell.execute_reply.started": "2021-08-29T13:21:26.241158Z"
    },
    "papermill": {
     "duration": 0.05729,
     "end_time": "2021-08-29T13:45:09.391320",
     "exception": false,
     "start_time": "2021-08-29T13:45:09.334030",
     "status": "completed"
    },
    "tags": []
   },
   "outputs": [
    {
     "data": {
      "text/plain": [
       "age            0\n",
       "parity         0\n",
       "hiv            4\n",
       "menopaus       1\n",
       "disease        0\n",
       "surgery        0\n",
       "conization     5\n",
       "OPDsize       17\n",
       "stage         24\n",
       "pchemo         1\n",
       "finalhisto    10\n",
       "utmet         98\n",
       "vgmet         97\n",
       "pmmet         94\n",
       "dtype: int64"
      ]
     },
     "execution_count": 3,
     "metadata": {},
     "output_type": "execute_result"
    }
   ],
   "source": [
    "df_clean_column = df.drop(['size','appearance','Wardsize','RHlvsi','depth','nodeyiel','vgmargin','pelvicme','adnmet'],axis = 1)\n",
    "df_clean_column.isnull().sum(axis=0)\n",
    "# size กับ OPDsize หมอบอกคืออันเดียวกันเพราะงั้นลบซักอัน\n",
    "# 0 row / 1 column"
   ]
  },
  {
   "cell_type": "code",
   "execution_count": 4,
   "id": "fb334bcf",
   "metadata": {
    "execution": {
     "iopub.execute_input": "2021-08-29T13:45:09.473099Z",
     "iopub.status.busy": "2021-08-29T13:45:09.472435Z",
     "iopub.status.idle": "2021-08-29T13:45:09.491918Z",
     "shell.execute_reply": "2021-08-29T13:45:09.491391Z",
     "shell.execute_reply.started": "2021-08-29T13:26:18.138968Z"
    },
    "papermill": {
     "duration": 0.058959,
     "end_time": "2021-08-29T13:45:09.492066",
     "exception": false,
     "start_time": "2021-08-29T13:45:09.433107",
     "status": "completed"
    },
    "tags": []
   },
   "outputs": [],
   "source": [
    "df_clean = df_clean_column.dropna(axis = 0)\n",
    "#แถวไหนมี missing data ดรอบไป"
   ]
  },
  {
   "cell_type": "code",
   "execution_count": 5,
   "id": "3d2c8278",
   "metadata": {
    "execution": {
     "iopub.execute_input": "2021-08-29T13:45:09.565760Z",
     "iopub.status.busy": "2021-08-29T13:45:09.564834Z",
     "iopub.status.idle": "2021-08-29T13:45:09.568685Z",
     "shell.execute_reply": "2021-08-29T13:45:09.568232Z",
     "shell.execute_reply.started": "2021-08-29T13:21:30.683146Z"
    },
    "papermill": {
     "duration": 0.042787,
     "end_time": "2021-08-29T13:45:09.568812",
     "exception": false,
     "start_time": "2021-08-29T13:45:09.526025",
     "status": "completed"
    },
    "tags": []
   },
   "outputs": [
    {
     "data": {
      "text/plain": [
       "array([0., 1.])"
      ]
     },
     "execution_count": 5,
     "metadata": {},
     "output_type": "execute_result"
    }
   ],
   "source": [
    "pel_class = np.unique(df_clean['pmmet'])\n",
    "#pel_class = df_clean['pmmet'].unique()\n",
    "pel_class"
   ]
  },
  {
   "cell_type": "code",
   "execution_count": 6,
   "id": "e237480d",
   "metadata": {
    "execution": {
     "iopub.execute_input": "2021-08-29T13:45:09.639952Z",
     "iopub.status.busy": "2021-08-29T13:45:09.639361Z",
     "iopub.status.idle": "2021-08-29T13:45:09.645502Z",
     "shell.execute_reply": "2021-08-29T13:45:09.646038Z",
     "shell.execute_reply.started": "2021-08-29T13:21:32.042515Z"
    },
    "papermill": {
     "duration": 0.042917,
     "end_time": "2021-08-29T13:45:09.646192",
     "exception": false,
     "start_time": "2021-08-29T13:45:09.603275",
     "status": "completed"
    },
    "tags": []
   },
   "outputs": [
    {
     "data": {
      "text/plain": [
       "[1291, 280]"
      ]
     },
     "execution_count": 6,
     "metadata": {},
     "output_type": "execute_result"
    }
   ],
   "source": [
    "pel_value = [sum(df_clean['pmmet']==pel_class[0]),\n",
    "             sum(df_clean['pmmet']==pel_class[1])]\n",
    "pel_value"
   ]
  },
  {
   "cell_type": "code",
   "execution_count": 7,
   "id": "ce983fbe",
   "metadata": {
    "execution": {
     "iopub.execute_input": "2021-08-29T13:45:09.731612Z",
     "iopub.status.busy": "2021-08-29T13:45:09.730976Z",
     "iopub.status.idle": "2021-08-29T13:45:09.736305Z",
     "shell.execute_reply": "2021-08-29T13:45:09.736781Z",
     "shell.execute_reply.started": "2021-08-29T13:21:33.872445Z"
    },
    "papermill": {
     "duration": 0.043302,
     "end_time": "2021-08-29T13:45:09.737007",
     "exception": false,
     "start_time": "2021-08-29T13:45:09.693705",
     "status": "completed"
    },
    "tags": []
   },
   "outputs": [],
   "source": [
    "# เราจะเอา ค่า pmmet มาเป็นคำตอบของ model ดังนั้นเลยเก็บค่าไว้ใ้ช้\n",
    "y = df_clean['pmmet'].values # คำตอบ\n",
    "X = df_clean.drop(['pmmet'],axis = 1).values # ข้อมูล"
   ]
  },
  {
   "cell_type": "markdown",
   "id": "6add209c",
   "metadata": {
    "papermill": {
     "duration": 0.034423,
     "end_time": "2021-08-29T13:45:09.807102",
     "exception": false,
     "start_time": "2021-08-29T13:45:09.772679",
     "status": "completed"
    },
    "tags": []
   },
   "source": [
    "---------------"
   ]
  },
  {
   "cell_type": "markdown",
   "id": "84a9987b",
   "metadata": {
    "papermill": {
     "duration": 0.033992,
     "end_time": "2021-08-29T13:45:09.875328",
     "exception": false,
     "start_time": "2021-08-29T13:45:09.841336",
     "status": "completed"
    },
    "tags": []
   },
   "source": [
    "# HOLD OUT"
   ]
  },
  {
   "cell_type": "code",
   "execution_count": 8,
   "id": "ec1fb877",
   "metadata": {
    "execution": {
     "iopub.execute_input": "2021-08-29T13:45:09.948970Z",
     "iopub.status.busy": "2021-08-29T13:45:09.948370Z",
     "iopub.status.idle": "2021-08-29T13:45:10.842080Z",
     "shell.execute_reply": "2021-08-29T13:45:10.842518Z",
     "shell.execute_reply.started": "2021-08-29T10:47:03.617212Z"
    },
    "papermill": {
     "duration": 0.931946,
     "end_time": "2021-08-29T13:45:10.842706",
     "exception": false,
     "start_time": "2021-08-29T13:45:09.910760",
     "status": "completed"
    },
    "tags": []
   },
   "outputs": [],
   "source": [
    "from sklearn.model_selection import train_test_split\n",
    "X_train, X_test, y_train, y_test = train_test_split(X,y,test_size=0.2,random_state=0) "
   ]
  },
  {
   "cell_type": "code",
   "execution_count": 9,
   "id": "0cf2a2ef",
   "metadata": {
    "execution": {
     "iopub.execute_input": "2021-08-29T13:45:10.918683Z",
     "iopub.status.busy": "2021-08-29T13:45:10.918053Z",
     "iopub.status.idle": "2021-08-29T13:45:10.920804Z",
     "shell.execute_reply": "2021-08-29T13:45:10.921214Z",
     "shell.execute_reply.started": "2021-08-29T10:47:05.25543Z"
    },
    "papermill": {
     "duration": 0.042989,
     "end_time": "2021-08-29T13:45:10.921382",
     "exception": false,
     "start_time": "2021-08-29T13:45:10.878393",
     "status": "completed"
    },
    "tags": []
   },
   "outputs": [],
   "source": [
    "from sklearn.model_selection import train_test_split\n",
    "X_train, X_val, y_train, y_val = train_test_split(X_train,y_train,test_size=0.2,random_state=0) "
   ]
  },
  {
   "cell_type": "code",
   "execution_count": 10,
   "id": "61e87be1",
   "metadata": {
    "execution": {
     "iopub.execute_input": "2021-08-29T13:45:10.993193Z",
     "iopub.status.busy": "2021-08-29T13:45:10.992568Z",
     "iopub.status.idle": "2021-08-29T13:45:10.997182Z",
     "shell.execute_reply": "2021-08-29T13:45:10.997567Z",
     "shell.execute_reply.started": "2021-08-29T10:48:28.968428Z"
    },
    "papermill": {
     "duration": 0.041948,
     "end_time": "2021-08-29T13:45:10.997759",
     "exception": false,
     "start_time": "2021-08-29T13:45:10.955811",
     "status": "completed"
    },
    "tags": []
   },
   "outputs": [],
   "source": [
    "# normalization\n",
    "from sklearn.preprocessing import MinMaxScaler\n",
    "scaler = MinMaxScaler(feature_range=(0, 1)) \n",
    "scaler.fit(X_train) \n",
    "X_train_norm = scaler.transform(X_train)\n",
    "X_val_norm = scaler.transform(X_val)"
   ]
  },
  {
   "cell_type": "code",
   "execution_count": 11,
   "id": "cb69c158",
   "metadata": {
    "execution": {
     "iopub.execute_input": "2021-08-29T13:45:11.070347Z",
     "iopub.status.busy": "2021-08-29T13:45:11.069742Z",
     "iopub.status.idle": "2021-08-29T13:45:11.281716Z",
     "shell.execute_reply": "2021-08-29T13:45:11.282178Z",
     "shell.execute_reply.started": "2021-08-29T10:48:01.258677Z"
    },
    "papermill": {
     "duration": 0.250232,
     "end_time": "2021-08-29T13:45:11.282357",
     "exception": false,
     "start_time": "2021-08-29T13:45:11.032125",
     "status": "completed"
    },
    "tags": []
   },
   "outputs": [
    {
     "name": "stdout",
     "output_type": "stream",
     "text": [
      "HOLD OUT Trainging accuracy : 0.8174603174603174\n"
     ]
    }
   ],
   "source": [
    "from sklearn.linear_model import LogisticRegression\n",
    "clf = LogisticRegression(random_state=0, solver='liblinear')\n",
    "clf.fit(X_train_norm, y_train)\n",
    "yp = clf.predict(X_val_norm)\n",
    "acc = sum(yp == y_val)/len(y_val)\n",
    "print(\"HOLD OUT Trainging accuracy : \"+str(acc))"
   ]
  },
  {
   "cell_type": "markdown",
   "id": "99a327d7",
   "metadata": {
    "papermill": {
     "duration": 0.040105,
     "end_time": "2021-08-29T13:45:11.357232",
     "exception": false,
     "start_time": "2021-08-29T13:45:11.317127",
     "status": "completed"
    },
    "tags": []
   },
   "source": [
    "****จะทำtest ให้เอาตัว training dataทั้งหมดมาสร้าง modelอีกรอบ แล้วเอาไปtest****"
   ]
  },
  {
   "cell_type": "markdown",
   "id": "1969ec6e",
   "metadata": {
    "papermill": {
     "duration": 0.048191,
     "end_time": "2021-08-29T13:45:11.454634",
     "exception": false,
     "start_time": "2021-08-29T13:45:11.406443",
     "status": "completed"
    },
    "tags": []
   },
   "source": [
    "---------------------------------"
   ]
  },
  {
   "cell_type": "markdown",
   "id": "7ea4abd9",
   "metadata": {
    "papermill": {
     "duration": 0.034389,
     "end_time": "2021-08-29T13:45:11.524223",
     "exception": false,
     "start_time": "2021-08-29T13:45:11.489834",
     "status": "completed"
    },
    "tags": []
   },
   "source": [
    "# Cross Validation"
   ]
  },
  {
   "cell_type": "markdown",
   "id": "7867bfbe",
   "metadata": {
    "papermill": {
     "duration": 0.034152,
     "end_time": "2021-08-29T13:45:11.593081",
     "exception": false,
     "start_time": "2021-08-29T13:45:11.558929",
     "status": "completed"
    },
    "tags": []
   },
   "source": [
    "|| Leave One Out"
   ]
  },
  {
   "cell_type": "code",
   "execution_count": 12,
   "id": "6fe26b32",
   "metadata": {
    "execution": {
     "iopub.execute_input": "2021-08-29T13:45:11.665996Z",
     "iopub.status.busy": "2021-08-29T13:45:11.665101Z",
     "iopub.status.idle": "2021-08-29T13:45:11.669889Z",
     "shell.execute_reply": "2021-08-29T13:45:11.670327Z",
     "shell.execute_reply.started": "2021-08-29T10:49:37.895826Z"
    },
    "papermill": {
     "duration": 0.04277,
     "end_time": "2021-08-29T13:45:11.670544",
     "exception": false,
     "start_time": "2021-08-29T13:45:11.627774",
     "status": "completed"
    },
    "tags": []
   },
   "outputs": [],
   "source": [
    "from sklearn.model_selection import train_test_split \n",
    "X_train, X_test, y_train, y_test = train_test_split(X,y,test_size=0.2,random_state=0)"
   ]
  },
  {
   "cell_type": "code",
   "execution_count": 13,
   "id": "2ad2b536",
   "metadata": {
    "execution": {
     "iopub.execute_input": "2021-08-29T13:45:11.742938Z",
     "iopub.status.busy": "2021-08-29T13:45:11.742015Z",
     "iopub.status.idle": "2021-08-29T13:45:11.747494Z",
     "shell.execute_reply": "2021-08-29T13:45:11.746944Z",
     "shell.execute_reply.started": "2021-08-29T10:49:39.359456Z"
    },
    "papermill": {
     "duration": 0.042501,
     "end_time": "2021-08-29T13:45:11.747621",
     "exception": false,
     "start_time": "2021-08-29T13:45:11.705120",
     "status": "completed"
    },
    "tags": []
   },
   "outputs": [],
   "source": [
    "# normalization\n",
    "from sklearn.preprocessing import MinMaxScaler\n",
    "scaler = MinMaxScaler(feature_range=(0, 1)) \n",
    "scaler.fit(X_train) \n",
    "X_train_norm = scaler.transform(X_train)"
   ]
  },
  {
   "cell_type": "code",
   "execution_count": 14,
   "id": "8c297483",
   "metadata": {
    "execution": {
     "iopub.execute_input": "2021-08-29T13:45:11.821977Z",
     "iopub.status.busy": "2021-08-29T13:45:11.821236Z",
     "iopub.status.idle": "2021-08-29T13:45:11.864247Z",
     "shell.execute_reply": "2021-08-29T13:45:11.864630Z",
     "shell.execute_reply.started": "2021-08-29T10:49:40.828488Z"
    },
    "papermill": {
     "duration": 0.082697,
     "end_time": "2021-08-29T13:45:11.864800",
     "exception": false,
     "start_time": "2021-08-29T13:45:11.782103",
     "status": "completed"
    },
    "tags": []
   },
   "outputs": [
    {
     "name": "stdout",
     "output_type": "stream",
     "text": [
      "10CV Training accuracy : [0.81746032 0.80952381 0.81746032 0.78571429 0.81746032 0.81746032\n",
      " 0.8        0.832      0.816      0.824     ]\n"
     ]
    }
   ],
   "source": [
    "from sklearn.model_selection import cross_val_score\n",
    "clf = LogisticRegression(random_state=0, solver='liblinear')\n",
    "acc = cross_val_score(clf,X_train_norm,y_train,cv=10) #ถ้าจะทำ--Leave One Out-- Cross Validation คือปรับ cv ให้เท่ากับขนาดข้อมูลทั้งหมด\n",
    "print(\"10CV Training accuracy : \"+str(acc))"
   ]
  },
  {
   "cell_type": "code",
   "execution_count": 15,
   "id": "4ecd233d",
   "metadata": {
    "execution": {
     "iopub.execute_input": "2021-08-29T13:45:11.939043Z",
     "iopub.status.busy": "2021-08-29T13:45:11.938464Z",
     "iopub.status.idle": "2021-08-29T13:45:11.941908Z",
     "shell.execute_reply": "2021-08-29T13:45:11.941363Z",
     "shell.execute_reply.started": "2021-08-29T10:49:42.487529Z"
    },
    "papermill": {
     "duration": 0.042383,
     "end_time": "2021-08-29T13:45:11.942032",
     "exception": false,
     "start_time": "2021-08-29T13:45:11.899649",
     "status": "completed"
    },
    "tags": []
   },
   "outputs": [
    {
     "name": "stdout",
     "output_type": "stream",
     "text": [
      "10CV Training accuracy : 0.8137079365079366\n"
     ]
    }
   ],
   "source": [
    "print(\"10CV Training accuracy : \"+str(acc.mean()))"
   ]
  },
  {
   "cell_type": "markdown",
   "id": "9d8b10a2",
   "metadata": {
    "papermill": {
     "duration": 0.035243,
     "end_time": "2021-08-29T13:45:12.012324",
     "exception": false,
     "start_time": "2021-08-29T13:45:11.977081",
     "status": "completed"
    },
    "tags": []
   },
   "source": [
    "----------------------------"
   ]
  },
  {
   "cell_type": "markdown",
   "id": "1950a3f5",
   "metadata": {
    "papermill": {
     "duration": 0.035947,
     "end_time": "2021-08-29T13:45:12.083666",
     "exception": false,
     "start_time": "2021-08-29T13:45:12.047719",
     "status": "completed"
    },
    "tags": []
   },
   "source": [
    "# Test accuracy"
   ]
  },
  {
   "cell_type": "markdown",
   "id": "2db656b6",
   "metadata": {
    "papermill": {
     "duration": 0.035254,
     "end_time": "2021-08-29T13:45:12.154236",
     "exception": false,
     "start_time": "2021-08-29T13:45:12.118982",
     "status": "completed"
    },
    "tags": []
   },
   "source": [
    "ของ data ใน *train ของ Hold out และ CV"
   ]
  },
  {
   "cell_type": "code",
   "execution_count": 16,
   "id": "219e40c5",
   "metadata": {
    "execution": {
     "iopub.execute_input": "2021-08-29T13:45:12.228451Z",
     "iopub.status.busy": "2021-08-29T13:45:12.227884Z",
     "iopub.status.idle": "2021-08-29T13:45:12.232392Z",
     "shell.execute_reply": "2021-08-29T13:45:12.232908Z",
     "shell.execute_reply.started": "2021-08-29T11:14:40.069278Z"
    },
    "papermill": {
     "duration": 0.043581,
     "end_time": "2021-08-29T13:45:12.233070",
     "exception": false,
     "start_time": "2021-08-29T13:45:12.189489",
     "status": "completed"
    },
    "tags": []
   },
   "outputs": [],
   "source": [
    "from sklearn.model_selection import train_test_split \n",
    "X_train, X_test, y_train, y_test = train_test_split(X,y,test_size=0.2,random_state=0)"
   ]
  },
  {
   "cell_type": "code",
   "execution_count": 17,
   "id": "6a018e02",
   "metadata": {
    "execution": {
     "iopub.execute_input": "2021-08-29T13:45:12.310337Z",
     "iopub.status.busy": "2021-08-29T13:45:12.309716Z",
     "iopub.status.idle": "2021-08-29T13:45:12.312910Z",
     "shell.execute_reply": "2021-08-29T13:45:12.313329Z",
     "shell.execute_reply.started": "2021-08-29T11:14:41.410697Z"
    },
    "papermill": {
     "duration": 0.043644,
     "end_time": "2021-08-29T13:45:12.313480",
     "exception": false,
     "start_time": "2021-08-29T13:45:12.269836",
     "status": "completed"
    },
    "tags": []
   },
   "outputs": [],
   "source": [
    "# normali X_train_norm, X_test_norm\n",
    "from sklearn.preprocessing import MinMaxScaler\n",
    "scaler = MinMaxScaler(feature_range=(0, 1)) \n",
    "scaler.fit(X_train) \n",
    "X_train_norm = scaler.transform(X_train)\n",
    "X_test_norm = scaler.transform(X_test)"
   ]
  },
  {
   "cell_type": "code",
   "execution_count": 18,
   "id": "da16d5f5",
   "metadata": {
    "execution": {
     "iopub.execute_input": "2021-08-29T13:45:12.389889Z",
     "iopub.status.busy": "2021-08-29T13:45:12.389275Z",
     "iopub.status.idle": "2021-08-29T13:45:12.397668Z",
     "shell.execute_reply": "2021-08-29T13:45:12.398325Z",
     "shell.execute_reply.started": "2021-08-29T11:15:39.125346Z"
    },
    "papermill": {
     "duration": 0.049578,
     "end_time": "2021-08-29T13:45:12.398538",
     "exception": false,
     "start_time": "2021-08-29T13:45:12.348960",
     "status": "completed"
    },
    "tags": []
   },
   "outputs": [
    {
     "name": "stdout",
     "output_type": "stream",
     "text": [
      "Test accuracy : 0.8761904761904762\n"
     ]
    }
   ],
   "source": [
    "#model\n",
    "from sklearn.linear_model import LogisticRegression\n",
    "clf = LogisticRegression(random_state=0, solver='liblinear')\n",
    "clf.fit(X_train_norm, y_train)\n",
    "yp = clf.predict(X_test_norm) # X_test_norm\n",
    "acc = sum(yp == y_test)/len(y_test)\n",
    "print(\"Test accuracy : \"+str(acc))"
   ]
  },
  {
   "cell_type": "markdown",
   "id": "ef029c02",
   "metadata": {
    "papermill": {
     "duration": 0.035533,
     "end_time": "2021-08-29T13:45:12.470565",
     "exception": false,
     "start_time": "2021-08-29T13:45:12.435032",
     "status": "completed"
    },
    "tags": []
   },
   "source": [
    "-----------------\n",
    "**HOLD OUT** Trainging accuracy : 0.817 <br>\n",
    "**10CV** Training accuracy : 0.813  <br><br>\n",
    "\n",
    "**Test accuracy** : 0.8761904761904762<br>\n"
   ]
  },
  {
   "cell_type": "markdown",
   "id": "9a8634b3",
   "metadata": {
    "papermill": {
     "duration": 0.035485,
     "end_time": "2021-08-29T13:45:12.541905",
     "exception": false,
     "start_time": "2021-08-29T13:45:12.506420",
     "status": "completed"
    },
    "tags": []
   },
   "source": [
    "-------------------------\n"
   ]
  },
  {
   "cell_type": "markdown",
   "id": "699bc88f",
   "metadata": {
    "papermill": {
     "duration": 0.035662,
     "end_time": "2021-08-29T13:45:12.613155",
     "exception": false,
     "start_time": "2021-08-29T13:45:12.577493",
     "status": "completed"
    },
    "tags": []
   },
   "source": [
    "pre processing ที่ควรทำ (เพิ่มจากweekเก่า)"
   ]
  },
  {
   "cell_type": "code",
   "execution_count": 19,
   "id": "46d27f19",
   "metadata": {
    "execution": {
     "iopub.execute_input": "2021-08-29T13:45:12.692384Z",
     "iopub.status.busy": "2021-08-29T13:45:12.689106Z",
     "iopub.status.idle": "2021-08-29T13:45:12.696493Z",
     "shell.execute_reply": "2021-08-29T13:45:12.695952Z",
     "shell.execute_reply.started": "2021-08-29T11:22:32.755251Z"
    },
    "papermill": {
     "duration": 0.047571,
     "end_time": "2021-08-29T13:45:12.696629",
     "exception": false,
     "start_time": "2021-08-29T13:45:12.649058",
     "status": "completed"
    },
    "tags": []
   },
   "outputs": [
    {
     "data": {
      "text/plain": [
       "age               81.065940\n",
       "parity             1.795348\n",
       "hiv                0.006936\n",
       "menopaus           0.207860\n",
       "disease            0.215740\n",
       "surgery            0.234638\n",
       "conization         0.226518\n",
       "OPDsize            3.664245\n",
       "appearance         2.997285\n",
       "stage              1.383333\n",
       "pchemo             0.149920\n",
       "Wardsize           3.361144\n",
       "finalhisto         0.744274\n",
       "nodeyiel         114.208070\n",
       "RHlvsi        231725.557678\n",
       "depth              0.509143\n",
       "size               3.207926\n",
       "utmet              0.153174\n",
       "vgmargin           0.189784\n",
       "vgmet              0.357326\n",
       "pelvicme           0.388821\n",
       "pmmet              0.146025\n",
       "adnmet             0.732903\n",
       "dtype: float64"
      ]
     },
     "execution_count": 19,
     "metadata": {},
     "output_type": "execute_result"
    }
   ],
   "source": [
    "df.var(axis=0) # 0 คือ คอลลัม\n",
    "# hiv  0.006936 แปลว่า ไม่ว่ามันจะอยู่กลุ่มไหนค่ามันก็จะเป็นแค่ค่าเดียว ค่าเดิม (เหมือนๆกันหมดทุกโรล) เอาไปเปรียบเทียบกับกลุ่มอื่นๆไมไ่ด้"
   ]
  },
  {
   "cell_type": "code",
   "execution_count": 20,
   "id": "3e2a63dc",
   "metadata": {
    "execution": {
     "iopub.execute_input": "2021-08-29T13:45:12.776379Z",
     "iopub.status.busy": "2021-08-29T13:45:12.775426Z",
     "iopub.status.idle": "2021-08-29T13:45:12.779526Z",
     "shell.execute_reply": "2021-08-29T13:45:12.779085Z",
     "shell.execute_reply.started": "2021-08-29T11:22:39.922715Z"
    },
    "papermill": {
     "duration": 0.046558,
     "end_time": "2021-08-29T13:45:12.779659",
     "exception": false,
     "start_time": "2021-08-29T13:45:12.733101",
     "status": "completed"
    },
    "tags": []
   },
   "outputs": [
    {
     "data": {
      "text/plain": [
       "hn\n",
       "2631840    0.0\n",
       "2633481    0.0\n",
       "2634477    0.0\n",
       "2633633    0.0\n",
       "2630496    0.0\n",
       "          ... \n",
       "3169688    0.0\n",
       "3167041    0.0\n",
       "2623351    0.0\n",
       "3302539    0.0\n",
       "3855674    0.0\n",
       "Name: hiv, Length: 1723, dtype: float64"
      ]
     },
     "execution_count": 20,
     "metadata": {},
     "output_type": "execute_result"
    }
   ],
   "source": [
    "df['hiv'] # เท่ากับ0 เป็นค่าคงที่ เอาออกเลย ไม่มีประโยชน์ในการทำ"
   ]
  },
  {
   "cell_type": "code",
   "execution_count": 21,
   "id": "356347fc",
   "metadata": {
    "execution": {
     "iopub.execute_input": "2021-08-29T13:45:12.857719Z",
     "iopub.status.busy": "2021-08-29T13:45:12.857143Z",
     "iopub.status.idle": "2021-08-29T13:45:12.860023Z",
     "shell.execute_reply": "2021-08-29T13:45:12.860536Z",
     "shell.execute_reply.started": "2021-08-29T11:27:10.801176Z"
    },
    "papermill": {
     "duration": 0.044812,
     "end_time": "2021-08-29T13:45:12.860699",
     "exception": false,
     "start_time": "2021-08-29T13:45:12.815887",
     "status": "completed"
    },
    "tags": []
   },
   "outputs": [
    {
     "data": {
      "text/plain": [
       "(1723, 23)"
      ]
     },
     "execution_count": 21,
     "metadata": {},
     "output_type": "execute_result"
    }
   ],
   "source": [
    "df.shape # ดูว่ามีข้อมูลเท่่าไหร่"
   ]
  },
  {
   "cell_type": "code",
   "execution_count": 22,
   "id": "1739a3a9",
   "metadata": {
    "execution": {
     "iopub.execute_input": "2021-08-29T13:45:12.935796Z",
     "iopub.status.busy": "2021-08-29T13:45:12.935227Z",
     "iopub.status.idle": "2021-08-29T13:45:12.950467Z",
     "shell.execute_reply": "2021-08-29T13:45:12.950032Z",
     "shell.execute_reply.started": "2021-08-29T13:21:42.454843Z"
    },
    "papermill": {
     "duration": 0.053821,
     "end_time": "2021-08-29T13:45:12.950596",
     "exception": false,
     "start_time": "2021-08-29T13:45:12.896775",
     "status": "completed"
    },
    "tags": []
   },
   "outputs": [
    {
     "data": {
      "text/plain": [
       "(1723, 23)"
      ]
     },
     "execution_count": 22,
     "metadata": {},
     "output_type": "execute_result"
    }
   ],
   "source": [
    "# ดรอบ โรลข้อมูลซ้่ำ\n",
    "df_nodup = df.drop_duplicates()\n",
    "df_nodup.shape # ได้เท่าเดิม แปลว่าไม่มีข้อมูลซ้ำ"
   ]
  },
  {
   "cell_type": "code",
   "execution_count": 23,
   "id": "9a878eb3",
   "metadata": {
    "execution": {
     "iopub.execute_input": "2021-08-29T13:45:13.026327Z",
     "iopub.status.busy": "2021-08-29T13:45:13.025740Z",
     "iopub.status.idle": "2021-08-29T13:45:13.043658Z",
     "shell.execute_reply": "2021-08-29T13:45:13.043067Z",
     "shell.execute_reply.started": "2021-08-29T13:21:44.300363Z"
    },
    "papermill": {
     "duration": 0.056907,
     "end_time": "2021-08-29T13:45:13.043793",
     "exception": false,
     "start_time": "2021-08-29T13:45:12.986886",
     "status": "completed"
    },
    "tags": []
   },
   "outputs": [
    {
     "data": {
      "text/plain": [
       "age         age           1.000000\n",
       "finalhisto  finalhisto    1.000000\n",
       "menopaus    menopaus      1.000000\n",
       "disease     disease       1.000000\n",
       "surgery     surgery       1.000000\n",
       "conization  conization    1.000000\n",
       "OPDsize     OPDsize       1.000000\n",
       "appearance  appearance    1.000000\n",
       "stage       stage         1.000000\n",
       "pchemo      pchemo        1.000000\n",
       "nodeyiel    nodeyiel      1.000000\n",
       "parity      parity        1.000000\n",
       "RHlvsi      RHlvsi        1.000000\n",
       "depth       depth         1.000000\n",
       "size        size          1.000000\n",
       "utmet       utmet         1.000000\n",
       "vgmargin    vgmargin      1.000000\n",
       "vgmet       vgmet         1.000000\n",
       "pelvicme    pelvicme      1.000000\n",
       "pmmet       pmmet         1.000000\n",
       "hiv         hiv           1.000000\n",
       "Wardsize    Wardsize      1.000000\n",
       "adnmet      adnmet        1.000000\n",
       "OPDsize     Wardsize      0.875699\n",
       "Wardsize    OPDsize       0.875699\n",
       "size        Wardsize      0.804733\n",
       "Wardsize    size          0.804733\n",
       "appearance  conization    0.794773\n",
       "conization  appearance    0.794773\n",
       "age         menopaus      0.721046\n",
       "menopaus    age           0.721046\n",
       "OPDsize     size          0.717119\n",
       "size        OPDsize       0.717119\n",
       "OPDsize     stage         0.593974\n",
       "stage       OPDsize       0.593974\n",
       "Wardsize    stage         0.561104\n",
       "stage       Wardsize      0.561104\n",
       "size        stage         0.505345\n",
       "stage       size          0.505345\n",
       "vgmet       vgmargin      0.500983\n",
       "vgmargin    vgmet         0.500983\n",
       "depth       size          0.450857\n",
       "size        depth         0.450857\n",
       "            pmmet         0.398485\n",
       "pmmet       size          0.398485\n",
       "pchemo      OPDsize       0.372687\n",
       "OPDsize     pchemo        0.372687\n",
       "depth       Wardsize      0.339828\n",
       "Wardsize    depth         0.339828\n",
       "disease     age           0.323504\n",
       "dtype: float64"
      ]
     },
     "execution_count": 23,
     "metadata": {},
     "output_type": "execute_result"
    }
   ],
   "source": [
    "# หา correlation ขเ้อมูลที่คล้ายกันมากๆ ยิ่งใกล้1ยิ่งคล้าย\n",
    "s = df.corr().unstack()\n",
    "so = s.sort_values(ascending=False)\n",
    "so[0:50]\n",
    "# OPDsize  Wardsize  0.875699 ยังถือว่า โอเค แต่ถ้า 0.97-0.98 เราต้องไปถามละว่ามันคืออันเดียวกันไหม มันซ้ำซ้อนกันรึเปล่า ถ้าซ้ำก็เอาออก\n",
    "\n",
    "#  ถ้า training acc ูสูงเกิน 95% ให้คิดเลยว่าต้องมีอะไรผิด    \n",
    "#  หลักๆเลยคือ ให้ไปดู correlation ระว่าง feature กะับ label ถ้าเข้าใกล้ 1 **แสดงว่า feature นั้นคือ label **แต่เราเอามาเป็น feature"
   ]
  },
  {
   "cell_type": "code",
   "execution_count": 24,
   "id": "be67674b",
   "metadata": {
    "execution": {
     "iopub.execute_input": "2021-08-29T13:45:13.125711Z",
     "iopub.status.busy": "2021-08-29T13:45:13.124931Z",
     "iopub.status.idle": "2021-08-29T13:45:13.128894Z",
     "shell.execute_reply": "2021-08-29T13:45:13.128322Z",
     "shell.execute_reply.started": "2021-08-29T11:32:57.768259Z"
    },
    "papermill": {
     "duration": 0.047832,
     "end_time": "2021-08-29T13:45:13.129026",
     "exception": false,
     "start_time": "2021-08-29T13:45:13.081194",
     "status": "completed"
    },
    "tags": []
   },
   "outputs": [
    {
     "data": {
      "text/plain": [
       "hiv         hiv           1.000000\n",
       "Wardsize    Wardsize      1.000000\n",
       "adnmet      adnmet        1.000000\n",
       "OPDsize     Wardsize      0.875699\n",
       "Wardsize    OPDsize       0.875699\n",
       "size        Wardsize      0.804733\n",
       "Wardsize    size          0.804733\n",
       "appearance  conization    0.794773\n",
       "conization  appearance    0.794773\n",
       "age         menopaus      0.721046\n",
       "dtype: float64"
      ]
     },
     "execution_count": 24,
     "metadata": {},
     "output_type": "execute_result"
    }
   ],
   "source": [
    "so[20:30]"
   ]
  },
  {
   "cell_type": "markdown",
   "id": "277091c4",
   "metadata": {
    "papermill": {
     "duration": 0.037023,
     "end_time": "2021-08-29T13:45:13.203718",
     "exception": false,
     "start_time": "2021-08-29T13:45:13.166695",
     "status": "completed"
    },
    "tags": []
   },
   "source": [
    "-----------------\n",
    "\n",
    "# Feature Reduction"
   ]
  },
  {
   "cell_type": "markdown",
   "id": "1e5924b7",
   "metadata": {
    "papermill": {
     "duration": 0.038186,
     "end_time": "2021-08-29T13:45:13.280674",
     "exception": false,
     "start_time": "2021-08-29T13:45:13.242488",
     "status": "completed"
    },
    "tags": []
   },
   "source": [
    "ไม่แนะนำให้ยุบ เพราะ เวลายุบ ความหมายจะ หาย ทำให้ตอบไม่ได้ว่าfeatureตัวไหนมีผลกับการหาค่า <br>\n",
    "ทำแล้วโมเดลอาจแม่นขึ้น แต่ส่วนใหญ่แม่นน้อยลง"
   ]
  },
  {
   "cell_type": "markdown",
   "id": "3bde91ee",
   "metadata": {
    "papermill": {
     "duration": 0.037102,
     "end_time": "2021-08-29T13:45:13.355165",
     "exception": false,
     "start_time": "2021-08-29T13:45:13.318063",
     "status": "completed"
    },
    "tags": []
   },
   "source": [
    "# PCA - Principle Component Analysis"
   ]
  },
  {
   "cell_type": "code",
   "execution_count": 25,
   "id": "e5a9a86c",
   "metadata": {
    "execution": {
     "iopub.execute_input": "2021-08-29T13:45:13.432962Z",
     "iopub.status.busy": "2021-08-29T13:45:13.432364Z",
     "iopub.status.idle": "2021-08-29T13:45:13.436337Z",
     "shell.execute_reply": "2021-08-29T13:45:13.436780Z",
     "shell.execute_reply.started": "2021-08-29T11:58:14.24948Z"
    },
    "papermill": {
     "duration": 0.044517,
     "end_time": "2021-08-29T13:45:13.436958",
     "exception": false,
     "start_time": "2021-08-29T13:45:13.392441",
     "status": "completed"
    },
    "tags": []
   },
   "outputs": [
    {
     "data": {
      "text/plain": [
       "(1256, 13)"
      ]
     },
     "execution_count": 25,
     "metadata": {},
     "output_type": "execute_result"
    }
   ],
   "source": [
    "X_train.shape"
   ]
  },
  {
   "cell_type": "code",
   "execution_count": 26,
   "id": "0105f478",
   "metadata": {
    "execution": {
     "iopub.execute_input": "2021-08-29T13:45:13.515626Z",
     "iopub.status.busy": "2021-08-29T13:45:13.514641Z",
     "iopub.status.idle": "2021-08-29T13:45:13.604245Z",
     "shell.execute_reply": "2021-08-29T13:45:13.604714Z",
     "shell.execute_reply.started": "2021-08-29T11:58:36.68688Z"
    },
    "papermill": {
     "duration": 0.130657,
     "end_time": "2021-08-29T13:45:13.604892",
     "exception": false,
     "start_time": "2021-08-29T13:45:13.474235",
     "status": "completed"
    },
    "tags": []
   },
   "outputs": [],
   "source": [
    "# ปกติมักทำก่อน normalization\n",
    "from sklearn.decomposition import PCA\n",
    "pca = PCA(n_components = 5) # ลดFeatureจาก13 ให้เหลือ5\n",
    "pca.fit(X_train)\n",
    "X_train_pca = pca.transform(X_train)\n",
    "X_test_pca = pca.transform(X_test)\n",
    "\n",
    "# normalization\n",
    "from sklearn.preprocessing import MinMaxScaler\n",
    "scaler = MinMaxScaler(feature_range=(0, 1))\n",
    "scaler.fit(X_train_pca)\n",
    "X_train_norm = scaler.transform(X_train_pca)\n",
    "X_test_norm = scaler.transform(X_test_pca)"
   ]
  },
  {
   "cell_type": "code",
   "execution_count": 27,
   "id": "1bfd8b9d",
   "metadata": {
    "execution": {
     "iopub.execute_input": "2021-08-29T13:45:13.682894Z",
     "iopub.status.busy": "2021-08-29T13:45:13.681973Z",
     "iopub.status.idle": "2021-08-29T13:45:13.691824Z",
     "shell.execute_reply": "2021-08-29T13:45:13.692326Z",
     "shell.execute_reply.started": "2021-08-29T11:58:40.035101Z"
    },
    "papermill": {
     "duration": 0.050335,
     "end_time": "2021-08-29T13:45:13.692488",
     "exception": false,
     "start_time": "2021-08-29T13:45:13.642153",
     "status": "completed"
    },
    "tags": []
   },
   "outputs": [
    {
     "name": "stdout",
     "output_type": "stream",
     "text": [
      "Test accuracy : 0.8507936507936508\n"
     ]
    }
   ],
   "source": [
    "from sklearn.linear_model import LogisticRegression\n",
    "clf = LogisticRegression(random_state=0, solver='liblinear')\n",
    "clf.fit(X_train_norm, y_train)\n",
    "yp = clf.predict(X_test_norm)\n",
    "acc = sum(yp == y_test)/len(y_test)\n",
    "print(\"Test accuracy : \"+str(acc))"
   ]
  },
  {
   "cell_type": "markdown",
   "id": "0804853c",
   "metadata": {
    "papermill": {
     "duration": 0.037501,
     "end_time": "2021-08-29T13:45:13.767612",
     "exception": false,
     "start_time": "2021-08-29T13:45:13.730111",
     "status": "completed"
    },
    "tags": []
   },
   "source": [
    "# t-SNE "
   ]
  },
  {
   "cell_type": "code",
   "execution_count": 28,
   "id": "62ad3ac8",
   "metadata": {
    "execution": {
     "iopub.execute_input": "2021-08-29T13:45:13.849464Z",
     "iopub.status.busy": "2021-08-29T13:45:13.848775Z",
     "iopub.status.idle": "2021-08-29T13:45:26.833978Z",
     "shell.execute_reply": "2021-08-29T13:45:26.834794Z",
     "shell.execute_reply.started": "2021-08-29T12:04:33.108344Z"
    },
    "papermill": {
     "duration": 13.028803,
     "end_time": "2021-08-29T13:45:26.835038",
     "exception": false,
     "start_time": "2021-08-29T13:45:13.806235",
     "status": "completed"
    },
    "tags": []
   },
   "outputs": [],
   "source": [
    "from sklearn.manifold import TSNE\n",
    "tsne = TSNE(n_components = 2)\n",
    "tsne.fit(X_train)\n",
    "X_train_tsne = tsne.fit_transform(X_train)\n",
    "X_test_tsne = tsne.fit_transform(X_test)\n",
    "\n",
    "from sklearn.preprocessing import MinMaxScaler\n",
    "scaler = MinMaxScaler(feature_range=(0, 1))\n",
    "scaler.fit(X_train_tsne)\n",
    "X_train_norm = scaler.transform(X_train_tsne)\n",
    "X_test_norm = scaler.transform(X_test_tsne)"
   ]
  },
  {
   "cell_type": "code",
   "execution_count": 29,
   "id": "f40e31f4",
   "metadata": {
    "execution": {
     "iopub.execute_input": "2021-08-29T13:45:26.916793Z",
     "iopub.status.busy": "2021-08-29T13:45:26.915827Z",
     "iopub.status.idle": "2021-08-29T13:45:26.926458Z",
     "shell.execute_reply": "2021-08-29T13:45:26.925726Z",
     "shell.execute_reply.started": "2021-08-29T12:04:49.483057Z"
    },
    "papermill": {
     "duration": 0.052919,
     "end_time": "2021-08-29T13:45:26.926649",
     "exception": false,
     "start_time": "2021-08-29T13:45:26.873730",
     "status": "completed"
    },
    "tags": []
   },
   "outputs": [
    {
     "name": "stdout",
     "output_type": "stream",
     "text": [
      "Test accuracy : 0.8507936507936508\n"
     ]
    }
   ],
   "source": [
    "from sklearn.linear_model import LogisticRegression\n",
    "clf = LogisticRegression(random_state=0, solver='liblinear')\n",
    "clf.fit(X_train_norm, y_train)\n",
    "yp = clf.predict(X_test_norm)\n",
    "acc = sum(yp == y_test)/len(y_test)\n",
    "print(\"Test accuracy : \"+str(acc))"
   ]
  },
  {
   "cell_type": "markdown",
   "id": "7ee00d0f",
   "metadata": {
    "papermill": {
     "duration": 0.037999,
     "end_time": "2021-08-29T13:45:27.004065",
     "exception": false,
     "start_time": "2021-08-29T13:45:26.966066",
     "status": "completed"
    },
    "tags": []
   },
   "source": [
    "-----------------------\n",
    "# Feature Selection <br>สำคัญมาก"
   ]
  },
  {
   "cell_type": "markdown",
   "id": "4fc53014",
   "metadata": {
    "papermill": {
     "duration": 0.038469,
     "end_time": "2021-08-29T13:45:27.080893",
     "exception": false,
     "start_time": "2021-08-29T13:45:27.042424",
     "status": "completed"
    },
    "tags": []
   },
   "source": [
    "เลือก Feature ที่มีความสำคัญมากๆ มาใช้ "
   ]
  },
  {
   "cell_type": "markdown",
   "id": "9a96a247",
   "metadata": {
    "papermill": {
     "duration": 0.038009,
     "end_time": "2021-08-29T13:45:27.157192",
     "exception": false,
     "start_time": "2021-08-29T13:45:27.119183",
     "status": "completed"
    },
    "tags": []
   },
   "source": [
    "# Filter Method\n",
    "#  SelectKBest || Filter Method || ANOVA f-value"
   ]
  },
  {
   "cell_type": "code",
   "execution_count": 30,
   "id": "af59b2a9",
   "metadata": {
    "execution": {
     "iopub.execute_input": "2021-08-29T13:45:27.240084Z",
     "iopub.status.busy": "2021-08-29T13:45:27.239344Z",
     "iopub.status.idle": "2021-08-29T13:45:27.255477Z",
     "shell.execute_reply": "2021-08-29T13:45:27.254766Z",
     "shell.execute_reply.started": "2021-08-29T12:23:59.540387Z"
    },
    "papermill": {
     "duration": 0.060076,
     "end_time": "2021-08-29T13:45:27.255616",
     "exception": false,
     "start_time": "2021-08-29T13:45:27.195540",
     "status": "completed"
    },
    "tags": []
   },
   "outputs": [],
   "source": [
    "#feature_selection\n",
    "from sklearn.feature_selection import SelectKBest # SelectKBest เลือก Feature ที่ดีที่สุดตามค่า ที่เราสนใจออกมา K ตัว\n",
    "from sklearn.feature_selection import f_classif   # ANOVA f-value\n",
    "fs = SelectKBest(f_classif, k=5)\n",
    "fs.fit(X_train, y_train)\n",
    "X_train_fs = fs.transform(X_train)\n",
    "X_test_fs = fs.transform(X_test)\n",
    "\n",
    "# normalization\n",
    "from sklearn.preprocessing import MinMaxScaler\n",
    "scaler = MinMaxScaler(feature_range=(0, 1))\n",
    "scaler.fit(X_train_fs)\n",
    "X_train_norm = scaler.transform(X_train_fs)\n",
    "X_test_norm = scaler.transform(X_test_fs)"
   ]
  },
  {
   "cell_type": "code",
   "execution_count": 31,
   "id": "b5ba1ae9",
   "metadata": {
    "execution": {
     "iopub.execute_input": "2021-08-29T13:45:27.338679Z",
     "iopub.status.busy": "2021-08-29T13:45:27.338019Z",
     "iopub.status.idle": "2021-08-29T13:45:27.340906Z",
     "shell.execute_reply": "2021-08-29T13:45:27.341356Z",
     "shell.execute_reply.started": "2021-08-29T12:20:20.126494Z"
    },
    "papermill": {
     "duration": 0.046333,
     "end_time": "2021-08-29T13:45:27.341515",
     "exception": false,
     "start_time": "2021-08-29T13:45:27.295182",
     "status": "completed"
    },
    "tags": []
   },
   "outputs": [
    {
     "data": {
      "text/plain": [
       "array([ 7,  8, 11,  6, 12,  3,  0, 10,  4,  9,  5,  2,  1])"
      ]
     },
     "execution_count": 31,
     "metadata": {},
     "output_type": "execute_result"
    }
   ],
   "source": [
    "# ดูว่าเลือก Feature อะไรมาบ้าง\n",
    "\n",
    "np.argsort(-fs.scores_)\n",
    "\n",
    "# ก็คือเอาคะแนนมากที่สุดมา 5 ตัว ดูโดยเรียงจากมากไปน้อย จะ ได้ Feature 7,  8, 11,  6, 12"
   ]
  },
  {
   "cell_type": "code",
   "execution_count": 32,
   "id": "aaaad6be",
   "metadata": {
    "execution": {
     "iopub.execute_input": "2021-08-29T13:45:27.421139Z",
     "iopub.status.busy": "2021-08-29T13:45:27.420469Z",
     "iopub.status.idle": "2021-08-29T13:45:27.429738Z",
     "shell.execute_reply": "2021-08-29T13:45:27.430163Z",
     "shell.execute_reply.started": "2021-08-29T12:19:27.426075Z"
    },
    "papermill": {
     "duration": 0.050211,
     "end_time": "2021-08-29T13:45:27.430342",
     "exception": false,
     "start_time": "2021-08-29T13:45:27.380131",
     "status": "completed"
    },
    "tags": []
   },
   "outputs": [
    {
     "name": "stdout",
     "output_type": "stream",
     "text": [
      "Test accuracy : 0.8603174603174604\n"
     ]
    }
   ],
   "source": [
    "from sklearn.linear_model import LogisticRegression\n",
    "clf = LogisticRegression(random_state=0, solver='liblinear')\n",
    "clf.fit(X_train_norm, y_train)\n",
    "yp = clf.predict(X_test_norm)\n",
    "acc = sum(yp == y_test)/len(y_test)\n",
    "print(\"Test accuracy : \"+str(acc))"
   ]
  },
  {
   "cell_type": "markdown",
   "id": "346559e6",
   "metadata": {
    "papermill": {
     "duration": 0.040178,
     "end_time": "2021-08-29T13:45:27.509813",
     "exception": false,
     "start_time": "2021-08-29T13:45:27.469635",
     "status": "completed"
    },
    "tags": []
   },
   "source": [
    "# Wrapper Method\n",
    "sklearn v.ไม่ถึง ต้องอัพเป็น 0.2.4 + ยังไม่มีfunctionในสื่อการสอน รอก่อน"
   ]
  },
  {
   "cell_type": "markdown",
   "id": "143383e8",
   "metadata": {
    "papermill": {
     "duration": 0.039477,
     "end_time": "2021-08-29T13:45:27.588953",
     "exception": false,
     "start_time": "2021-08-29T13:45:27.549476",
     "status": "completed"
    },
    "tags": []
   },
   "source": [
    "# Embedded Method\n",
    "Ex. Random forest"
   ]
  },
  {
   "cell_type": "markdown",
   "id": "3940e9b3",
   "metadata": {
    "papermill": {
     "duration": 0.038276,
     "end_time": "2021-08-29T13:45:27.665763",
     "exception": false,
     "start_time": "2021-08-29T13:45:27.627487",
     "status": "completed"
    },
    "tags": []
   },
   "source": [
    "----------------"
   ]
  },
  {
   "cell_type": "code",
   "execution_count": 33,
   "id": "481f283a",
   "metadata": {
    "execution": {
     "iopub.execute_input": "2021-08-29T13:45:27.745805Z",
     "iopub.status.busy": "2021-08-29T13:45:27.745235Z",
     "iopub.status.idle": "2021-08-29T13:45:27.886792Z",
     "shell.execute_reply": "2021-08-29T13:45:27.886289Z",
     "shell.execute_reply.started": "2021-08-29T12:45:54.118759Z"
    },
    "papermill": {
     "duration": 0.182697,
     "end_time": "2021-08-29T13:45:27.886940",
     "exception": false,
     "start_time": "2021-08-29T13:45:27.704243",
     "status": "completed"
    },
    "tags": []
   },
   "outputs": [
    {
     "data": {
      "text/plain": [
       "Pipeline(steps=[('scaler', MinMaxScaler()),\n",
       "                ('feature_selection', SelectKBest(k=5)),\n",
       "                ('classification',\n",
       "                 LogisticRegression(random_state=0, solver='liblinear'))])"
      ]
     },
     "execution_count": 33,
     "metadata": {},
     "output_type": "execute_result"
    }
   ],
   "source": [
    "from imblearn.over_sampling import SMOTE\n",
    "sm = SMOTE(random_state=1)\n",
    "X_res, y_res = sm.fit_resample(X_train, y_train)\n",
    "\n",
    "from sklearn.pipeline import Pipeline\n",
    "clf = Pipeline([\n",
    "  ('scaler', MinMaxScaler(feature_range=(0, 1))),\n",
    "  ('feature_selection', SelectKBest(f_classif, k=5)),\n",
    "  ('classification', LogisticRegression(random_state=0, solver='liblinear'))\n",
    "])\n",
    "clf.fit(X_res, y_res)"
   ]
  },
  {
   "cell_type": "code",
   "execution_count": 34,
   "id": "71f32562",
   "metadata": {
    "execution": {
     "iopub.execute_input": "2021-08-29T13:45:27.970296Z",
     "iopub.status.busy": "2021-08-29T13:45:27.969353Z",
     "iopub.status.idle": "2021-08-29T13:45:27.974761Z",
     "shell.execute_reply": "2021-08-29T13:45:27.975434Z",
     "shell.execute_reply.started": "2021-08-29T12:45:56.119448Z"
    },
    "papermill": {
     "duration": 0.049552,
     "end_time": "2021-08-29T13:45:27.975650",
     "exception": false,
     "start_time": "2021-08-29T13:45:27.926098",
     "status": "completed"
    },
    "tags": []
   },
   "outputs": [
    {
     "name": "stdout",
     "output_type": "stream",
     "text": [
      "Test accuracy : 0.765079365079365\n"
     ]
    }
   ],
   "source": [
    "yp = clf.predict(X_test)\n",
    "acc = sum(yp == y_test)/len(y_test)\n",
    "print(\"Test accuracy : \"+str(acc))"
   ]
  },
  {
   "cell_type": "markdown",
   "id": "af76ecbd",
   "metadata": {
    "papermill": {
     "duration": 0.039107,
     "end_time": "2021-08-29T13:45:28.056340",
     "exception": false,
     "start_time": "2021-08-29T13:45:28.017233",
     "status": "completed"
    },
    "tags": []
   },
   "source": [
    "# Assignment"
   ]
  },
  {
   "cell_type": "markdown",
   "id": "11b329cf",
   "metadata": {
    "papermill": {
     "duration": 0.039177,
     "end_time": "2021-08-29T13:45:28.136819",
     "exception": false,
     "start_time": "2021-08-29T13:45:28.097642",
     "status": "completed"
    },
    "tags": []
   },
   "source": [
    "# Feature Reduction + Feature Selection + Imbalance + Pipeline "
   ]
  },
  {
   "cell_type": "code",
   "execution_count": 35,
   "id": "92c3dd0f",
   "metadata": {
    "execution": {
     "iopub.execute_input": "2021-08-29T13:45:28.222489Z",
     "iopub.status.busy": "2021-08-29T13:45:28.221838Z",
     "iopub.status.idle": "2021-08-29T13:45:28.225042Z",
     "shell.execute_reply": "2021-08-29T13:45:28.224398Z",
     "shell.execute_reply.started": "2021-08-29T13:27:17.360854Z"
    },
    "papermill": {
     "duration": 0.048853,
     "end_time": "2021-08-29T13:45:28.225186",
     "exception": false,
     "start_time": "2021-08-29T13:45:28.176333",
     "status": "completed"
    },
    "tags": []
   },
   "outputs": [],
   "source": [
    "from sklearn.model_selection import train_test_split\n",
    "X_train, X_test, y_train, y_test = train_test_split(X,y,test_size=0.2,random_state=0) "
   ]
  },
  {
   "cell_type": "code",
   "execution_count": 36,
   "id": "f9c51b54",
   "metadata": {
    "execution": {
     "iopub.execute_input": "2021-08-29T13:45:28.311959Z",
     "iopub.status.busy": "2021-08-29T13:45:28.311352Z",
     "iopub.status.idle": "2021-08-29T13:45:59.733285Z",
     "shell.execute_reply": "2021-08-29T13:45:59.733749Z",
     "shell.execute_reply.started": "2021-08-29T13:31:46.659899Z"
    },
    "papermill": {
     "duration": 31.469389,
     "end_time": "2021-08-29T13:45:59.733928",
     "exception": false,
     "start_time": "2021-08-29T13:45:28.264539",
     "status": "completed"
    },
    "tags": []
   },
   "outputs": [
    {
     "data": {
      "text/plain": [
       "Pipeline(steps=[('decomposition', PCA(n_components=5)),\n",
       "                ('scaler', MinMaxScaler()),\n",
       "                ('feature_selection', SelectKBest(k=5)),\n",
       "                ('classification',\n",
       "                 GridSearchCV(cv=10, estimator=SVC(random_state=0),\n",
       "                              param_grid={'C': [0.1, 1, 10],\n",
       "                                          'break_ties': ['True'],\n",
       "                                          'gamma': [0.0001, 0.002, 0.04, 0.8,\n",
       "                                                    1.8, 3.2, 5, 10]}))])"
      ]
     },
     "execution_count": 36,
     "metadata": {},
     "output_type": "execute_result"
    }
   ],
   "source": [
    "from sklearn.decomposition import PCA\n",
    "from sklearn.preprocessing import MinMaxScaler\n",
    "from sklearn.feature_selection import SelectKBest \n",
    "from sklearn.feature_selection import f_classif  \n",
    "from sklearn.svm import SVC\n",
    "from sklearn.model_selection import GridSearchCV\n",
    "from imblearn.over_sampling import SMOTE\n",
    "sm = SMOTE(random_state=1)\n",
    "X_res, y_res = sm.fit_resample(X_train, y_train)\n",
    "\n",
    "params = {\n",
    "    'C' : [0.1,1,10],\n",
    "    'gamma' : [0.0001,0.002,0.04,0.8,1.8,3.2,5,10],\n",
    "    'break_ties' : ['True']\n",
    "}\n",
    "\n",
    "from sklearn.pipeline import Pipeline\n",
    "clf = Pipeline([\n",
    "  ('decomposition', PCA(n_components = 5)),\n",
    "  ('scaler', MinMaxScaler(feature_range=(0, 1))), \n",
    "  ('feature_selection', SelectKBest(f_classif, k=5)),\n",
    "  ('classification', GridSearchCV(SVC(random_state=0),params, cv = 10))\n",
    "])\n",
    "clf.fit(X_res, y_res)"
   ]
  },
  {
   "cell_type": "code",
   "execution_count": 37,
   "id": "01487ef3",
   "metadata": {
    "execution": {
     "iopub.execute_input": "2021-08-29T13:45:59.816703Z",
     "iopub.status.busy": "2021-08-29T13:45:59.816100Z",
     "iopub.status.idle": "2021-08-29T13:50:06.942000Z",
     "shell.execute_reply": "2021-08-29T13:50:06.942484Z",
     "shell.execute_reply.started": "2021-08-29T13:32:57.638558Z"
    },
    "papermill": {
     "duration": 247.169767,
     "end_time": "2021-08-29T13:50:06.942652",
     "exception": false,
     "start_time": "2021-08-29T13:45:59.772885",
     "status": "completed"
    },
    "tags": []
   },
   "outputs": [
    {
     "name": "stdout",
     "output_type": "stream",
     "text": [
      "10CV Training Accuracy : 0.7390124342419895\n"
     ]
    }
   ],
   "source": [
    "from sklearn.model_selection import cross_val_score\n",
    "acc = cross_val_score(clf, X_res, y_res, cv=10)\n",
    "print(\"10CV Training Accuracy : \"+str(acc.mean()))"
   ]
  },
  {
   "cell_type": "code",
   "execution_count": 38,
   "id": "a3f1a34b",
   "metadata": {
    "execution": {
     "iopub.execute_input": "2021-08-29T13:50:07.025152Z",
     "iopub.status.busy": "2021-08-29T13:50:07.024223Z",
     "iopub.status.idle": "2021-08-29T13:50:07.043737Z",
     "shell.execute_reply": "2021-08-29T13:50:07.043099Z",
     "shell.execute_reply.started": "2021-08-29T13:36:51.439431Z"
    },
    "papermill": {
     "duration": 0.061791,
     "end_time": "2021-08-29T13:50:07.043901",
     "exception": false,
     "start_time": "2021-08-29T13:50:06.982110",
     "status": "completed"
    },
    "tags": []
   },
   "outputs": [
    {
     "name": "stdout",
     "output_type": "stream",
     "text": [
      "Test accuracy : 0.6793650793650794\n"
     ]
    }
   ],
   "source": [
    "yp = clf.predict(X_test)\n",
    "acc = sum(yp == y_test)/len(y_test)\n",
    "print(\"Test accuracy : \"+str(acc))"
   ]
  },
  {
   "cell_type": "markdown",
   "id": "458a268b",
   "metadata": {
    "papermill": {
     "duration": 0.039817,
     "end_time": "2021-08-29T13:50:07.124288",
     "exception": false,
     "start_time": "2021-08-29T13:50:07.084471",
     "status": "completed"
    },
    "tags": []
   },
   "source": [
    "-------------------"
   ]
  },
  {
   "cell_type": "markdown",
   "id": "eb10fb05",
   "metadata": {
    "papermill": {
     "duration": 0.04101,
     "end_time": "2021-08-29T13:50:07.205954",
     "exception": false,
     "start_time": "2021-08-29T13:50:07.164944",
     "status": "completed"
    },
    "tags": []
   },
   "source": [
    "# Feature Selection + Imbalance + Pipeline "
   ]
  },
  {
   "cell_type": "code",
   "execution_count": 39,
   "id": "c7e1ce71",
   "metadata": {
    "execution": {
     "iopub.execute_input": "2021-08-29T13:50:07.294308Z",
     "iopub.status.busy": "2021-08-29T13:50:07.293694Z",
     "iopub.status.idle": "2021-08-29T13:50:35.275746Z",
     "shell.execute_reply": "2021-08-29T13:50:35.275262Z",
     "shell.execute_reply.started": "2021-08-29T13:39:15.846513Z"
    },
    "papermill": {
     "duration": 28.029062,
     "end_time": "2021-08-29T13:50:35.275902",
     "exception": false,
     "start_time": "2021-08-29T13:50:07.246840",
     "status": "completed"
    },
    "tags": []
   },
   "outputs": [
    {
     "data": {
      "text/plain": [
       "Pipeline(steps=[('scaler', MinMaxScaler()),\n",
       "                ('feature_selection', SelectKBest(k=5)),\n",
       "                ('classification',\n",
       "                 GridSearchCV(cv=10, estimator=SVC(random_state=0),\n",
       "                              param_grid={'C': [0.1, 1, 10],\n",
       "                                          'break_ties': ['True'],\n",
       "                                          'gamma': [0.0001, 0.002, 0.04, 0.8,\n",
       "                                                    1.8, 3.2, 5, 10]}))])"
      ]
     },
     "execution_count": 39,
     "metadata": {},
     "output_type": "execute_result"
    }
   ],
   "source": [
    "from sklearn.preprocessing import MinMaxScaler\n",
    "from sklearn.feature_selection import SelectKBest \n",
    "from sklearn.feature_selection import f_classif  \n",
    "from sklearn.svm import SVC\n",
    "from sklearn.model_selection import GridSearchCV\n",
    "from imblearn.over_sampling import SMOTE\n",
    "sm = SMOTE(random_state=1)\n",
    "X_res, y_res = sm.fit_resample(X_train, y_train)\n",
    "\n",
    "params = {\n",
    "    'C' : [0.1,1,10],\n",
    "    'gamma' : [0.0001,0.002,0.04,0.8,1.8,3.2,5,10],\n",
    "    'break_ties' : ['True']\n",
    "}\n",
    "\n",
    "from sklearn.pipeline import Pipeline\n",
    "clf = Pipeline([\n",
    "  ('scaler', MinMaxScaler(feature_range=(0, 1))), \n",
    "  ('feature_selection', SelectKBest(f_classif, k=5)),\n",
    "  ('classification', GridSearchCV(SVC(random_state=0),params, cv = 10))\n",
    "])\n",
    "clf.fit(X_res, y_res)"
   ]
  },
  {
   "cell_type": "code",
   "execution_count": 40,
   "id": "321a1f7b",
   "metadata": {
    "execution": {
     "iopub.execute_input": "2021-08-29T13:50:35.361016Z",
     "iopub.status.busy": "2021-08-29T13:50:35.360380Z",
     "iopub.status.idle": "2021-08-29T13:54:24.133840Z",
     "shell.execute_reply": "2021-08-29T13:54:24.134332Z",
     "shell.execute_reply.started": "2021-08-29T13:39:58.683575Z"
    },
    "papermill": {
     "duration": 228.818368,
     "end_time": "2021-08-29T13:54:24.134515",
     "exception": false,
     "start_time": "2021-08-29T13:50:35.316147",
     "status": "completed"
    },
    "tags": []
   },
   "outputs": [
    {
     "name": "stdout",
     "output_type": "stream",
     "text": [
      "10CV Training Accuracy : 0.7860090865614537\n"
     ]
    }
   ],
   "source": [
    "from sklearn.model_selection import cross_val_score\n",
    "acc = cross_val_score(clf, X_res, y_res, cv=10)\n",
    "print(\"10CV Training Accuracy : \"+str(acc.mean()))"
   ]
  },
  {
   "cell_type": "code",
   "execution_count": 41,
   "id": "4a660b28",
   "metadata": {
    "execution": {
     "iopub.execute_input": "2021-08-29T13:54:24.221837Z",
     "iopub.status.busy": "2021-08-29T13:54:24.221254Z",
     "iopub.status.idle": "2021-08-29T13:54:24.235390Z",
     "shell.execute_reply": "2021-08-29T13:54:24.235814Z",
     "shell.execute_reply.started": "2021-08-29T13:43:39.934840Z"
    },
    "papermill": {
     "duration": 0.060775,
     "end_time": "2021-08-29T13:54:24.236011",
     "exception": false,
     "start_time": "2021-08-29T13:54:24.175236",
     "status": "completed"
    },
    "tags": []
   },
   "outputs": [
    {
     "name": "stdout",
     "output_type": "stream",
     "text": [
      "Test accuracy : 0.8666666666666667\n"
     ]
    }
   ],
   "source": [
    "yp = clf.predict(X_test)\n",
    "acc = sum(yp == y_test)/len(y_test)\n",
    "print(\"Test accuracy : \"+str(acc))"
   ]
  }
 ],
 "metadata": {
  "kernelspec": {
   "display_name": "Python 3",
   "language": "python",
   "name": "python3"
  },
  "language_info": {
   "codemirror_mode": {
    "name": "ipython",
    "version": 3
   },
   "file_extension": ".py",
   "mimetype": "text/x-python",
   "name": "python",
   "nbconvert_exporter": "python",
   "pygments_lexer": "ipython3",
   "version": "3.7.10"
  },
  "papermill": {
   "default_parameters": {},
   "duration": 563.553249,
   "end_time": "2021-08-29T13:54:24.987439",
   "environment_variables": {},
   "exception": null,
   "input_path": "__notebook__.ipynb",
   "output_path": "__notebook__.ipynb",
   "parameters": {},
   "start_time": "2021-08-29T13:45:01.434190",
   "version": "2.3.3"
  }
 },
 "nbformat": 4,
 "nbformat_minor": 5
}
