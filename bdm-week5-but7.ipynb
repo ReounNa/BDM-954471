{
 "cells": [
  {
   "cell_type": "code",
   "execution_count": 1,
   "id": "f0612c53",
   "metadata": {
    "execution": {
     "iopub.execute_input": "2021-10-12T19:50:37.032237Z",
     "iopub.status.busy": "2021-10-12T19:50:37.030977Z",
     "iopub.status.idle": "2021-10-12T19:50:37.040902Z",
     "shell.execute_reply": "2021-10-12T19:50:37.041386Z",
     "shell.execute_reply.started": "2021-08-20T03:42:56.039975Z"
    },
    "id": "aWHnvx9H8JPF",
    "papermill": {
     "duration": 0.05955,
     "end_time": "2021-10-12T19:50:37.041679",
     "exception": false,
     "start_time": "2021-10-12T19:50:36.982129",
     "status": "completed"
    },
    "tags": []
   },
   "outputs": [],
   "source": [
    "import pandas as pd\n",
    "import numpy as np"
   ]
  },
  {
   "cell_type": "markdown",
   "id": "6af3b47a",
   "metadata": {
    "id": "jntbWEiv8JPM",
    "papermill": {
     "duration": 0.043477,
     "end_time": "2021-10-12T19:50:37.129745",
     "exception": false,
     "start_time": "2021-10-12T19:50:37.086268",
     "status": "completed"
    },
    "tags": []
   },
   "source": [
    "# Read all data and set hn as index"
   ]
  },
  {
   "cell_type": "code",
   "execution_count": 2,
   "id": "8fd94305",
   "metadata": {
    "execution": {
     "iopub.execute_input": "2021-10-12T19:50:37.223228Z",
     "iopub.status.busy": "2021-10-12T19:50:37.222633Z",
     "iopub.status.idle": "2021-10-12T19:50:37.662614Z",
     "shell.execute_reply": "2021-10-12T19:50:37.663082Z",
     "shell.execute_reply.started": "2021-08-20T03:43:01.739437Z"
    },
    "id": "vCtTLpCL8JPM",
    "outputId": "dc1e5ac8-7095-4a34-8d84-d889e729403a",
    "papermill": {
     "duration": 0.487257,
     "end_time": "2021-10-12T19:50:37.663246",
     "exception": false,
     "start_time": "2021-10-12T19:50:37.175989",
     "status": "completed"
    },
    "tags": []
   },
   "outputs": [
    {
     "data": {
      "text/html": [
       "<div>\n",
       "<style scoped>\n",
       "    .dataframe tbody tr th:only-of-type {\n",
       "        vertical-align: middle;\n",
       "    }\n",
       "\n",
       "    .dataframe tbody tr th {\n",
       "        vertical-align: top;\n",
       "    }\n",
       "\n",
       "    .dataframe thead th {\n",
       "        text-align: right;\n",
       "    }\n",
       "</style>\n",
       "<table border=\"1\" class=\"dataframe\">\n",
       "  <thead>\n",
       "    <tr style=\"text-align: right;\">\n",
       "      <th></th>\n",
       "      <th>age</th>\n",
       "      <th>parity</th>\n",
       "      <th>hiv</th>\n",
       "      <th>menopaus</th>\n",
       "      <th>disease</th>\n",
       "      <th>surgery</th>\n",
       "      <th>conization</th>\n",
       "      <th>OPDsize</th>\n",
       "      <th>appearance</th>\n",
       "      <th>stage</th>\n",
       "      <th>...</th>\n",
       "      <th>nodeyiel</th>\n",
       "      <th>RHlvsi</th>\n",
       "      <th>depth</th>\n",
       "      <th>size</th>\n",
       "      <th>utmet</th>\n",
       "      <th>vgmargin</th>\n",
       "      <th>vgmet</th>\n",
       "      <th>pelvicme</th>\n",
       "      <th>pmmet</th>\n",
       "      <th>adnmet</th>\n",
       "    </tr>\n",
       "    <tr>\n",
       "      <th>hn</th>\n",
       "      <th></th>\n",
       "      <th></th>\n",
       "      <th></th>\n",
       "      <th></th>\n",
       "      <th></th>\n",
       "      <th></th>\n",
       "      <th></th>\n",
       "      <th></th>\n",
       "      <th></th>\n",
       "      <th></th>\n",
       "      <th></th>\n",
       "      <th></th>\n",
       "      <th></th>\n",
       "      <th></th>\n",
       "      <th></th>\n",
       "      <th></th>\n",
       "      <th></th>\n",
       "      <th></th>\n",
       "      <th></th>\n",
       "      <th></th>\n",
       "      <th></th>\n",
       "    </tr>\n",
       "  </thead>\n",
       "  <tbody>\n",
       "    <tr>\n",
       "      <th>2631840</th>\n",
       "      <td>52</td>\n",
       "      <td>3</td>\n",
       "      <td>0.0</td>\n",
       "      <td>0.0</td>\n",
       "      <td>1</td>\n",
       "      <td>1</td>\n",
       "      <td>0.0</td>\n",
       "      <td>5.0</td>\n",
       "      <td>4.0</td>\n",
       "      <td>5.0</td>\n",
       "      <td>...</td>\n",
       "      <td>21.0</td>\n",
       "      <td>0.0</td>\n",
       "      <td>3.0</td>\n",
       "      <td>6.0</td>\n",
       "      <td>0.0</td>\n",
       "      <td>0.0</td>\n",
       "      <td>0.0</td>\n",
       "      <td>0.0</td>\n",
       "      <td>0.0</td>\n",
       "      <td>0.0</td>\n",
       "    </tr>\n",
       "    <tr>\n",
       "      <th>2633481</th>\n",
       "      <td>32</td>\n",
       "      <td>2</td>\n",
       "      <td>0.0</td>\n",
       "      <td>0.0</td>\n",
       "      <td>0</td>\n",
       "      <td>1</td>\n",
       "      <td>0.0</td>\n",
       "      <td>5.0</td>\n",
       "      <td>1.0</td>\n",
       "      <td>5.0</td>\n",
       "      <td>...</td>\n",
       "      <td>11.0</td>\n",
       "      <td>0.0</td>\n",
       "      <td>3.0</td>\n",
       "      <td>5.0</td>\n",
       "      <td>0.0</td>\n",
       "      <td>0.0</td>\n",
       "      <td>0.0</td>\n",
       "      <td>1.0</td>\n",
       "      <td>0.0</td>\n",
       "      <td>2.0</td>\n",
       "    </tr>\n",
       "    <tr>\n",
       "      <th>2634477</th>\n",
       "      <td>52</td>\n",
       "      <td>2</td>\n",
       "      <td>0.0</td>\n",
       "      <td>0.0</td>\n",
       "      <td>0</td>\n",
       "      <td>0</td>\n",
       "      <td>0.0</td>\n",
       "      <td>5.0</td>\n",
       "      <td>NaN</td>\n",
       "      <td>5.0</td>\n",
       "      <td>...</td>\n",
       "      <td>35.0</td>\n",
       "      <td>6.0</td>\n",
       "      <td>3.0</td>\n",
       "      <td>4.0</td>\n",
       "      <td>0.0</td>\n",
       "      <td>0.0</td>\n",
       "      <td>0.0</td>\n",
       "      <td>0.0</td>\n",
       "      <td>0.0</td>\n",
       "      <td>0.0</td>\n",
       "    </tr>\n",
       "    <tr>\n",
       "      <th>2633633</th>\n",
       "      <td>38</td>\n",
       "      <td>2</td>\n",
       "      <td>0.0</td>\n",
       "      <td>0.0</td>\n",
       "      <td>0</td>\n",
       "      <td>0</td>\n",
       "      <td>0.0</td>\n",
       "      <td>2.0</td>\n",
       "      <td>1.0</td>\n",
       "      <td>4.0</td>\n",
       "      <td>...</td>\n",
       "      <td>20.0</td>\n",
       "      <td>16.0</td>\n",
       "      <td>3.0</td>\n",
       "      <td>3.8</td>\n",
       "      <td>0.0</td>\n",
       "      <td>0.0</td>\n",
       "      <td>0.0</td>\n",
       "      <td>0.0</td>\n",
       "      <td>0.0</td>\n",
       "      <td>2.0</td>\n",
       "    </tr>\n",
       "    <tr>\n",
       "      <th>2630496</th>\n",
       "      <td>55</td>\n",
       "      <td>3</td>\n",
       "      <td>0.0</td>\n",
       "      <td>1.0</td>\n",
       "      <td>0</td>\n",
       "      <td>0</td>\n",
       "      <td>1.0</td>\n",
       "      <td>0.0</td>\n",
       "      <td>5.0</td>\n",
       "      <td>4.0</td>\n",
       "      <td>...</td>\n",
       "      <td>17.0</td>\n",
       "      <td>9.0</td>\n",
       "      <td>3.0</td>\n",
       "      <td>0.0</td>\n",
       "      <td>0.0</td>\n",
       "      <td>0.0</td>\n",
       "      <td>0.0</td>\n",
       "      <td>1.0</td>\n",
       "      <td>0.0</td>\n",
       "      <td>0.0</td>\n",
       "    </tr>\n",
       "    <tr>\n",
       "      <th>...</th>\n",
       "      <td>...</td>\n",
       "      <td>...</td>\n",
       "      <td>...</td>\n",
       "      <td>...</td>\n",
       "      <td>...</td>\n",
       "      <td>...</td>\n",
       "      <td>...</td>\n",
       "      <td>...</td>\n",
       "      <td>...</td>\n",
       "      <td>...</td>\n",
       "      <td>...</td>\n",
       "      <td>...</td>\n",
       "      <td>...</td>\n",
       "      <td>...</td>\n",
       "      <td>...</td>\n",
       "      <td>...</td>\n",
       "      <td>...</td>\n",
       "      <td>...</td>\n",
       "      <td>...</td>\n",
       "      <td>...</td>\n",
       "      <td>...</td>\n",
       "    </tr>\n",
       "    <tr>\n",
       "      <th>3169688</th>\n",
       "      <td>47</td>\n",
       "      <td>2</td>\n",
       "      <td>0.0</td>\n",
       "      <td>0.0</td>\n",
       "      <td>0</td>\n",
       "      <td>0</td>\n",
       "      <td>1.0</td>\n",
       "      <td>0.0</td>\n",
       "      <td>5.0</td>\n",
       "      <td>4.0</td>\n",
       "      <td>...</td>\n",
       "      <td>42.0</td>\n",
       "      <td>5.0</td>\n",
       "      <td>2.0</td>\n",
       "      <td>1.1</td>\n",
       "      <td>0.0</td>\n",
       "      <td>0.0</td>\n",
       "      <td>0.0</td>\n",
       "      <td>0.0</td>\n",
       "      <td>0.0</td>\n",
       "      <td>2.0</td>\n",
       "    </tr>\n",
       "    <tr>\n",
       "      <th>3167041</th>\n",
       "      <td>39</td>\n",
       "      <td>1</td>\n",
       "      <td>0.0</td>\n",
       "      <td>0.0</td>\n",
       "      <td>0</td>\n",
       "      <td>0</td>\n",
       "      <td>1.0</td>\n",
       "      <td>0.0</td>\n",
       "      <td>5.0</td>\n",
       "      <td>2.0</td>\n",
       "      <td>...</td>\n",
       "      <td>20.0</td>\n",
       "      <td>0.0</td>\n",
       "      <td>NaN</td>\n",
       "      <td>0.0</td>\n",
       "      <td>0.0</td>\n",
       "      <td>0.0</td>\n",
       "      <td>0.0</td>\n",
       "      <td>0.0</td>\n",
       "      <td>0.0</td>\n",
       "      <td>2.0</td>\n",
       "    </tr>\n",
       "    <tr>\n",
       "      <th>2623351</th>\n",
       "      <td>46</td>\n",
       "      <td>2</td>\n",
       "      <td>0.0</td>\n",
       "      <td>0.0</td>\n",
       "      <td>0</td>\n",
       "      <td>0</td>\n",
       "      <td>1.0</td>\n",
       "      <td>0.0</td>\n",
       "      <td>5.0</td>\n",
       "      <td>1.0</td>\n",
       "      <td>...</td>\n",
       "      <td>13.0</td>\n",
       "      <td>NaN</td>\n",
       "      <td>NaN</td>\n",
       "      <td>0.0</td>\n",
       "      <td>0.0</td>\n",
       "      <td>0.0</td>\n",
       "      <td>0.0</td>\n",
       "      <td>0.0</td>\n",
       "      <td>0.0</td>\n",
       "      <td>0.0</td>\n",
       "    </tr>\n",
       "    <tr>\n",
       "      <th>3302539</th>\n",
       "      <td>44</td>\n",
       "      <td>3</td>\n",
       "      <td>0.0</td>\n",
       "      <td>0.0</td>\n",
       "      <td>0</td>\n",
       "      <td>1</td>\n",
       "      <td>1.0</td>\n",
       "      <td>0.0</td>\n",
       "      <td>5.0</td>\n",
       "      <td>4.0</td>\n",
       "      <td>...</td>\n",
       "      <td>15.0</td>\n",
       "      <td>NaN</td>\n",
       "      <td>NaN</td>\n",
       "      <td>0.0</td>\n",
       "      <td>0.0</td>\n",
       "      <td>0.0</td>\n",
       "      <td>0.0</td>\n",
       "      <td>0.0</td>\n",
       "      <td>0.0</td>\n",
       "      <td>0.0</td>\n",
       "    </tr>\n",
       "    <tr>\n",
       "      <th>3855674</th>\n",
       "      <td>38</td>\n",
       "      <td>2</td>\n",
       "      <td>0.0</td>\n",
       "      <td>0.0</td>\n",
       "      <td>0</td>\n",
       "      <td>0</td>\n",
       "      <td>0.0</td>\n",
       "      <td>3.0</td>\n",
       "      <td>4.0</td>\n",
       "      <td>4.0</td>\n",
       "      <td>...</td>\n",
       "      <td>21.0</td>\n",
       "      <td>999.0</td>\n",
       "      <td>3.0</td>\n",
       "      <td>2.5</td>\n",
       "      <td>0.0</td>\n",
       "      <td>2.0</td>\n",
       "      <td>1.0</td>\n",
       "      <td>1.0</td>\n",
       "      <td>1.0</td>\n",
       "      <td>0.0</td>\n",
       "    </tr>\n",
       "  </tbody>\n",
       "</table>\n",
       "<p>1723 rows × 23 columns</p>\n",
       "</div>"
      ],
      "text/plain": [
       "         age  parity  hiv  menopaus  disease  surgery  conization  OPDsize  \\\n",
       "hn                                                                           \n",
       "2631840   52       3  0.0       0.0        1        1         0.0      5.0   \n",
       "2633481   32       2  0.0       0.0        0        1         0.0      5.0   \n",
       "2634477   52       2  0.0       0.0        0        0         0.0      5.0   \n",
       "2633633   38       2  0.0       0.0        0        0         0.0      2.0   \n",
       "2630496   55       3  0.0       1.0        0        0         1.0      0.0   \n",
       "...      ...     ...  ...       ...      ...      ...         ...      ...   \n",
       "3169688   47       2  0.0       0.0        0        0         1.0      0.0   \n",
       "3167041   39       1  0.0       0.0        0        0         1.0      0.0   \n",
       "2623351   46       2  0.0       0.0        0        0         1.0      0.0   \n",
       "3302539   44       3  0.0       0.0        0        1         1.0      0.0   \n",
       "3855674   38       2  0.0       0.0        0        0         0.0      3.0   \n",
       "\n",
       "         appearance  stage  ...  nodeyiel  RHlvsi  depth  size  utmet  \\\n",
       "hn                          ...                                         \n",
       "2631840         4.0    5.0  ...      21.0     0.0    3.0   6.0    0.0   \n",
       "2633481         1.0    5.0  ...      11.0     0.0    3.0   5.0    0.0   \n",
       "2634477         NaN    5.0  ...      35.0     6.0    3.0   4.0    0.0   \n",
       "2633633         1.0    4.0  ...      20.0    16.0    3.0   3.8    0.0   \n",
       "2630496         5.0    4.0  ...      17.0     9.0    3.0   0.0    0.0   \n",
       "...             ...    ...  ...       ...     ...    ...   ...    ...   \n",
       "3169688         5.0    4.0  ...      42.0     5.0    2.0   1.1    0.0   \n",
       "3167041         5.0    2.0  ...      20.0     0.0    NaN   0.0    0.0   \n",
       "2623351         5.0    1.0  ...      13.0     NaN    NaN   0.0    0.0   \n",
       "3302539         5.0    4.0  ...      15.0     NaN    NaN   0.0    0.0   \n",
       "3855674         4.0    4.0  ...      21.0   999.0    3.0   2.5    0.0   \n",
       "\n",
       "         vgmargin  vgmet  pelvicme  pmmet  adnmet  \n",
       "hn                                                 \n",
       "2631840       0.0    0.0       0.0    0.0     0.0  \n",
       "2633481       0.0    0.0       1.0    0.0     2.0  \n",
       "2634477       0.0    0.0       0.0    0.0     0.0  \n",
       "2633633       0.0    0.0       0.0    0.0     2.0  \n",
       "2630496       0.0    0.0       1.0    0.0     0.0  \n",
       "...           ...    ...       ...    ...     ...  \n",
       "3169688       0.0    0.0       0.0    0.0     2.0  \n",
       "3167041       0.0    0.0       0.0    0.0     2.0  \n",
       "2623351       0.0    0.0       0.0    0.0     0.0  \n",
       "3302539       0.0    0.0       0.0    0.0     0.0  \n",
       "3855674       2.0    1.0       1.0    1.0     0.0  \n",
       "\n",
       "[1723 rows x 23 columns]"
      ]
     },
     "execution_count": 2,
     "metadata": {},
     "output_type": "execute_result"
    }
   ],
   "source": [
    "df = pd.read_csv('https://raw.githubusercontent.com/plenoi/Clinic/master/ultima_all_clean.csv')\n",
    "df = df.set_index('hn')\n",
    "#df.head() # จะโชว์แค่5อัน\n",
    "df"
   ]
  },
  {
   "cell_type": "markdown",
   "id": "6a79300e",
   "metadata": {
    "id": "Yw4lB2Yj8JPP",
    "papermill": {
     "duration": 0.047215,
     "end_time": "2021-10-12T19:50:37.757693",
     "exception": false,
     "start_time": "2021-10-12T19:50:37.710478",
     "status": "completed"
    },
    "tags": []
   },
   "source": [
    "# Data Preprocessing"
   ]
  },
  {
   "cell_type": "markdown",
   "id": "7ca7e1ca",
   "metadata": {
    "id": "iO_k48uw8JPQ",
    "papermill": {
     "duration": 0.044338,
     "end_time": "2021-10-12T19:50:37.847154",
     "exception": false,
     "start_time": "2021-10-12T19:50:37.802816",
     "status": "completed"
    },
    "tags": []
   },
   "source": [
    "Check number of data"
   ]
  },
  {
   "cell_type": "code",
   "execution_count": 3,
   "id": "3ad21567",
   "metadata": {
    "execution": {
     "iopub.execute_input": "2021-10-12T19:50:37.940362Z",
     "iopub.status.busy": "2021-10-12T19:50:37.939730Z",
     "iopub.status.idle": "2021-10-12T19:50:37.946127Z",
     "shell.execute_reply": "2021-10-12T19:50:37.946687Z"
    },
    "id": "V1gVBPp48JPQ",
    "outputId": "0556407f-9415-4033-b6a1-50f8f4d8ae1e",
    "papermill": {
     "duration": 0.054988,
     "end_time": "2021-10-12T19:50:37.946847",
     "exception": false,
     "start_time": "2021-10-12T19:50:37.891859",
     "status": "completed"
    },
    "tags": []
   },
   "outputs": [
    {
     "data": {
      "text/plain": [
       "(1723, 23)"
      ]
     },
     "execution_count": 3,
     "metadata": {},
     "output_type": "execute_result"
    }
   ],
   "source": [
    "df.shape"
   ]
  },
  {
   "cell_type": "markdown",
   "id": "04c474d3",
   "metadata": {
    "id": "OKStqK_68JPT",
    "papermill": {
     "duration": 0.051589,
     "end_time": "2021-10-12T19:50:38.049969",
     "exception": false,
     "start_time": "2021-10-12T19:50:37.998380",
     "status": "completed"
    },
    "tags": []
   },
   "source": [
    "Check any missing data in each column"
   ]
  },
  {
   "cell_type": "code",
   "execution_count": 4,
   "id": "a48b28e1",
   "metadata": {
    "execution": {
     "iopub.execute_input": "2021-10-12T19:50:38.144970Z",
     "iopub.status.busy": "2021-10-12T19:50:38.144350Z",
     "iopub.status.idle": "2021-10-12T19:50:38.183577Z",
     "shell.execute_reply": "2021-10-12T19:50:38.184253Z",
     "shell.execute_reply.started": "2021-08-09T10:39:25.198679Z"
    },
    "papermill": {
     "duration": 0.088476,
     "end_time": "2021-10-12T19:50:38.184473",
     "exception": false,
     "start_time": "2021-10-12T19:50:38.095997",
     "status": "completed"
    },
    "tags": []
   },
   "outputs": [
    {
     "data": {
      "text/html": [
       "<div>\n",
       "<style scoped>\n",
       "    .dataframe tbody tr th:only-of-type {\n",
       "        vertical-align: middle;\n",
       "    }\n",
       "\n",
       "    .dataframe tbody tr th {\n",
       "        vertical-align: top;\n",
       "    }\n",
       "\n",
       "    .dataframe thead th {\n",
       "        text-align: right;\n",
       "    }\n",
       "</style>\n",
       "<table border=\"1\" class=\"dataframe\">\n",
       "  <thead>\n",
       "    <tr style=\"text-align: right;\">\n",
       "      <th></th>\n",
       "      <th>age</th>\n",
       "      <th>parity</th>\n",
       "      <th>hiv</th>\n",
       "      <th>menopaus</th>\n",
       "      <th>disease</th>\n",
       "      <th>surgery</th>\n",
       "      <th>conization</th>\n",
       "      <th>OPDsize</th>\n",
       "      <th>appearance</th>\n",
       "      <th>stage</th>\n",
       "      <th>...</th>\n",
       "      <th>nodeyiel</th>\n",
       "      <th>RHlvsi</th>\n",
       "      <th>depth</th>\n",
       "      <th>size</th>\n",
       "      <th>utmet</th>\n",
       "      <th>vgmargin</th>\n",
       "      <th>vgmet</th>\n",
       "      <th>pelvicme</th>\n",
       "      <th>pmmet</th>\n",
       "      <th>adnmet</th>\n",
       "    </tr>\n",
       "    <tr>\n",
       "      <th>hn</th>\n",
       "      <th></th>\n",
       "      <th></th>\n",
       "      <th></th>\n",
       "      <th></th>\n",
       "      <th></th>\n",
       "      <th></th>\n",
       "      <th></th>\n",
       "      <th></th>\n",
       "      <th></th>\n",
       "      <th></th>\n",
       "      <th></th>\n",
       "      <th></th>\n",
       "      <th></th>\n",
       "      <th></th>\n",
       "      <th></th>\n",
       "      <th></th>\n",
       "      <th></th>\n",
       "      <th></th>\n",
       "      <th></th>\n",
       "      <th></th>\n",
       "      <th></th>\n",
       "    </tr>\n",
       "  </thead>\n",
       "  <tbody>\n",
       "    <tr>\n",
       "      <th>2631840</th>\n",
       "      <td>False</td>\n",
       "      <td>False</td>\n",
       "      <td>False</td>\n",
       "      <td>False</td>\n",
       "      <td>False</td>\n",
       "      <td>False</td>\n",
       "      <td>False</td>\n",
       "      <td>False</td>\n",
       "      <td>False</td>\n",
       "      <td>False</td>\n",
       "      <td>...</td>\n",
       "      <td>False</td>\n",
       "      <td>False</td>\n",
       "      <td>False</td>\n",
       "      <td>False</td>\n",
       "      <td>False</td>\n",
       "      <td>False</td>\n",
       "      <td>False</td>\n",
       "      <td>False</td>\n",
       "      <td>False</td>\n",
       "      <td>False</td>\n",
       "    </tr>\n",
       "    <tr>\n",
       "      <th>2633481</th>\n",
       "      <td>False</td>\n",
       "      <td>False</td>\n",
       "      <td>False</td>\n",
       "      <td>False</td>\n",
       "      <td>False</td>\n",
       "      <td>False</td>\n",
       "      <td>False</td>\n",
       "      <td>False</td>\n",
       "      <td>False</td>\n",
       "      <td>False</td>\n",
       "      <td>...</td>\n",
       "      <td>False</td>\n",
       "      <td>False</td>\n",
       "      <td>False</td>\n",
       "      <td>False</td>\n",
       "      <td>False</td>\n",
       "      <td>False</td>\n",
       "      <td>False</td>\n",
       "      <td>False</td>\n",
       "      <td>False</td>\n",
       "      <td>False</td>\n",
       "    </tr>\n",
       "    <tr>\n",
       "      <th>2634477</th>\n",
       "      <td>False</td>\n",
       "      <td>False</td>\n",
       "      <td>False</td>\n",
       "      <td>False</td>\n",
       "      <td>False</td>\n",
       "      <td>False</td>\n",
       "      <td>False</td>\n",
       "      <td>False</td>\n",
       "      <td>True</td>\n",
       "      <td>False</td>\n",
       "      <td>...</td>\n",
       "      <td>False</td>\n",
       "      <td>False</td>\n",
       "      <td>False</td>\n",
       "      <td>False</td>\n",
       "      <td>False</td>\n",
       "      <td>False</td>\n",
       "      <td>False</td>\n",
       "      <td>False</td>\n",
       "      <td>False</td>\n",
       "      <td>False</td>\n",
       "    </tr>\n",
       "    <tr>\n",
       "      <th>2633633</th>\n",
       "      <td>False</td>\n",
       "      <td>False</td>\n",
       "      <td>False</td>\n",
       "      <td>False</td>\n",
       "      <td>False</td>\n",
       "      <td>False</td>\n",
       "      <td>False</td>\n",
       "      <td>False</td>\n",
       "      <td>False</td>\n",
       "      <td>False</td>\n",
       "      <td>...</td>\n",
       "      <td>False</td>\n",
       "      <td>False</td>\n",
       "      <td>False</td>\n",
       "      <td>False</td>\n",
       "      <td>False</td>\n",
       "      <td>False</td>\n",
       "      <td>False</td>\n",
       "      <td>False</td>\n",
       "      <td>False</td>\n",
       "      <td>False</td>\n",
       "    </tr>\n",
       "    <tr>\n",
       "      <th>2630496</th>\n",
       "      <td>False</td>\n",
       "      <td>False</td>\n",
       "      <td>False</td>\n",
       "      <td>False</td>\n",
       "      <td>False</td>\n",
       "      <td>False</td>\n",
       "      <td>False</td>\n",
       "      <td>False</td>\n",
       "      <td>False</td>\n",
       "      <td>False</td>\n",
       "      <td>...</td>\n",
       "      <td>False</td>\n",
       "      <td>False</td>\n",
       "      <td>False</td>\n",
       "      <td>False</td>\n",
       "      <td>False</td>\n",
       "      <td>False</td>\n",
       "      <td>False</td>\n",
       "      <td>False</td>\n",
       "      <td>False</td>\n",
       "      <td>False</td>\n",
       "    </tr>\n",
       "    <tr>\n",
       "      <th>...</th>\n",
       "      <td>...</td>\n",
       "      <td>...</td>\n",
       "      <td>...</td>\n",
       "      <td>...</td>\n",
       "      <td>...</td>\n",
       "      <td>...</td>\n",
       "      <td>...</td>\n",
       "      <td>...</td>\n",
       "      <td>...</td>\n",
       "      <td>...</td>\n",
       "      <td>...</td>\n",
       "      <td>...</td>\n",
       "      <td>...</td>\n",
       "      <td>...</td>\n",
       "      <td>...</td>\n",
       "      <td>...</td>\n",
       "      <td>...</td>\n",
       "      <td>...</td>\n",
       "      <td>...</td>\n",
       "      <td>...</td>\n",
       "      <td>...</td>\n",
       "    </tr>\n",
       "    <tr>\n",
       "      <th>3169688</th>\n",
       "      <td>False</td>\n",
       "      <td>False</td>\n",
       "      <td>False</td>\n",
       "      <td>False</td>\n",
       "      <td>False</td>\n",
       "      <td>False</td>\n",
       "      <td>False</td>\n",
       "      <td>False</td>\n",
       "      <td>False</td>\n",
       "      <td>False</td>\n",
       "      <td>...</td>\n",
       "      <td>False</td>\n",
       "      <td>False</td>\n",
       "      <td>False</td>\n",
       "      <td>False</td>\n",
       "      <td>False</td>\n",
       "      <td>False</td>\n",
       "      <td>False</td>\n",
       "      <td>False</td>\n",
       "      <td>False</td>\n",
       "      <td>False</td>\n",
       "    </tr>\n",
       "    <tr>\n",
       "      <th>3167041</th>\n",
       "      <td>False</td>\n",
       "      <td>False</td>\n",
       "      <td>False</td>\n",
       "      <td>False</td>\n",
       "      <td>False</td>\n",
       "      <td>False</td>\n",
       "      <td>False</td>\n",
       "      <td>False</td>\n",
       "      <td>False</td>\n",
       "      <td>False</td>\n",
       "      <td>...</td>\n",
       "      <td>False</td>\n",
       "      <td>False</td>\n",
       "      <td>True</td>\n",
       "      <td>False</td>\n",
       "      <td>False</td>\n",
       "      <td>False</td>\n",
       "      <td>False</td>\n",
       "      <td>False</td>\n",
       "      <td>False</td>\n",
       "      <td>False</td>\n",
       "    </tr>\n",
       "    <tr>\n",
       "      <th>2623351</th>\n",
       "      <td>False</td>\n",
       "      <td>False</td>\n",
       "      <td>False</td>\n",
       "      <td>False</td>\n",
       "      <td>False</td>\n",
       "      <td>False</td>\n",
       "      <td>False</td>\n",
       "      <td>False</td>\n",
       "      <td>False</td>\n",
       "      <td>False</td>\n",
       "      <td>...</td>\n",
       "      <td>False</td>\n",
       "      <td>True</td>\n",
       "      <td>True</td>\n",
       "      <td>False</td>\n",
       "      <td>False</td>\n",
       "      <td>False</td>\n",
       "      <td>False</td>\n",
       "      <td>False</td>\n",
       "      <td>False</td>\n",
       "      <td>False</td>\n",
       "    </tr>\n",
       "    <tr>\n",
       "      <th>3302539</th>\n",
       "      <td>False</td>\n",
       "      <td>False</td>\n",
       "      <td>False</td>\n",
       "      <td>False</td>\n",
       "      <td>False</td>\n",
       "      <td>False</td>\n",
       "      <td>False</td>\n",
       "      <td>False</td>\n",
       "      <td>False</td>\n",
       "      <td>False</td>\n",
       "      <td>...</td>\n",
       "      <td>False</td>\n",
       "      <td>True</td>\n",
       "      <td>True</td>\n",
       "      <td>False</td>\n",
       "      <td>False</td>\n",
       "      <td>False</td>\n",
       "      <td>False</td>\n",
       "      <td>False</td>\n",
       "      <td>False</td>\n",
       "      <td>False</td>\n",
       "    </tr>\n",
       "    <tr>\n",
       "      <th>3855674</th>\n",
       "      <td>False</td>\n",
       "      <td>False</td>\n",
       "      <td>False</td>\n",
       "      <td>False</td>\n",
       "      <td>False</td>\n",
       "      <td>False</td>\n",
       "      <td>False</td>\n",
       "      <td>False</td>\n",
       "      <td>False</td>\n",
       "      <td>False</td>\n",
       "      <td>...</td>\n",
       "      <td>False</td>\n",
       "      <td>False</td>\n",
       "      <td>False</td>\n",
       "      <td>False</td>\n",
       "      <td>False</td>\n",
       "      <td>False</td>\n",
       "      <td>False</td>\n",
       "      <td>False</td>\n",
       "      <td>False</td>\n",
       "      <td>False</td>\n",
       "    </tr>\n",
       "  </tbody>\n",
       "</table>\n",
       "<p>1723 rows × 23 columns</p>\n",
       "</div>"
      ],
      "text/plain": [
       "           age  parity    hiv  menopaus  disease  surgery  conization  \\\n",
       "hn                                                                      \n",
       "2631840  False   False  False     False    False    False       False   \n",
       "2633481  False   False  False     False    False    False       False   \n",
       "2634477  False   False  False     False    False    False       False   \n",
       "2633633  False   False  False     False    False    False       False   \n",
       "2630496  False   False  False     False    False    False       False   \n",
       "...        ...     ...    ...       ...      ...      ...         ...   \n",
       "3169688  False   False  False     False    False    False       False   \n",
       "3167041  False   False  False     False    False    False       False   \n",
       "2623351  False   False  False     False    False    False       False   \n",
       "3302539  False   False  False     False    False    False       False   \n",
       "3855674  False   False  False     False    False    False       False   \n",
       "\n",
       "         OPDsize  appearance  stage  ...  nodeyiel  RHlvsi  depth   size  \\\n",
       "hn                                   ...                                   \n",
       "2631840    False       False  False  ...     False   False  False  False   \n",
       "2633481    False       False  False  ...     False   False  False  False   \n",
       "2634477    False        True  False  ...     False   False  False  False   \n",
       "2633633    False       False  False  ...     False   False  False  False   \n",
       "2630496    False       False  False  ...     False   False  False  False   \n",
       "...          ...         ...    ...  ...       ...     ...    ...    ...   \n",
       "3169688    False       False  False  ...     False   False  False  False   \n",
       "3167041    False       False  False  ...     False   False   True  False   \n",
       "2623351    False       False  False  ...     False    True   True  False   \n",
       "3302539    False       False  False  ...     False    True   True  False   \n",
       "3855674    False       False  False  ...     False   False  False  False   \n",
       "\n",
       "         utmet  vgmargin  vgmet  pelvicme  pmmet  adnmet  \n",
       "hn                                                        \n",
       "2631840  False     False  False     False  False   False  \n",
       "2633481  False     False  False     False  False   False  \n",
       "2634477  False     False  False     False  False   False  \n",
       "2633633  False     False  False     False  False   False  \n",
       "2630496  False     False  False     False  False   False  \n",
       "...        ...       ...    ...       ...    ...     ...  \n",
       "3169688  False     False  False     False  False   False  \n",
       "3167041  False     False  False     False  False   False  \n",
       "2623351  False     False  False     False  False   False  \n",
       "3302539  False     False  False     False  False   False  \n",
       "3855674  False     False  False     False  False   False  \n",
       "\n",
       "[1723 rows x 23 columns]"
      ]
     },
     "execution_count": 4,
     "metadata": {},
     "output_type": "execute_result"
    }
   ],
   "source": [
    "df.isnull()"
   ]
  },
  {
   "cell_type": "code",
   "execution_count": 5,
   "id": "138b4a25",
   "metadata": {
    "execution": {
     "iopub.execute_input": "2021-10-12T19:50:38.300865Z",
     "iopub.status.busy": "2021-10-12T19:50:38.299923Z",
     "iopub.status.idle": "2021-10-12T19:50:38.308620Z",
     "shell.execute_reply": "2021-10-12T19:50:38.308033Z",
     "shell.execute_reply.started": "2021-08-10T07:10:15.239676Z"
    },
    "id": "Q77h1QHI8JPT",
    "outputId": "b9815145-17f2-43e8-dbf2-a6322cf89c08",
    "papermill": {
     "duration": 0.064349,
     "end_time": "2021-10-12T19:50:38.308758",
     "exception": false,
     "start_time": "2021-10-12T19:50:38.244409",
     "status": "completed"
    },
    "tags": []
   },
   "outputs": [
    {
     "data": {
      "text/plain": [
       "age             0\n",
       "parity          0\n",
       "hiv             4\n",
       "menopaus        1\n",
       "disease         0\n",
       "surgery         0\n",
       "conization      5\n",
       "OPDsize        17\n",
       "appearance    101\n",
       "stage          24\n",
       "pchemo          1\n",
       "Wardsize      145\n",
       "finalhisto     10\n",
       "nodeyiel       12\n",
       "RHlvsi        366\n",
       "depth         489\n",
       "size          114\n",
       "utmet          98\n",
       "vgmargin       96\n",
       "vgmet          97\n",
       "pelvicme        1\n",
       "pmmet          94\n",
       "adnmet          7\n",
       "dtype: int64"
      ]
     },
     "execution_count": 5,
     "metadata": {},
     "output_type": "execute_result"
    }
   ],
   "source": [
    "#df.isnull().sum(axis=0)\n",
    "#df.isnull().sum()/1723*100\n",
    "df.isnull().sum()"
   ]
  },
  {
   "cell_type": "markdown",
   "id": "267bfad1",
   "metadata": {
    "id": "xlAFFf418JPV",
    "papermill": {
     "duration": 0.048534,
     "end_time": "2021-10-12T19:50:38.406919",
     "exception": false,
     "start_time": "2021-10-12T19:50:38.358385",
     "status": "completed"
    },
    "tags": []
   },
   "source": [
    "Delete column with missing data"
   ]
  },
  {
   "cell_type": "markdown",
   "id": "71d5a8cc",
   "metadata": {
    "papermill": {
     "duration": 0.047574,
     "end_time": "2021-10-12T19:50:38.502921",
     "exception": false,
     "start_time": "2021-10-12T19:50:38.455347",
     "status": "completed"
    },
    "tags": []
   },
   "source": [
    "ควรลบข้อมูล column ที่ null เยอะๆออกให้หมด"
   ]
  },
  {
   "cell_type": "code",
   "execution_count": 6,
   "id": "ec56e0ec",
   "metadata": {
    "execution": {
     "iopub.execute_input": "2021-10-12T19:50:38.610225Z",
     "iopub.status.busy": "2021-10-12T19:50:38.609268Z",
     "iopub.status.idle": "2021-10-12T19:50:38.612800Z",
     "shell.execute_reply": "2021-10-12T19:50:38.613332Z",
     "shell.execute_reply.started": "2021-08-20T03:45:21.061333Z"
    },
    "id": "t5YSx3NY8JPW",
    "outputId": "ee77d889-53e1-42e5-f58b-15ed401f5e03",
    "papermill": {
     "duration": 0.062069,
     "end_time": "2021-10-12T19:50:38.613519",
     "exception": false,
     "start_time": "2021-10-12T19:50:38.551450",
     "status": "completed"
    },
    "tags": []
   },
   "outputs": [
    {
     "data": {
      "text/plain": [
       "age            0\n",
       "parity         0\n",
       "hiv            4\n",
       "menopaus       1\n",
       "disease        0\n",
       "surgery        0\n",
       "conization     5\n",
       "OPDsize       17\n",
       "stage         24\n",
       "pchemo         1\n",
       "finalhisto    10\n",
       "utmet         98\n",
       "vgmet         97\n",
       "pmmet         94\n",
       "dtype: int64"
      ]
     },
     "execution_count": 6,
     "metadata": {},
     "output_type": "execute_result"
    }
   ],
   "source": [
    "df_clean_column = df.drop(['size','appearance','Wardsize','RHlvsi','depth','nodeyiel','vgmargin','pelvicme','adnmet'],axis = 1)\n",
    "# ลบ column ที่ไม่เอา และ ข้อมูลหายเยอะ ออก \n",
    "df_clean_column.isnull().sum(axis=0)\n",
    "# size กับ OPDsize หมอบอกคืออันเดียวกันเพราะงั้นลบซักอัน\n",
    "# 0 row / 1 column"
   ]
  },
  {
   "cell_type": "markdown",
   "id": "a8f49102",
   "metadata": {
    "id": "NyNnK21u8JPX",
    "papermill": {
     "duration": 0.046613,
     "end_time": "2021-10-12T19:50:38.707669",
     "exception": false,
     "start_time": "2021-10-12T19:50:38.661056",
     "status": "completed"
    },
    "tags": []
   },
   "source": [
    "Delete row with at least 1 missing data"
   ]
  },
  {
   "cell_type": "code",
   "execution_count": 7,
   "id": "047a7333",
   "metadata": {
    "execution": {
     "iopub.execute_input": "2021-10-12T19:50:38.804124Z",
     "iopub.status.busy": "2021-10-12T19:50:38.803520Z",
     "iopub.status.idle": "2021-10-12T19:50:38.824965Z",
     "shell.execute_reply": "2021-10-12T19:50:38.824283Z",
     "shell.execute_reply.started": "2021-08-20T03:45:23.27729Z"
    },
    "id": "03MGmT4a8JPY",
    "papermill": {
     "duration": 0.070941,
     "end_time": "2021-10-12T19:50:38.825106",
     "exception": false,
     "start_time": "2021-10-12T19:50:38.754165",
     "status": "completed"
    },
    "tags": []
   },
   "outputs": [],
   "source": [
    "df_clean = df_clean_column.dropna(axis = 0)\n",
    "#dropna แถวไหนมี missing data แม้แต่ตัวเดียว ดรอบไปทั้งแถว อัตโนมัติ"
   ]
  },
  {
   "cell_type": "markdown",
   "id": "0c859753",
   "metadata": {
    "id": "2kUDENLG8JPZ",
    "papermill": {
     "duration": 0.046625,
     "end_time": "2021-10-12T19:50:38.918648",
     "exception": false,
     "start_time": "2021-10-12T19:50:38.872023",
     "status": "completed"
    },
    "tags": []
   },
   "source": [
    "Total Clean Data"
   ]
  },
  {
   "cell_type": "code",
   "execution_count": 8,
   "id": "1371235d",
   "metadata": {
    "execution": {
     "iopub.execute_input": "2021-10-12T19:50:39.017774Z",
     "iopub.status.busy": "2021-10-12T19:50:39.017020Z",
     "iopub.status.idle": "2021-10-12T19:50:39.021410Z",
     "shell.execute_reply": "2021-10-12T19:50:39.020900Z",
     "shell.execute_reply.started": "2021-08-10T07:16:13.399909Z"
    },
    "id": "brL_4adg8JPb",
    "outputId": "01553410-0767-42bb-fcea-39708b4f1c4a",
    "papermill": {
     "duration": 0.056147,
     "end_time": "2021-10-12T19:50:39.021561",
     "exception": false,
     "start_time": "2021-10-12T19:50:38.965414",
     "status": "completed"
    },
    "tags": []
   },
   "outputs": [
    {
     "data": {
      "text/plain": [
       "(1571, 14)"
      ]
     },
     "execution_count": 8,
     "metadata": {},
     "output_type": "execute_result"
    }
   ],
   "source": [
    "df_clean.shape\n",
    "# ได้ว่า มี 14 features ได้ 1571 row"
   ]
  },
  {
   "cell_type": "markdown",
   "id": "8658fbb1",
   "metadata": {
    "id": "OHcRmIb78JPc",
    "papermill": {
     "duration": 0.048588,
     "end_time": "2021-10-12T19:50:39.119879",
     "exception": false,
     "start_time": "2021-10-12T19:50:39.071291",
     "status": "completed"
    },
    "tags": []
   },
   "source": [
    "Check number of sample in pelvicme class "
   ]
  },
  {
   "cell_type": "code",
   "execution_count": 9,
   "id": "5258a7c8",
   "metadata": {
    "execution": {
     "iopub.execute_input": "2021-10-12T19:50:39.223666Z",
     "iopub.status.busy": "2021-10-12T19:50:39.222880Z",
     "iopub.status.idle": "2021-10-12T19:50:39.228976Z",
     "shell.execute_reply": "2021-10-12T19:50:39.228469Z",
     "shell.execute_reply.started": "2021-08-20T03:45:25.574561Z"
    },
    "id": "4QQbuaAY8JPd",
    "outputId": "ed35fa01-8827-46b3-ccd7-be88af80fbcf",
    "papermill": {
     "duration": 0.058988,
     "end_time": "2021-10-12T19:50:39.229114",
     "exception": false,
     "start_time": "2021-10-12T19:50:39.170126",
     "status": "completed"
    },
    "tags": []
   },
   "outputs": [
    {
     "data": {
      "text/plain": [
       "array([0., 1.])"
      ]
     },
     "execution_count": 9,
     "metadata": {},
     "output_type": "execute_result"
    }
   ],
   "source": [
    "# หมอบอกให้หา pmmet - คือคำตอบ (label)\n",
    "pel_class = np.unique(df_clean['pmmet'])\n",
    "#pel_class = df_clean['pmmet'].unique()\n",
    "pel_class"
   ]
  },
  {
   "cell_type": "code",
   "execution_count": 10,
   "id": "74a9fef7",
   "metadata": {
    "execution": {
     "iopub.execute_input": "2021-10-12T19:50:39.331797Z",
     "iopub.status.busy": "2021-10-12T19:50:39.330835Z",
     "iopub.status.idle": "2021-10-12T19:50:39.335016Z",
     "shell.execute_reply": "2021-10-12T19:50:39.334549Z",
     "shell.execute_reply.started": "2021-08-20T03:45:27.276257Z"
    },
    "id": "LctFWu_H8JPf",
    "outputId": "e980a129-122f-4ea5-b9c5-fca34c909716",
    "papermill": {
     "duration": 0.058143,
     "end_time": "2021-10-12T19:50:39.335150",
     "exception": false,
     "start_time": "2021-10-12T19:50:39.277007",
     "status": "completed"
    },
    "tags": []
   },
   "outputs": [
    {
     "data": {
      "text/plain": [
       "[1291, 280]"
      ]
     },
     "execution_count": 10,
     "metadata": {},
     "output_type": "execute_result"
    }
   ],
   "source": [
    "pel_value = [sum(df_clean['pmmet']==pel_class[0]),\n",
    "             sum(df_clean['pmmet']==pel_class[1])]\n",
    "pel_value"
   ]
  },
  {
   "cell_type": "markdown",
   "id": "1a2f1997",
   "metadata": {
    "papermill": {
     "duration": 0.047508,
     "end_time": "2021-10-12T19:50:39.431043",
     "exception": false,
     "start_time": "2021-10-12T19:50:39.383535",
     "status": "completed"
    },
    "tags": []
   },
   "source": [
    "-----------------"
   ]
  },
  {
   "cell_type": "code",
   "execution_count": 11,
   "id": "d41680d4",
   "metadata": {
    "execution": {
     "iopub.execute_input": "2021-10-12T19:50:39.535327Z",
     "iopub.status.busy": "2021-10-12T19:50:39.534376Z",
     "iopub.status.idle": "2021-10-12T19:50:39.547052Z",
     "shell.execute_reply": "2021-10-12T19:50:39.547604Z",
     "shell.execute_reply.started": "2021-08-20T03:45:28.758883Z"
    },
    "papermill": {
     "duration": 0.068845,
     "end_time": "2021-10-12T19:50:39.547770",
     "exception": false,
     "start_time": "2021-10-12T19:50:39.478925",
     "status": "completed"
    },
    "tags": []
   },
   "outputs": [
    {
     "data": {
      "text/html": [
       "<div>\n",
       "<style scoped>\n",
       "    .dataframe tbody tr th:only-of-type {\n",
       "        vertical-align: middle;\n",
       "    }\n",
       "\n",
       "    .dataframe tbody tr th {\n",
       "        vertical-align: top;\n",
       "    }\n",
       "\n",
       "    .dataframe thead th {\n",
       "        text-align: right;\n",
       "    }\n",
       "</style>\n",
       "<table border=\"1\" class=\"dataframe\">\n",
       "  <thead>\n",
       "    <tr style=\"text-align: right;\">\n",
       "      <th></th>\n",
       "      <th>age</th>\n",
       "      <th>parity</th>\n",
       "      <th>hiv</th>\n",
       "      <th>menopaus</th>\n",
       "      <th>disease</th>\n",
       "      <th>surgery</th>\n",
       "      <th>conization</th>\n",
       "      <th>OPDsize</th>\n",
       "      <th>stage</th>\n",
       "      <th>pchemo</th>\n",
       "      <th>finalhisto</th>\n",
       "      <th>utmet</th>\n",
       "      <th>vgmet</th>\n",
       "    </tr>\n",
       "    <tr>\n",
       "      <th>pmmet</th>\n",
       "      <th></th>\n",
       "      <th></th>\n",
       "      <th></th>\n",
       "      <th></th>\n",
       "      <th></th>\n",
       "      <th></th>\n",
       "      <th></th>\n",
       "      <th></th>\n",
       "      <th></th>\n",
       "      <th></th>\n",
       "      <th></th>\n",
       "      <th></th>\n",
       "      <th></th>\n",
       "    </tr>\n",
       "  </thead>\n",
       "  <tbody>\n",
       "    <tr>\n",
       "      <th>0.0</th>\n",
       "      <td>1291</td>\n",
       "      <td>1291</td>\n",
       "      <td>1291</td>\n",
       "      <td>1291</td>\n",
       "      <td>1291</td>\n",
       "      <td>1291</td>\n",
       "      <td>1291</td>\n",
       "      <td>1291</td>\n",
       "      <td>1291</td>\n",
       "      <td>1291</td>\n",
       "      <td>1291</td>\n",
       "      <td>1291</td>\n",
       "      <td>1291</td>\n",
       "    </tr>\n",
       "    <tr>\n",
       "      <th>1.0</th>\n",
       "      <td>280</td>\n",
       "      <td>280</td>\n",
       "      <td>280</td>\n",
       "      <td>280</td>\n",
       "      <td>280</td>\n",
       "      <td>280</td>\n",
       "      <td>280</td>\n",
       "      <td>280</td>\n",
       "      <td>280</td>\n",
       "      <td>280</td>\n",
       "      <td>280</td>\n",
       "      <td>280</td>\n",
       "      <td>280</td>\n",
       "    </tr>\n",
       "  </tbody>\n",
       "</table>\n",
       "</div>"
      ],
      "text/plain": [
       "        age  parity   hiv  menopaus  disease  surgery  conization  OPDsize  \\\n",
       "pmmet                                                                        \n",
       "0.0    1291    1291  1291      1291     1291     1291        1291     1291   \n",
       "1.0     280     280   280       280      280      280         280      280   \n",
       "\n",
       "       stage  pchemo  finalhisto  utmet  vgmet  \n",
       "pmmet                                           \n",
       "0.0     1291    1291        1291   1291   1291  \n",
       "1.0      280     280         280    280    280  "
      ]
     },
     "execution_count": 11,
     "metadata": {},
     "output_type": "execute_result"
    }
   ],
   "source": [
    "df_clean.groupby('pmmet').count()"
   ]
  },
  {
   "cell_type": "markdown",
   "id": "3a6c8b0d",
   "metadata": {
    "papermill": {
     "duration": 0.047877,
     "end_time": "2021-10-12T19:50:39.643863",
     "exception": false,
     "start_time": "2021-10-12T19:50:39.595986",
     "status": "completed"
    },
    "tags": []
   },
   "source": [
    "-----------------"
   ]
  },
  {
   "cell_type": "markdown",
   "id": "be312b9d",
   "metadata": {
    "id": "6VJ6Ejg48JPk",
    "papermill": {
     "duration": 0.048065,
     "end_time": "2021-10-12T19:50:39.740351",
     "exception": false,
     "start_time": "2021-10-12T19:50:39.692286",
     "status": "completed"
    },
    "tags": []
   },
   "source": [
    "Separate pelviceme dataset into data (X) and label (y)"
   ]
  },
  {
   "cell_type": "code",
   "execution_count": 12,
   "id": "60b4a512",
   "metadata": {
    "execution": {
     "iopub.execute_input": "2021-10-12T19:50:39.841693Z",
     "iopub.status.busy": "2021-10-12T19:50:39.840695Z",
     "iopub.status.idle": "2021-10-12T19:50:39.846205Z",
     "shell.execute_reply": "2021-10-12T19:50:39.846716Z",
     "shell.execute_reply.started": "2021-08-10T06:48:48.502187Z"
    },
    "id": "4Gdtafhe8JPk",
    "papermill": {
     "duration": 0.057475,
     "end_time": "2021-10-12T19:50:39.846889",
     "exception": false,
     "start_time": "2021-10-12T19:50:39.789414",
     "status": "completed"
    },
    "tags": []
   },
   "outputs": [],
   "source": [
    "# สำคัญ ทุกmodelทำแบบเดวกันหมด\n",
    "# เราจะเอา ค่า pmmet มาเป็นคำตอบของ model ดังนั้นเลยเก็บค่าไว้ใ้ช้\n",
    "y = df_clean['pmmet'].values # คำตอบ / Label *เป็น vector คำตอบ\n",
    "X = df_clean.drop(['pmmet'],axis = 1).values # ข้อมูล / Features ห้ามมีคำตอบต้องมีต่อข้อมูล *เป็นmatrixที่มีข้อมูลของmodel"
   ]
  },
  {
   "cell_type": "code",
   "execution_count": 13,
   "id": "bca4b545",
   "metadata": {
    "execution": {
     "iopub.execute_input": "2021-10-12T19:50:39.947965Z",
     "iopub.status.busy": "2021-10-12T19:50:39.946996Z",
     "iopub.status.idle": "2021-10-12T19:50:39.952915Z",
     "shell.execute_reply": "2021-10-12T19:50:39.953359Z",
     "shell.execute_reply.started": "2021-08-09T10:54:56.882483Z"
    },
    "papermill": {
     "duration": 0.057854,
     "end_time": "2021-10-12T19:50:39.953542",
     "exception": false,
     "start_time": "2021-10-12T19:50:39.895688",
     "status": "completed"
    },
    "tags": []
   },
   "outputs": [
    {
     "data": {
      "text/plain": [
       "(1571, 13)"
      ]
     },
     "execution_count": 13,
     "metadata": {},
     "output_type": "execute_result"
    }
   ],
   "source": [
    "X.shape\n",
    "# มี 1571 ข้อมูล แต่ละข้อมูล มี 13 feture"
   ]
  },
  {
   "cell_type": "markdown",
   "id": "b3c617b2",
   "metadata": {
    "papermill": {
     "duration": 0.051305,
     "end_time": "2021-10-12T19:50:40.055116",
     "exception": false,
     "start_time": "2021-10-12T19:50:40.003811",
     "status": "completed"
    },
    "tags": []
   },
   "source": [
    "Separate Data into Train & Test (Note: Imbalance Dataset)"
   ]
  },
  {
   "cell_type": "code",
   "execution_count": 14,
   "id": "c0e79642",
   "metadata": {
    "execution": {
     "iopub.execute_input": "2021-10-12T19:50:40.159194Z",
     "iopub.status.busy": "2021-10-12T19:50:40.158508Z",
     "iopub.status.idle": "2021-10-12T19:50:41.035305Z",
     "shell.execute_reply": "2021-10-12T19:50:41.034743Z",
     "shell.execute_reply.started": "2021-08-10T06:48:51.198974Z"
    },
    "papermill": {
     "duration": 0.929885,
     "end_time": "2021-10-12T19:50:41.035444",
     "exception": false,
     "start_time": "2021-10-12T19:50:40.105559",
     "status": "completed"
    },
    "tags": []
   },
   "outputs": [],
   "source": [
    "# scikit-learn คือ libary ที่เกีย่วกับ learning\n",
    "\n",
    "from sklearn.model_selection import train_test_split # แบ่งข้อมูลออกมา 2 กลุ่ม คือ train กับ test\n",
    "X_train, X_test, y_train, y_test = train_test_split(X,y,test_size=0.2,random_state=0) # ให้ test มีขนาด 20% ของ train\n",
    "# แบ่งข้อมูลโดย random_state=0 ทุกคนจะได้ออกมาเหมือนจาร\n",
    "\n",
    "# โดยปกติ 70% train - 30% test\n",
    "# หรือถ้ามีข้อมูลน้อยมากๆ 80% train - 20% test"
   ]
  },
  {
   "cell_type": "markdown",
   "id": "bbb6d679",
   "metadata": {
    "id": "ZgKGb8HK8JPv",
    "papermill": {
     "duration": 0.050761,
     "end_time": "2021-10-12T19:50:41.138517",
     "exception": false,
     "start_time": "2021-10-12T19:50:41.087756",
     "status": "completed"
    },
    "tags": []
   },
   "source": [
    "Data normalization to range of (0 to 1)"
   ]
  },
  {
   "cell_type": "code",
   "execution_count": 15,
   "id": "e500aac5",
   "metadata": {
    "execution": {
     "iopub.execute_input": "2021-10-12T19:50:41.247273Z",
     "iopub.status.busy": "2021-10-12T19:50:41.246366Z",
     "iopub.status.idle": "2021-10-12T19:50:41.250600Z",
     "shell.execute_reply": "2021-10-12T19:50:41.250075Z",
     "shell.execute_reply.started": "2021-08-10T06:48:53.174862Z"
    },
    "id": "wmkv5Op98JPv",
    "papermill": {
     "duration": 0.061046,
     "end_time": "2021-10-12T19:50:41.250739",
     "exception": false,
     "start_time": "2021-10-12T19:50:41.189693",
     "status": "completed"
    },
    "tags": []
   },
   "outputs": [],
   "source": [
    "# normalization ให้ข้อมูลอยู่ให้ช่วง 0-1\n",
    "from sklearn.preprocessing import MinMaxScaler\n",
    "scaler = MinMaxScaler(feature_range=(0, 1)) \n",
    "# สร้างscalมา โดยแบ่งข้อมูล ให้อยู่ให้ช่วง 0-1  // ถ้าไม่ใส่คำสั่งไป มันก็จะจัดให้ 0-1 อยู่ละ\n",
    "scaler.fit(X_train) #เพื่อให้ได้ค่าว่าจะscaleยังไง เท่าไหร่ดี ต้องเอา scale จากข้อมูล train - ห้ามเอาจาก test เพราะมันคือคำตอบ\n",
    "# เอาข้อมูลใน train มาสร้าง scale ในการปรับข้อมูล fit\n",
    "X_train_norm = scaler.transform(X_train)\n",
    "X_test_norm = scaler.transform(X_test)"
   ]
  },
  {
   "cell_type": "code",
   "execution_count": 16,
   "id": "6efa1247",
   "metadata": {
    "execution": {
     "iopub.execute_input": "2021-10-12T19:50:41.355367Z",
     "iopub.status.busy": "2021-10-12T19:50:41.353614Z",
     "iopub.status.idle": "2021-10-12T19:50:41.359421Z",
     "shell.execute_reply": "2021-10-12T19:50:41.358824Z",
     "shell.execute_reply.started": "2021-08-09T11:03:00.575611Z"
    },
    "papermill": {
     "duration": 0.058627,
     "end_time": "2021-10-12T19:50:41.359571",
     "exception": false,
     "start_time": "2021-10-12T19:50:41.300944",
     "status": "completed"
    },
    "tags": []
   },
   "outputs": [
    {
     "data": {
      "text/plain": [
       "array([0., 0., 0., 0., 0., 0., 0., 0., 0., 0., 0., 0., 0.])"
      ]
     },
     "execution_count": 16,
     "metadata": {},
     "output_type": "execute_result"
    }
   ],
   "source": [
    "np.min(X_train_norm, axis=0) #ค่าที่ต้่่ำสุดของทุกcolumnคือ"
   ]
  },
  {
   "cell_type": "code",
   "execution_count": 17,
   "id": "d99f9d18",
   "metadata": {
    "execution": {
     "iopub.execute_input": "2021-10-12T19:50:41.464362Z",
     "iopub.status.busy": "2021-10-12T19:50:41.463706Z",
     "iopub.status.idle": "2021-10-12T19:50:41.470089Z",
     "shell.execute_reply": "2021-10-12T19:50:41.469459Z"
    },
    "papermill": {
     "duration": 0.059689,
     "end_time": "2021-10-12T19:50:41.470217",
     "exception": false,
     "start_time": "2021-10-12T19:50:41.410528",
     "status": "completed"
    },
    "tags": []
   },
   "outputs": [
    {
     "data": {
      "text/plain": [
       "array([1., 1., 1., 1., 1., 1., 1., 1., 1., 1., 1., 1., 1.])"
      ]
     },
     "execution_count": 17,
     "metadata": {},
     "output_type": "execute_result"
    }
   ],
   "source": [
    "np.max(X_train_norm, axis=0)"
   ]
  },
  {
   "cell_type": "markdown",
   "id": "349078d6",
   "metadata": {
    "id": "cpFA7Afx8JPy",
    "papermill": {
     "duration": 0.049109,
     "end_time": "2021-10-12T19:50:41.568938",
     "exception": false,
     "start_time": "2021-10-12T19:50:41.519829",
     "status": "completed"
    },
    "tags": []
   },
   "source": [
    "# Logistic Regression "
   ]
  },
  {
   "cell_type": "markdown",
   "id": "cc1d509d",
   "metadata": {
    "id": "pEC9r99f8JP0",
    "papermill": {
     "duration": 0.049028,
     "end_time": "2021-10-12T19:50:41.667261",
     "exception": false,
     "start_time": "2021-10-12T19:50:41.618233",
     "status": "completed"
    },
    "tags": []
   },
   "source": [
    "10-Folds Cross Validation Training Accuracy with Tuning"
   ]
  },
  {
   "cell_type": "code",
   "execution_count": 18,
   "id": "b09d673b",
   "metadata": {
    "execution": {
     "iopub.execute_input": "2021-10-12T19:50:41.772839Z",
     "iopub.status.busy": "2021-10-12T19:50:41.772176Z",
     "iopub.status.idle": "2021-10-12T19:50:41.775986Z",
     "shell.execute_reply": "2021-10-12T19:50:41.775101Z"
    },
    "papermill": {
     "duration": 0.058788,
     "end_time": "2021-10-12T19:50:41.776293",
     "exception": true,
     "start_time": "2021-10-12T19:50:41.717505",
     "status": "failed"
    },
    "tags": []
   },
   "outputs": [
    {
     "ename": "SyntaxError",
     "evalue": "invalid syntax (<ipython-input-18-bd50d16ead1d>, line 5)",
     "output_type": "error",
     "traceback": [
      "\u001b[0;36m  File \u001b[0;32m\"<ipython-input-18-bd50d16ead1d>\"\u001b[0;36m, line \u001b[0;32m5\u001b[0m\n\u001b[0;31m    .\u001b[0m\n\u001b[0m    ^\u001b[0m\n\u001b[0;31mSyntaxError\u001b[0m\u001b[0;31m:\u001b[0m invalid syntax\n"
     ]
    }
   ],
   "source": [
    "from sklearn.svm import SVC\n",
    "params = {'C': [1, 2, 4, 8, 16],\n",
    "         'gamma' : [0,1]}\n",
    "model =  SVC()\n",
    ".\n",
    ".\n",
    "."
   ]
  },
  {
   "cell_type": "code",
   "execution_count": null,
   "id": "b53867a8",
   "metadata": {
    "execution": {
     "iopub.execute_input": "2021-08-10T07:58:20.368025Z",
     "iopub.status.busy": "2021-08-10T07:58:20.367604Z",
     "iopub.status.idle": "2021-08-10T07:58:20.689608Z",
     "shell.execute_reply": "2021-08-10T07:58:20.688549Z",
     "shell.execute_reply.started": "2021-08-10T07:58:20.367989Z"
    },
    "id": "wtagYOLw8JP0",
    "outputId": "e7ee8339-0b1b-4d68-a4e1-242a1ff71717",
    "papermill": {
     "duration": null,
     "end_time": null,
     "exception": null,
     "start_time": null,
     "status": "pending"
    },
    "tags": []
   },
   "outputs": [],
   "source": [
    "from sklearn.linear_model import LogisticRegression\n",
    "from sklearn.model_selection import GridSearchCV # ตัวที่มีคำสั่ง เอาไว้จูน (Tune) model และ คำนวนหาTraining accuracy\n",
    "# GridSearchCV เอาไว้หา paramitor ที่ดีที่สุดเอาไว้หา Train accuracy\n",
    "\n",
    "#params = {'C': [1, 2, 4, 8, 16]} # ตั้งว่าช่วงค่าจูน ของ C ที่เป็นไปได้ได้แก่ 1 2 4 8 16\n",
    "# C ชื่อparamiterของLogisticRegressionมีหลายอันไปหาดู\n",
    "params = {'C': [0.001, 0.01, 0.1, 1, 10, 100, 1000]}\n",
    "#params = {'max_iter' : [100,200,500] }\n",
    "\n",
    "\n",
    "\n",
    "# code แบบยาวๆ\n",
    "\n",
    "    # model = LogisticRegression(random_state=0, solver='liblinear')\n",
    "    # best_model = GridSearchCV(model,params,cv=10)\n",
    "    \n",
    "    # best_model.fit(X_train_norm, y_train)\n",
    "    \n",
    "# code แบบสรุป\n",
    "\n",
    "clf = GridSearchCV(LogisticRegression(random_state=0, solver='liblinear'),params, cv=10)  # cv เป็นวิธีหาTrain accuracy เรียนต่อหลังmid\n",
    "# เลือก paramiter ที่เหมาะที้่สุดของLogisticRegression\n",
    "\n",
    "clf.fit(X_train_norm, y_train)\n",
    "print(\"Best params : \" + str(clf.best_params_))\n",
    "print(\"10CV accuracy : \"+str(clf.best_score_*100)) #Train accuracy"
   ]
  },
  {
   "cell_type": "markdown",
   "id": "7e092320",
   "metadata": {
    "id": "1TzTClfO8JP3",
    "papermill": {
     "duration": null,
     "end_time": null,
     "exception": null,
     "start_time": null,
     "status": "pending"
    },
    "tags": []
   },
   "source": [
    "Test Accuracy"
   ]
  },
  {
   "cell_type": "code",
   "execution_count": null,
   "id": "f0061d5c",
   "metadata": {
    "execution": {
     "iopub.execute_input": "2021-08-10T07:52:20.935195Z",
     "iopub.status.busy": "2021-08-10T07:52:20.93484Z",
     "iopub.status.idle": "2021-08-10T07:52:20.944027Z",
     "shell.execute_reply": "2021-08-10T07:52:20.942932Z",
     "shell.execute_reply.started": "2021-08-10T07:52:20.935163Z"
    },
    "id": "HhOEcwrg8JP3",
    "outputId": "47bf6188-4e80-4b5e-ea87-2e1f47d05fb7",
    "papermill": {
     "duration": null,
     "end_time": null,
     "exception": null,
     "start_time": null,
     "status": "pending"
    },
    "scrolled": true,
    "tags": []
   },
   "outputs": [],
   "source": [
    "from sklearn.metrics import classification_report\n",
    "from sklearn.metrics import confusion_matrix\n",
    "y_predict = clf.predict(X_test_norm)\n",
    "print(\"Test accuracy : \"+str(sum(y_test == y_predict)/len(y_test)*100))\n",
    "\n",
    "# Test accuracy สูงคือ อาจ overfit เพราะค่า Train กะ Test ห่างเกินน -แก้โดยเพิ่ม data หรือ บราๆ\n",
    "\n",
    "# *****model ที่ดีที่สุดคือ Train accuracy กับ Test accuracy ค่าสูง และอยู่ใกล้กัน*****"
   ]
  },
  {
   "cell_type": "code",
   "execution_count": null,
   "id": "7f3f2fae",
   "metadata": {
    "execution": {
     "iopub.execute_input": "2021-08-10T07:38:23.189837Z",
     "iopub.status.busy": "2021-08-10T07:38:23.189451Z",
     "iopub.status.idle": "2021-08-10T07:38:23.199689Z",
     "shell.execute_reply": "2021-08-10T07:38:23.198815Z",
     "shell.execute_reply.started": "2021-08-10T07:38:23.189803Z"
    },
    "papermill": {
     "duration": null,
     "end_time": null,
     "exception": null,
     "start_time": null,
     "status": "pending"
    },
    "tags": []
   },
   "outputs": [],
   "source": [
    "y_predict = clf.predict(X_test_norm)\n",
    "#  predict ของ X_test_norm ใน clf และ เก็บผลทำนายไว้ที่ y_predict\n",
    "\n",
    "100 * sum(y_test == y_predict) / len(y_test)\n",
    "# คำตอบจริงๆ คือ y_test\n",
    "# sum(y_test == y_predict) นับ จน. ว่ามีกี่กันที่ predict ถูก-ตรงกับคำตอบ"
   ]
  },
  {
   "cell_type": "code",
   "execution_count": null,
   "id": "8c3af66d",
   "metadata": {
    "execution": {
     "iopub.execute_input": "2021-08-10T07:38:25.21474Z",
     "iopub.status.busy": "2021-08-10T07:38:25.214374Z",
     "iopub.status.idle": "2021-08-10T07:38:25.652165Z",
     "shell.execute_reply": "2021-08-10T07:38:25.651293Z",
     "shell.execute_reply.started": "2021-08-10T07:38:25.214698Z"
    },
    "id": "U1j5UvWw8JP5",
    "outputId": "a3cb1440-3767-4336-981e-6d8b05ca3480",
    "papermill": {
     "duration": null,
     "end_time": null,
     "exception": null,
     "start_time": null,
     "status": "pending"
    },
    "tags": []
   },
   "outputs": [],
   "source": [
    "from sklearn.metrics import confusion_matrix\n",
    "import matplotlib.pyplot as plt\n",
    "import seaborn as sns\n",
    "target_names = ['negative', 'positive'] # 0 negative - 1 positive\n",
    "C = confusion_matrix(y_test,y_predict) \n",
    "C = C / C.astype(np.float).sum(axis=1)*100\n",
    "sns.heatmap(C, annot=True, fmt=\"f\",cmap=\"GnBu\",xticklabels=target_names, yticklabels=target_names)\n",
    "plt.ylabel(\"True Label\")\n",
    "plt.xlabel(\"Predicted Label\")\n",
    "plt.show()\n",
    "\n",
    "# confusion_matrix จะให้คำตอบเราว่า เวลาทายข้อมูล ทาย คราสไหนแม่นไม่แม่น / แล้ว ทาย ผิดไปที่คราสไหนกี่ % \n",
    "\n",
    "# 99  2\n",
    "# 14 19\n",
    "# ให้เราเห็นว่าเวลาทำนาย ทำนายผิดกี่% ทำนายถูก กี่ %\n",
    "# positive ทายถูก 19% และมี 14% ที่เป็นpositiveแต่มันทายเป็นnegative\n",
    "# negative ทายถูก 99% และมี 2% ที่เป็นnegativeแต่มันทายเป็นpositive"
   ]
  },
  {
   "cell_type": "markdown",
   "id": "df98adae",
   "metadata": {
    "id": "icsS2l7yS3Ke",
    "papermill": {
     "duration": null,
     "end_time": null,
     "exception": null,
     "start_time": null,
     "status": "pending"
    },
    "tags": []
   },
   "source": [
    "The precision is the ratio tp / (tp + fp). The precision is the ability of the classifier not to label as positive a sample that is negative.\n",
    "\n",
    "The recall is the ratio tp / (tp + fn). The recall is the ability of the classifier to find all the positive samples.\n",
    "\n",
    "The F score can be interpreted as a weighted harmonic mean of the precision and recall, where an F-beta score reaches its best value at 1 and worst score at 0.\n",
    "\n",
    "The support is the number of occurrences of each class in y_true."
   ]
  },
  {
   "cell_type": "code",
   "execution_count": null,
   "id": "03b619c6",
   "metadata": {
    "execution": {
     "iopub.execute_input": "2021-08-10T07:39:49.128046Z",
     "iopub.status.busy": "2021-08-10T07:39:49.127385Z",
     "iopub.status.idle": "2021-08-10T07:39:49.140509Z",
     "shell.execute_reply": "2021-08-10T07:39:49.139212Z",
     "shell.execute_reply.started": "2021-08-10T07:39:49.127994Z"
    },
    "id": "ZUQXjLDe8JP6",
    "outputId": "71bfd072-c128-4883-c28b-1964cb812fc4",
    "papermill": {
     "duration": null,
     "end_time": null,
     "exception": null,
     "start_time": null,
     "status": "pending"
    },
    "tags": []
   },
   "outputs": [],
   "source": [
    "print(classification_report(y_test, y_predict, target_names=target_names))\n",
    "\n",
    "# วิธีวัดผลการืทำนาย (y_test, y_predict target_names=['negative', 'positive']\n",
    "\n",
    "# ให้ดู positive ก่อน  \n",
    "#**precision  คือความแม่นยำที่จะไม่ทำนาย positive เป็น  negative ---- ex.ถ้าเราpositiveคือโอกาสpositive 0.90 แน่นอน\n",
    "#**recall  โอกาสที่จะหา positive  เจอทั้งหมด ---- ex. หาว่าเราจะpositiveมั้ย หายากเพดราะ 0.32\n",
    "#**f1-score คือ จน ความสามารถ"
   ]
  },
  {
   "cell_type": "markdown",
   "id": "62e2d824",
   "metadata": {
    "id": "83TUQPbu8JP8",
    "papermill": {
     "duration": null,
     "end_time": null,
     "exception": null,
     "start_time": null,
     "status": "pending"
    },
    "tags": []
   },
   "source": [
    "# Support Vector Machine"
   ]
  },
  {
   "cell_type": "markdown",
   "id": "bde3acbd",
   "metadata": {
    "id": "cB-9M8468JP9",
    "papermill": {
     "duration": null,
     "end_time": null,
     "exception": null,
     "start_time": null,
     "status": "pending"
    },
    "tags": []
   },
   "source": [
    "10-Folds Cross Validation Training Accuracy"
   ]
  },
  {
   "cell_type": "code",
   "execution_count": null,
   "id": "bcfeda85",
   "metadata": {
    "execution": {
     "iopub.execute_input": "2021-08-03T08:37:09.669432Z",
     "iopub.status.busy": "2021-08-03T08:37:09.669094Z",
     "iopub.status.idle": "2021-08-03T08:37:46.84546Z",
     "shell.execute_reply": "2021-08-03T08:37:46.844317Z",
     "shell.execute_reply.started": "2021-08-03T08:37:09.669401Z"
    },
    "id": "SVtRIhLf8JP9",
    "outputId": "72bd405f-3033-4af5-efdf-060facb56d3a",
    "papermill": {
     "duration": null,
     "end_time": null,
     "exception": null,
     "start_time": null,
     "status": "pending"
    },
    "tags": []
   },
   "outputs": [],
   "source": [
    "from sklearn.svm import SVC\n",
    "from sklearn.model_selection import GridSearchCV\n",
    "params = {\n",
    "    'C' : [1,2,4,8,16,32], # High C = Overfitting\n",
    "    'gamma' : [0.03125, 0.0625, 0.125, 0.25, 0.5, 1, 2, 4, 8, 16, 32] # High gamma = Overfitting\n",
    "}\n",
    "clf = GridSearchCV(SVC(),params, cv=10)\n",
    "clf.fit(X_train_norm, y_train)\n",
    "print(\"Best params : \" + str(clf.best_params_))\n",
    "print(\"10CV accuracy : \"+str(clf.best_score_*100))"
   ]
  },
  {
   "cell_type": "markdown",
   "id": "446e8079",
   "metadata": {
    "id": "NsybCHdK8JP_",
    "papermill": {
     "duration": null,
     "end_time": null,
     "exception": null,
     "start_time": null,
     "status": "pending"
    },
    "tags": []
   },
   "source": [
    "Test Accuracy"
   ]
  },
  {
   "cell_type": "code",
   "execution_count": null,
   "id": "d8ebd725",
   "metadata": {
    "id": "XJ0XGMYp8JP_",
    "outputId": "a869883c-c930-41f8-e8a0-54906cb7d20b",
    "papermill": {
     "duration": null,
     "end_time": null,
     "exception": null,
     "start_time": null,
     "status": "pending"
    },
    "tags": []
   },
   "outputs": [],
   "source": [
    "from sklearn.metrics import classification_report\n",
    "from sklearn.metrics import confusion_matrix\n",
    "y_predict = clf.predict(X_test_norm)\n",
    "target_names = ['negative', 'positive']\n",
    "sum(y_test == y_predict)/len(y_test)"
   ]
  },
  {
   "cell_type": "code",
   "execution_count": null,
   "id": "e9bf9c2c",
   "metadata": {
    "id": "C--oj8zn8JQB",
    "outputId": "618302e5-bde5-4ea1-88b4-2a4fe22217fc",
    "papermill": {
     "duration": null,
     "end_time": null,
     "exception": null,
     "start_time": null,
     "status": "pending"
    },
    "tags": []
   },
   "outputs": [],
   "source": [
    "from sklearn.metrics import confusion_matrix\n",
    "import matplotlib.pyplot as plt\n",
    "import seaborn as sns\n",
    "target_names = ['negative', 'positive']\n",
    "C = confusion_matrix(y_test,y_predict) \n",
    "C = C / C.astype(np.float).sum(axis=1)*100\n",
    "sns.heatmap(C, annot=True, fmt=\".2f\",cmap=\"GnBu\",xticklabels=target_names, yticklabels=target_names)\n",
    "plt.ylabel(\"True Label\")\n",
    "plt.xlabel(\"Predicted Label\")\n",
    "plt.show()"
   ]
  },
  {
   "cell_type": "code",
   "execution_count": null,
   "id": "730c8db4",
   "metadata": {
    "id": "v8NLTtRz8JQC",
    "outputId": "23a8bb4d-b821-4aad-e6cb-4e8f2bcace77",
    "papermill": {
     "duration": null,
     "end_time": null,
     "exception": null,
     "start_time": null,
     "status": "pending"
    },
    "tags": []
   },
   "outputs": [],
   "source": [
    "print(classification_report(y_test, y_predict, target_names=target_names))"
   ]
  },
  {
   "cell_type": "markdown",
   "id": "b3ba6ed8",
   "metadata": {
    "id": "SDlmx5yk8JQF",
    "papermill": {
     "duration": null,
     "end_time": null,
     "exception": null,
     "start_time": null,
     "status": "pending"
    },
    "tags": []
   },
   "source": [
    "# Random Forest"
   ]
  },
  {
   "cell_type": "markdown",
   "id": "77f31a89",
   "metadata": {
    "id": "VtXkXkoc8JQF",
    "papermill": {
     "duration": null,
     "end_time": null,
     "exception": null,
     "start_time": null,
     "status": "pending"
    },
    "tags": []
   },
   "source": [
    "10-Folds Cross Validation Training Accuracy"
   ]
  },
  {
   "cell_type": "code",
   "execution_count": null,
   "id": "21b13e8f",
   "metadata": {
    "id": "9hBNax_o8JQG",
    "outputId": "87b5bb59-97a4-4db3-dab0-fe291dc9f63b",
    "papermill": {
     "duration": null,
     "end_time": null,
     "exception": null,
     "start_time": null,
     "status": "pending"
    },
    "tags": []
   },
   "outputs": [],
   "source": [
    "from sklearn.ensemble import RandomForestClassifier\n",
    "from sklearn.model_selection import GridSearchCV\n",
    "params = {\n",
    "    'n_estimators' : [10,50,100,200,500], #ตัวหลัก\n",
    "    'min_samples_leaf' : [1,2,4,8,16,32],\n",
    "    'max_features' : ['sqrt',0.5,0.8],\n",
    "    'criterion' : ['gini','entropy']\n",
    "}\n",
    "clf = GridSearchCV(RandomForestClassifier(random_state=0),params, cv = 10)\n",
    "clf.fit(X_train_norm, y_train)\n",
    "print(\"Best params : \" + str(clf.best_params_))\n",
    "print(\"10CV accuracy : \"+str(clf.best_score_*100))"
   ]
  },
  {
   "cell_type": "markdown",
   "id": "5af55367",
   "metadata": {
    "id": "ysu3HGiI8JQJ",
    "papermill": {
     "duration": null,
     "end_time": null,
     "exception": null,
     "start_time": null,
     "status": "pending"
    },
    "tags": []
   },
   "source": [
    "Test Accuracy"
   ]
  },
  {
   "cell_type": "code",
   "execution_count": null,
   "id": "e5a71054",
   "metadata": {
    "id": "dhvwH76Z8JQK",
    "outputId": "6e9cf8c3-1576-45d9-cd6f-a39c47317329",
    "papermill": {
     "duration": null,
     "end_time": null,
     "exception": null,
     "start_time": null,
     "status": "pending"
    },
    "tags": []
   },
   "outputs": [],
   "source": [
    "from sklearn.metrics import classification_report\n",
    "from sklearn.metrics import confusion_matrix\n",
    "y_predict = clf.predict(X_test_norm)\n",
    "target_names = ['negative', 'positive']\n",
    "sum(y_test == y_predict)/len(y_test)"
   ]
  },
  {
   "cell_type": "code",
   "execution_count": null,
   "id": "51006592",
   "metadata": {
    "id": "BY-ZyplN8JQL",
    "outputId": "07d29e68-5883-407c-d529-340efccbc503",
    "papermill": {
     "duration": null,
     "end_time": null,
     "exception": null,
     "start_time": null,
     "status": "pending"
    },
    "tags": []
   },
   "outputs": [],
   "source": [
    "from sklearn.metrics import confusion_matrix\n",
    "import matplotlib.pyplot as plt\n",
    "import seaborn as sns\n",
    "target_names = ['negative', 'positive']\n",
    "C = confusion_matrix(y_test,y_predict) \n",
    "C = C / C.astype(np.float).sum(axis=1)*100\n",
    "sns.heatmap(C, annot=True, fmt=\".2f\",cmap=\"GnBu\",xticklabels=target_names, yticklabels=target_names)\n",
    "plt.ylabel(\"True Label\")\n",
    "plt.xlabel(\"Predicted Label\")\n",
    "plt.show()"
   ]
  },
  {
   "cell_type": "code",
   "execution_count": null,
   "id": "06965c69",
   "metadata": {
    "id": "wwGUP-YJ8JQN",
    "outputId": "28f7382e-7fe0-42ce-f92c-01edde49f8c0",
    "papermill": {
     "duration": null,
     "end_time": null,
     "exception": null,
     "start_time": null,
     "status": "pending"
    },
    "tags": []
   },
   "outputs": [],
   "source": [
    "print(classification_report(y_test, y_predict, target_names=target_names))"
   ]
  },
  {
   "cell_type": "markdown",
   "id": "422f40ec",
   "metadata": {
    "id": "LP7YysqP8JQO",
    "papermill": {
     "duration": null,
     "end_time": null,
     "exception": null,
     "start_time": null,
     "status": "pending"
    },
    "tags": []
   },
   "source": [
    "# XGBoost\n",
    "\n",
    "10-Folds Cross Validation Training Accuracy"
   ]
  },
  {
   "cell_type": "code",
   "execution_count": null,
   "id": "13d14955",
   "metadata": {
    "execution": {
     "iopub.status.busy": "2021-08-03T08:52:22.913836Z",
     "iopub.status.idle": "2021-08-03T08:52:22.914278Z"
    },
    "id": "8k6aTTLX8JQP",
    "outputId": "6508eb7c-91ae-4e66-d4ae-393dcf041be1",
    "papermill": {
     "duration": null,
     "end_time": null,
     "exception": null,
     "start_time": null,
     "status": "pending"
    },
    "scrolled": true,
    "tags": []
   },
   "outputs": [],
   "source": [
    "#!pip install xgboost  // If you dont have XGBoost\n",
    "import xgboost as xgb\n",
    "from sklearn.model_selection import GridSearchCV\n",
    "params = {\n",
    "    'n_estimators' : [10,50,100,200], #ตัวหลัก\n",
    "    'max_depth' : [2, 4, 8],\n",
    "    'learning_rate' : [0.001, 0.01, 0.1], #ตัวหลัก\n",
    "    'subsample' : [0.5,0.8, 1],\n",
    "    'colsample_bytree' : [0.5, 0.8, 1]    \n",
    "}\n",
    "clf = GridSearchCV(xgb.XGBClassifier(random_state=0, objective='binary:logistic',n_jobs=-1),params, cv = 10)\n",
    "clf.fit(X_train_norm, y_train)\n",
    "print(\"Best params : \" + str(clf.best_params_))\n",
    "print(\"10CV accuracy : \"+str(clf.best_score_*100))"
   ]
  },
  {
   "cell_type": "markdown",
   "id": "06e0f594",
   "metadata": {
    "id": "rCjZSw3y8JQR",
    "papermill": {
     "duration": null,
     "end_time": null,
     "exception": null,
     "start_time": null,
     "status": "pending"
    },
    "tags": []
   },
   "source": [
    "Test Accuracy"
   ]
  },
  {
   "cell_type": "code",
   "execution_count": null,
   "id": "39e6cd27",
   "metadata": {
    "id": "LBzk9b858JQR",
    "outputId": "ef64d40b-484d-4a01-a906-3ac35556eed4",
    "papermill": {
     "duration": null,
     "end_time": null,
     "exception": null,
     "start_time": null,
     "status": "pending"
    },
    "tags": []
   },
   "outputs": [],
   "source": [
    "from sklearn.metrics import classification_report\n",
    "from sklearn.metrics import confusion_matrix\n",
    "y_predict = clf.predict(X_test_norm)\n",
    "target_names = ['negative', 'positive']\n",
    "sum(y_test == y_predict)/len(y_test)"
   ]
  },
  {
   "cell_type": "code",
   "execution_count": null,
   "id": "fc378ae3",
   "metadata": {
    "id": "udIynozx8JQT",
    "outputId": "834a2d42-3d17-4465-dd2d-186e8e0638ce",
    "papermill": {
     "duration": null,
     "end_time": null,
     "exception": null,
     "start_time": null,
     "status": "pending"
    },
    "scrolled": true,
    "tags": []
   },
   "outputs": [],
   "source": [
    "from sklearn.metrics import confusion_matrix\n",
    "import matplotlib.pyplot as plt\n",
    "import seaborn as sns\n",
    "target_names = ['negative', 'positive']\n",
    "C = confusion_matrix(y_test,y_predict) \n",
    "C = C / C.astype(np.float).sum(axis=1)*100\n",
    "sns.heatmap(C, annot=True, fmt=\".2f\",cmap=\"GnBu\",xticklabels=target_names, yticklabels=target_names)\n",
    "plt.ylabel(\"True Label\")\n",
    "plt.xlabel(\"Predicted Label\")\n",
    "plt.show()"
   ]
  },
  {
   "cell_type": "code",
   "execution_count": null,
   "id": "eb43ca8d",
   "metadata": {
    "id": "Z6GyVYcE8JQV",
    "outputId": "fa7b45ea-b0a6-4c5e-fdb4-6fd83668a610",
    "papermill": {
     "duration": null,
     "end_time": null,
     "exception": null,
     "start_time": null,
     "status": "pending"
    },
    "tags": []
   },
   "outputs": [],
   "source": [
    "print(classification_report(y_test, y_predict, target_names=target_names))"
   ]
  },
  {
   "cell_type": "code",
   "execution_count": null,
   "id": "50923a6c",
   "metadata": {
    "papermill": {
     "duration": null,
     "end_time": null,
     "exception": null,
     "start_time": null,
     "status": "pending"
    },
    "tags": []
   },
   "outputs": [],
   "source": []
  },
  {
   "cell_type": "markdown",
   "id": "cc09f22d",
   "metadata": {
    "papermill": {
     "duration": null,
     "end_time": null,
     "exception": null,
     "start_time": null,
     "status": "pending"
    },
    "tags": []
   },
   "source": [
    "# **My choice Model**"
   ]
  },
  {
   "cell_type": "markdown",
   "id": "25ec516b",
   "metadata": {
    "papermill": {
     "duration": null,
     "end_time": null,
     "exception": null,
     "start_time": null,
     "status": "pending"
    },
    "tags": []
   },
   "source": [
    "# **Support Vector Machines**"
   ]
  },
  {
   "cell_type": "markdown",
   "id": "8fb00ca2",
   "metadata": {
    "papermill": {
     "duration": null,
     "end_time": null,
     "exception": null,
     "start_time": null,
     "status": "pending"
    },
    "tags": []
   },
   "source": [
    "0.0001 < gamma < 10 <br>\n",
    "0.1 < c < 100\n",
    "<br> https://scikit-learn.org/stable/modules/svm.html\n",
    "<br> https://towardsdatascience.com/hyperparameter-tuning-for-support-vector-machines-c-and-gamma-parameters-6a5097416167\n",
    "<br> https://scikit-learn.org/stable/modules/generated/sklearn.svm.SVC.html\n",
    "<br> https://medium.com/all-things-ai/in-depth-parameter-tuning-for-svc-758215394769"
   ]
  },
  {
   "cell_type": "code",
   "execution_count": null,
   "id": "612e0525",
   "metadata": {
    "execution": {
     "iopub.execute_input": "2021-08-09T12:53:07.775894Z",
     "iopub.status.busy": "2021-08-09T12:53:07.775486Z",
     "iopub.status.idle": "2021-08-09T12:53:18.551044Z",
     "shell.execute_reply": "2021-08-09T12:53:18.549724Z",
     "shell.execute_reply.started": "2021-08-09T12:53:07.77586Z"
    },
    "papermill": {
     "duration": null,
     "end_time": null,
     "exception": null,
     "start_time": null,
     "status": "pending"
    },
    "tags": []
   },
   "outputs": [],
   "source": [
    "from sklearn.svm import SVC\n",
    "from sklearn.model_selection import GridSearchCV\n",
    "params = {\n",
    "    'C' : [0.1,1,10],\n",
    "    'gamma' : [0.0001,0.002,0.04,0.8,1.8,3.2,5,10],\n",
    "    'break_ties' : ['True']\n",
    "}\n",
    "\n",
    "clf = GridSearchCV(SVC(),params, cv=10)\n",
    "clf.fit(X_train_norm, y_train)\n",
    "print(\"Best params : \" + str(clf.best_params_))\n",
    "print(\"10CV accuracy : \"+str(clf.best_score_*100))"
   ]
  },
  {
   "cell_type": "code",
   "execution_count": null,
   "id": "13cad53f",
   "metadata": {
    "execution": {
     "iopub.execute_input": "2021-08-09T12:53:20.176085Z",
     "iopub.status.busy": "2021-08-09T12:53:20.175724Z",
     "iopub.status.idle": "2021-08-09T12:53:20.192528Z",
     "shell.execute_reply": "2021-08-09T12:53:20.191475Z",
     "shell.execute_reply.started": "2021-08-09T12:53:20.176056Z"
    },
    "papermill": {
     "duration": null,
     "end_time": null,
     "exception": null,
     "start_time": null,
     "status": "pending"
    },
    "tags": []
   },
   "outputs": [],
   "source": [
    "from sklearn.metrics import classification_report\n",
    "from sklearn.metrics import confusion_matrix\n",
    "y_predict = clf.predict(X_test_norm)\n",
    "target_names = ['negative', 'positive']\n",
    "100*sum(y_test == y_predict)/len(y_test)"
   ]
  },
  {
   "cell_type": "code",
   "execution_count": null,
   "id": "9e531ad6",
   "metadata": {
    "execution": {
     "iopub.execute_input": "2021-08-09T12:55:12.935632Z",
     "iopub.status.busy": "2021-08-09T12:55:12.935241Z",
     "iopub.status.idle": "2021-08-09T12:55:13.115586Z",
     "shell.execute_reply": "2021-08-09T12:55:13.114499Z",
     "shell.execute_reply.started": "2021-08-09T12:55:12.935601Z"
    },
    "papermill": {
     "duration": null,
     "end_time": null,
     "exception": null,
     "start_time": null,
     "status": "pending"
    },
    "tags": []
   },
   "outputs": [],
   "source": [
    "from sklearn.metrics import confusion_matrix\n",
    "import matplotlib.pyplot as plt\n",
    "import seaborn as sns\n",
    "target_names = ['negative', 'positive']\n",
    "C = confusion_matrix(y_test,y_predict) \n",
    "C = C / C.astype(np.float).sum(axis=1)*100\n",
    "sns.heatmap(C, annot=True, fmt=\".2f\",cmap=\"GnBu\",xticklabels=target_names, yticklabels=target_names)\n",
    "plt.ylabel(\"True Label\")\n",
    "plt.xlabel(\"Predicted Label\")\n",
    "plt.show()"
   ]
  },
  {
   "cell_type": "code",
   "execution_count": null,
   "id": "d099a542",
   "metadata": {
    "execution": {
     "iopub.execute_input": "2021-08-09T12:55:14.716025Z",
     "iopub.status.busy": "2021-08-09T12:55:14.715664Z",
     "iopub.status.idle": "2021-08-09T12:55:14.727859Z",
     "shell.execute_reply": "2021-08-09T12:55:14.726304Z",
     "shell.execute_reply.started": "2021-08-09T12:55:14.715995Z"
    },
    "papermill": {
     "duration": null,
     "end_time": null,
     "exception": null,
     "start_time": null,
     "status": "pending"
    },
    "tags": []
   },
   "outputs": [],
   "source": [
    "print(classification_report(y_test, y_predict, target_names=target_names))"
   ]
  }
 ],
 "metadata": {
  "kernelspec": {
   "display_name": "Python 3",
   "language": "python",
   "name": "python3"
  },
  "language_info": {
   "codemirror_mode": {
    "name": "ipython",
    "version": 3
   },
   "file_extension": ".py",
   "mimetype": "text/x-python",
   "name": "python",
   "nbconvert_exporter": "python",
   "pygments_lexer": "ipython3",
   "version": "3.7.10"
  },
  "papermill": {
   "default_parameters": {},
   "duration": 13.763672,
   "end_time": "2021-10-12T19:50:43.059697",
   "environment_variables": {},
   "exception": true,
   "input_path": "__notebook__.ipynb",
   "output_path": "__notebook__.ipynb",
   "parameters": {},
   "start_time": "2021-10-12T19:50:29.296025",
   "version": "2.3.3"
  }
 },
 "nbformat": 4,
 "nbformat_minor": 5
}
