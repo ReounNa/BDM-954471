{
 "cells": [
  {
   "cell_type": "code",
   "execution_count": 1,
   "id": "9a35ecad",
   "metadata": {
    "_cell_guid": "b1076dfc-b9ad-4769-8c92-a6c4dae69d19",
    "_uuid": "8f2839f25d086af736a60e9eeb907d3b93b6e0e5",
    "execution": {
     "iopub.execute_input": "2021-10-05T07:43:34.094470Z",
     "iopub.status.busy": "2021-10-05T07:43:34.093753Z",
     "iopub.status.idle": "2021-10-05T07:43:34.107313Z",
     "shell.execute_reply": "2021-10-05T07:43:34.106554Z",
     "shell.execute_reply.started": "2021-10-05T06:29:58.377691Z"
    },
    "papermill": {
     "duration": 0.051424,
     "end_time": "2021-10-05T07:43:34.107480",
     "exception": false,
     "start_time": "2021-10-05T07:43:34.056056",
     "status": "completed"
    },
    "tags": []
   },
   "outputs": [
    {
     "name": "stdout",
     "output_type": "stream",
     "text": [
      "/kaggle/input/product-position/upper.csv\n"
     ]
    }
   ],
   "source": [
    "# This Python 3 environment comes with many helpful analytics libraries installed\n",
    "# It is defined by the kaggle/python Docker image: https://github.com/kaggle/docker-python\n",
    "# For example, here's several helpful packages to load\n",
    "\n",
    "import numpy as np # linear algebra\n",
    "import pandas as pd # data processing, CSV file I/O (e.g. pd.read_csv)\n",
    "\n",
    "# Input data files are available in the read-only \"../input/\" directory\n",
    "# For example, running this (by clicking run or pressing Shift+Enter) will list all files under the input directory\n",
    "\n",
    "import os\n",
    "for dirname, _, filenames in os.walk('/kaggle/input'):\n",
    "    for filename in filenames:\n",
    "        print(os.path.join(dirname, filename))\n",
    "\n",
    "# You can write up to 20GB to the current directory (/kaggle/working/) that gets preserved as output when you create a version using \"Save & Run All\" \n",
    "# You can also write temporary files to /kaggle/temp/, but they won't be saved outside of the current session"
   ]
  },
  {
   "cell_type": "code",
   "execution_count": 2,
   "id": "1b00d1c8",
   "metadata": {
    "execution": {
     "iopub.execute_input": "2021-10-05T07:43:34.164184Z",
     "iopub.status.busy": "2021-10-05T07:43:34.163089Z",
     "iopub.status.idle": "2021-10-05T07:43:35.234830Z",
     "shell.execute_reply": "2021-10-05T07:43:35.235378Z",
     "shell.execute_reply.started": "2021-10-05T06:29:58.428763Z"
    },
    "papermill": {
     "duration": 1.102747,
     "end_time": "2021-10-05T07:43:35.235543",
     "exception": false,
     "start_time": "2021-10-05T07:43:34.132796",
     "status": "completed"
    },
    "tags": []
   },
   "outputs": [
    {
     "data": {
      "text/html": [
       "<div>\n",
       "<style scoped>\n",
       "    .dataframe tbody tr th:only-of-type {\n",
       "        vertical-align: middle;\n",
       "    }\n",
       "\n",
       "    .dataframe tbody tr th {\n",
       "        vertical-align: top;\n",
       "    }\n",
       "\n",
       "    .dataframe thead th {\n",
       "        text-align: right;\n",
       "    }\n",
       "</style>\n",
       "<table border=\"1\" class=\"dataframe\">\n",
       "  <thead>\n",
       "    <tr style=\"text-align: right;\">\n",
       "      <th></th>\n",
       "      <th>0</th>\n",
       "      <th>1</th>\n",
       "      <th>2</th>\n",
       "      <th>3</th>\n",
       "      <th>4</th>\n",
       "      <th>5</th>\n",
       "      <th>6</th>\n",
       "      <th>7</th>\n",
       "      <th>8</th>\n",
       "      <th>9</th>\n",
       "      <th>...</th>\n",
       "      <th>1165</th>\n",
       "      <th>1166</th>\n",
       "      <th>1167</th>\n",
       "      <th>1168</th>\n",
       "      <th>1169</th>\n",
       "      <th>1170</th>\n",
       "      <th>1171</th>\n",
       "      <th>1172</th>\n",
       "      <th>1173</th>\n",
       "      <th>1174</th>\n",
       "    </tr>\n",
       "  </thead>\n",
       "  <tbody>\n",
       "    <tr>\n",
       "      <th>0</th>\n",
       "      <td>0</td>\n",
       "      <td>-0.214777</td>\n",
       "      <td>-0.074414</td>\n",
       "      <td>0.079668</td>\n",
       "      <td>-0.041953</td>\n",
       "      <td>-0.715294</td>\n",
       "      <td>0.043155</td>\n",
       "      <td>0.754480</td>\n",
       "      <td>0.628223</td>\n",
       "      <td>-0.074455</td>\n",
       "      <td>...</td>\n",
       "      <td>0.088765</td>\n",
       "      <td>0.285463</td>\n",
       "      <td>-0.060605</td>\n",
       "      <td>-0.542769</td>\n",
       "      <td>-0.006594</td>\n",
       "      <td>0.665262</td>\n",
       "      <td>-0.015711</td>\n",
       "      <td>-0.667007</td>\n",
       "      <td>-0.013797</td>\n",
       "      <td>0.368727</td>\n",
       "    </tr>\n",
       "    <tr>\n",
       "      <th>1</th>\n",
       "      <td>0</td>\n",
       "      <td>-0.253997</td>\n",
       "      <td>0.000337</td>\n",
       "      <td>0.060563</td>\n",
       "      <td>-0.101104</td>\n",
       "      <td>-0.701834</td>\n",
       "      <td>0.070198</td>\n",
       "      <td>0.748214</td>\n",
       "      <td>0.656058</td>\n",
       "      <td>0.016878</td>\n",
       "      <td>...</td>\n",
       "      <td>0.182359</td>\n",
       "      <td>-0.046342</td>\n",
       "      <td>-0.233167</td>\n",
       "      <td>-0.234710</td>\n",
       "      <td>0.183400</td>\n",
       "      <td>0.591095</td>\n",
       "      <td>-0.059619</td>\n",
       "      <td>-0.819383</td>\n",
       "      <td>-0.283455</td>\n",
       "      <td>0.414261</td>\n",
       "    </tr>\n",
       "    <tr>\n",
       "      <th>2</th>\n",
       "      <td>0</td>\n",
       "      <td>-0.212620</td>\n",
       "      <td>-0.136841</td>\n",
       "      <td>0.113312</td>\n",
       "      <td>0.014819</td>\n",
       "      <td>-0.714882</td>\n",
       "      <td>-0.012742</td>\n",
       "      <td>0.720049</td>\n",
       "      <td>0.666651</td>\n",
       "      <td>-0.012994</td>\n",
       "      <td>...</td>\n",
       "      <td>0.020312</td>\n",
       "      <td>0.042942</td>\n",
       "      <td>-0.171825</td>\n",
       "      <td>-0.373853</td>\n",
       "      <td>-0.104966</td>\n",
       "      <td>0.448661</td>\n",
       "      <td>0.347881</td>\n",
       "      <td>-0.296482</td>\n",
       "      <td>-0.369788</td>\n",
       "      <td>-0.097517</td>\n",
       "    </tr>\n",
       "    <tr>\n",
       "      <th>3</th>\n",
       "      <td>0</td>\n",
       "      <td>-0.156624</td>\n",
       "      <td>-0.255746</td>\n",
       "      <td>0.086175</td>\n",
       "      <td>0.086967</td>\n",
       "      <td>-0.657194</td>\n",
       "      <td>0.011942</td>\n",
       "      <td>0.792931</td>\n",
       "      <td>0.718432</td>\n",
       "      <td>-0.084970</td>\n",
       "      <td>...</td>\n",
       "      <td>-0.142067</td>\n",
       "      <td>0.143729</td>\n",
       "      <td>-0.000996</td>\n",
       "      <td>-0.482060</td>\n",
       "      <td>-0.256660</td>\n",
       "      <td>0.559800</td>\n",
       "      <td>0.520810</td>\n",
       "      <td>-0.381071</td>\n",
       "      <td>-0.506321</td>\n",
       "      <td>-0.038203</td>\n",
       "    </tr>\n",
       "    <tr>\n",
       "      <th>4</th>\n",
       "      <td>0</td>\n",
       "      <td>-0.212018</td>\n",
       "      <td>0.003571</td>\n",
       "      <td>-0.026051</td>\n",
       "      <td>-0.032036</td>\n",
       "      <td>-0.683312</td>\n",
       "      <td>-0.024696</td>\n",
       "      <td>0.778626</td>\n",
       "      <td>0.821851</td>\n",
       "      <td>0.083669</td>\n",
       "      <td>...</td>\n",
       "      <td>-0.057536</td>\n",
       "      <td>0.141625</td>\n",
       "      <td>-0.370610</td>\n",
       "      <td>-0.451844</td>\n",
       "      <td>0.315462</td>\n",
       "      <td>0.651035</td>\n",
       "      <td>-0.119629</td>\n",
       "      <td>-0.642190</td>\n",
       "      <td>-0.087899</td>\n",
       "      <td>0.252129</td>\n",
       "    </tr>\n",
       "  </tbody>\n",
       "</table>\n",
       "<p>5 rows × 1175 columns</p>\n",
       "</div>"
      ],
      "text/plain": [
       "   0         1         2         3         4         5         6         7     \\\n",
       "0     0 -0.214777 -0.074414  0.079668 -0.041953 -0.715294  0.043155  0.754480   \n",
       "1     0 -0.253997  0.000337  0.060563 -0.101104 -0.701834  0.070198  0.748214   \n",
       "2     0 -0.212620 -0.136841  0.113312  0.014819 -0.714882 -0.012742  0.720049   \n",
       "3     0 -0.156624 -0.255746  0.086175  0.086967 -0.657194  0.011942  0.792931   \n",
       "4     0 -0.212018  0.003571 -0.026051 -0.032036 -0.683312 -0.024696  0.778626   \n",
       "\n",
       "       8         9     ...      1165      1166      1167      1168      1169  \\\n",
       "0  0.628223 -0.074455  ...  0.088765  0.285463 -0.060605 -0.542769 -0.006594   \n",
       "1  0.656058  0.016878  ...  0.182359 -0.046342 -0.233167 -0.234710  0.183400   \n",
       "2  0.666651 -0.012994  ...  0.020312  0.042942 -0.171825 -0.373853 -0.104966   \n",
       "3  0.718432 -0.084970  ... -0.142067  0.143729 -0.000996 -0.482060 -0.256660   \n",
       "4  0.821851  0.083669  ... -0.057536  0.141625 -0.370610 -0.451844  0.315462   \n",
       "\n",
       "       1170      1171      1172      1173      1174  \n",
       "0  0.665262 -0.015711 -0.667007 -0.013797  0.368727  \n",
       "1  0.591095 -0.059619 -0.819383 -0.283455  0.414261  \n",
       "2  0.448661  0.347881 -0.296482 -0.369788 -0.097517  \n",
       "3  0.559800  0.520810 -0.381071 -0.506321 -0.038203  \n",
       "4  0.651035 -0.119629 -0.642190 -0.087899  0.252129  \n",
       "\n",
       "[5 rows x 1175 columns]"
      ]
     },
     "execution_count": 2,
     "metadata": {},
     "output_type": "execute_result"
    }
   ],
   "source": [
    "df = pd.read_csv(\"../input/product-position/upper.csv\", header=None)\n",
    "df.head()"
   ]
  },
  {
   "cell_type": "code",
   "execution_count": 3,
   "id": "c0318714",
   "metadata": {
    "execution": {
     "iopub.execute_input": "2021-10-05T07:43:35.290012Z",
     "iopub.status.busy": "2021-10-05T07:43:35.288941Z",
     "iopub.status.idle": "2021-10-05T07:43:35.295111Z",
     "shell.execute_reply": "2021-10-05T07:43:35.294464Z",
     "shell.execute_reply.started": "2021-10-05T06:29:59.327108Z"
    },
    "papermill": {
     "duration": 0.033852,
     "end_time": "2021-10-05T07:43:35.295246",
     "exception": false,
     "start_time": "2021-10-05T07:43:35.261394",
     "status": "completed"
    },
    "tags": []
   },
   "outputs": [
    {
     "data": {
      "text/plain": [
       "(2136, 1175)"
      ]
     },
     "execution_count": 3,
     "metadata": {},
     "output_type": "execute_result"
    }
   ],
   "source": [
    "df.shape"
   ]
  },
  {
   "cell_type": "code",
   "execution_count": 4,
   "id": "3b6fd325",
   "metadata": {
    "execution": {
     "iopub.execute_input": "2021-10-05T07:43:35.355711Z",
     "iopub.status.busy": "2021-10-05T07:43:35.353379Z",
     "iopub.status.idle": "2021-10-05T07:43:35.363461Z",
     "shell.execute_reply": "2021-10-05T07:43:35.362863Z",
     "shell.execute_reply.started": "2021-10-05T06:29:59.334796Z"
    },
    "papermill": {
     "duration": 0.04241,
     "end_time": "2021-10-05T07:43:35.363623",
     "exception": false,
     "start_time": "2021-10-05T07:43:35.321213",
     "status": "completed"
    },
    "tags": []
   },
   "outputs": [
    {
     "data": {
      "text/plain": [
       "0\n",
       "0     343\n",
       "1      87\n",
       "2      29\n",
       "3      13\n",
       "4      52\n",
       "5     105\n",
       "6       2\n",
       "7       2\n",
       "8     741\n",
       "9     433\n",
       "10     91\n",
       "11     62\n",
       "12    163\n",
       "13      4\n",
       "14      9\n",
       "Name: 0, dtype: int64"
      ]
     },
     "execution_count": 4,
     "metadata": {},
     "output_type": "execute_result"
    }
   ],
   "source": [
    "df.groupby(0)[0].count()"
   ]
  },
  {
   "cell_type": "code",
   "execution_count": 5,
   "id": "aa6a9911",
   "metadata": {
    "execution": {
     "iopub.execute_input": "2021-10-05T07:43:35.433013Z",
     "iopub.status.busy": "2021-10-05T07:43:35.431954Z",
     "iopub.status.idle": "2021-10-05T07:43:35.436861Z",
     "shell.execute_reply": "2021-10-05T07:43:35.437308Z",
     "shell.execute_reply.started": "2021-10-05T06:29:59.350515Z"
    },
    "papermill": {
     "duration": 0.048577,
     "end_time": "2021-10-05T07:43:35.437481",
     "exception": false,
     "start_time": "2021-10-05T07:43:35.388904",
     "status": "completed"
    },
    "tags": []
   },
   "outputs": [
    {
     "data": {
      "text/plain": [
       "(1517, 1175)"
      ]
     },
     "execution_count": 5,
     "metadata": {},
     "output_type": "execute_result"
    }
   ],
   "source": [
    "df_sel = df[(df[0]==0) | (df[0]==8) | (df[0]==9)]\n",
    "df_sel.shape"
   ]
  },
  {
   "cell_type": "code",
   "execution_count": 6,
   "id": "fa06e74e",
   "metadata": {
    "execution": {
     "iopub.execute_input": "2021-10-05T07:43:35.492720Z",
     "iopub.status.busy": "2021-10-05T07:43:35.492035Z",
     "iopub.status.idle": "2021-10-05T07:43:35.504077Z",
     "shell.execute_reply": "2021-10-05T07:43:35.504564Z",
     "shell.execute_reply.started": "2021-10-05T06:29:59.370503Z"
    },
    "papermill": {
     "duration": 0.041437,
     "end_time": "2021-10-05T07:43:35.504769",
     "exception": false,
     "start_time": "2021-10-05T07:43:35.463332",
     "status": "completed"
    },
    "tags": []
   },
   "outputs": [],
   "source": [
    "Xo = df_sel.drop([0],axis=1).values\n",
    "yo = df_sel[0].values"
   ]
  },
  {
   "cell_type": "code",
   "execution_count": 7,
   "id": "5924c7db",
   "metadata": {
    "execution": {
     "iopub.execute_input": "2021-10-05T07:43:35.562441Z",
     "iopub.status.busy": "2021-10-05T07:43:35.561512Z",
     "iopub.status.idle": "2021-10-05T07:43:35.564856Z",
     "shell.execute_reply": "2021-10-05T07:43:35.565347Z",
     "shell.execute_reply.started": "2021-10-05T06:29:59.387994Z"
    },
    "papermill": {
     "duration": 0.034361,
     "end_time": "2021-10-05T07:43:35.565511",
     "exception": false,
     "start_time": "2021-10-05T07:43:35.531150",
     "status": "completed"
    },
    "tags": []
   },
   "outputs": [
    {
     "data": {
      "text/plain": [
       "(1517, 1174)"
      ]
     },
     "execution_count": 7,
     "metadata": {},
     "output_type": "execute_result"
    }
   ],
   "source": [
    "Xo.shape"
   ]
  },
  {
   "cell_type": "code",
   "execution_count": 8,
   "id": "3f1eb585",
   "metadata": {
    "execution": {
     "iopub.execute_input": "2021-10-05T07:43:35.624486Z",
     "iopub.status.busy": "2021-10-05T07:43:35.623761Z",
     "iopub.status.idle": "2021-10-05T07:43:35.629802Z",
     "shell.execute_reply": "2021-10-05T07:43:35.629195Z",
     "shell.execute_reply.started": "2021-10-05T06:29:59.400599Z"
    },
    "papermill": {
     "duration": 0.037684,
     "end_time": "2021-10-05T07:43:35.629953",
     "exception": false,
     "start_time": "2021-10-05T07:43:35.592269",
     "status": "completed"
    },
    "tags": []
   },
   "outputs": [
    {
     "data": {
      "text/plain": [
       "(1517,)"
      ]
     },
     "execution_count": 8,
     "metadata": {},
     "output_type": "execute_result"
    }
   ],
   "source": [
    "yo.shape"
   ]
  },
  {
   "cell_type": "code",
   "execution_count": 9,
   "id": "c674d023",
   "metadata": {
    "execution": {
     "iopub.execute_input": "2021-10-05T07:43:35.687616Z",
     "iopub.status.busy": "2021-10-05T07:43:35.686534Z",
     "iopub.status.idle": "2021-10-05T07:43:35.693540Z",
     "shell.execute_reply": "2021-10-05T07:43:35.693021Z",
     "shell.execute_reply.started": "2021-10-05T06:29:59.412529Z"
    },
    "papermill": {
     "duration": 0.036367,
     "end_time": "2021-10-05T07:43:35.693704",
     "exception": false,
     "start_time": "2021-10-05T07:43:35.657337",
     "status": "completed"
    },
    "tags": []
   },
   "outputs": [
    {
     "data": {
      "text/plain": [
       "array([0, 8, 9])"
      ]
     },
     "execution_count": 9,
     "metadata": {},
     "output_type": "execute_result"
    }
   ],
   "source": [
    "np.unique(yo)"
   ]
  },
  {
   "cell_type": "code",
   "execution_count": 10,
   "id": "9a6fc2d6",
   "metadata": {
    "execution": {
     "iopub.execute_input": "2021-10-05T07:43:35.753054Z",
     "iopub.status.busy": "2021-10-05T07:43:35.752039Z",
     "iopub.status.idle": "2021-10-05T07:43:35.756674Z",
     "shell.execute_reply": "2021-10-05T07:43:35.757252Z",
     "shell.execute_reply.started": "2021-10-05T06:29:59.424364Z"
    },
    "papermill": {
     "duration": 0.037144,
     "end_time": "2021-10-05T07:43:35.757422",
     "exception": false,
     "start_time": "2021-10-05T07:43:35.720278",
     "status": "completed"
    },
    "tags": []
   },
   "outputs": [
    {
     "data": {
      "text/plain": [
       "array([0, 1, 2])"
      ]
     },
     "execution_count": 10,
     "metadata": {},
     "output_type": "execute_result"
    }
   ],
   "source": [
    "yo[yo==8] = 1\n",
    "yo[yo==9] = 2\n",
    "np.unique(yo)"
   ]
  },
  {
   "cell_type": "code",
   "execution_count": 11,
   "id": "3a10e23b",
   "metadata": {
    "execution": {
     "iopub.execute_input": "2021-10-05T07:43:35.822354Z",
     "iopub.status.busy": "2021-10-05T07:43:35.815962Z",
     "iopub.status.idle": "2021-10-05T07:43:35.838937Z",
     "shell.execute_reply": "2021-10-05T07:43:35.839461Z",
     "shell.execute_reply.started": "2021-10-05T06:29:59.439707Z"
    },
    "papermill": {
     "duration": 0.05538,
     "end_time": "2021-10-05T07:43:35.839664",
     "exception": false,
     "start_time": "2021-10-05T07:43:35.784284",
     "status": "completed"
    },
    "tags": []
   },
   "outputs": [
    {
     "data": {
      "text/plain": [
       "[343, 741, 433]"
      ]
     },
     "execution_count": 11,
     "metadata": {},
     "output_type": "execute_result"
    }
   ],
   "source": [
    "[sum(yo == item) for item in np.unique(yo)]"
   ]
  },
  {
   "cell_type": "code",
   "execution_count": 12,
   "id": "c9357700",
   "metadata": {
    "execution": {
     "iopub.execute_input": "2021-10-05T07:43:35.901614Z",
     "iopub.status.busy": "2021-10-05T07:43:35.900924Z",
     "iopub.status.idle": "2021-10-05T07:43:36.899310Z",
     "shell.execute_reply": "2021-10-05T07:43:36.899820Z",
     "shell.execute_reply.started": "2021-10-05T06:29:59.466113Z"
    },
    "papermill": {
     "duration": 1.031579,
     "end_time": "2021-10-05T07:43:36.900007",
     "exception": false,
     "start_time": "2021-10-05T07:43:35.868428",
     "status": "completed"
    },
    "tags": []
   },
   "outputs": [],
   "source": [
    "from sklearn.model_selection import train_test_split\n",
    "X_train, X_test, y, yt = train_test_split(Xo, yo, test_size=0.2, random_state=0)"
   ]
  },
  {
   "cell_type": "code",
   "execution_count": 13,
   "id": "b06e76ad",
   "metadata": {
    "execution": {
     "iopub.execute_input": "2021-10-05T07:43:36.962232Z",
     "iopub.status.busy": "2021-10-05T07:43:36.961517Z",
     "iopub.status.idle": "2021-10-05T07:43:36.970881Z",
     "shell.execute_reply": "2021-10-05T07:43:36.970320Z",
     "shell.execute_reply.started": "2021-10-05T06:29:59.500533Z"
    },
    "papermill": {
     "duration": 0.043068,
     "end_time": "2021-10-05T07:43:36.971033",
     "exception": false,
     "start_time": "2021-10-05T07:43:36.927965",
     "status": "completed"
    },
    "tags": []
   },
   "outputs": [],
   "source": [
    "from sklearn.model_selection import train_test_split\n",
    "X_train, X_val, y, yv = train_test_split(X_train, y, test_size=0.2, random_state=0)"
   ]
  },
  {
   "cell_type": "code",
   "execution_count": 14,
   "id": "8fc62703",
   "metadata": {
    "execution": {
     "iopub.execute_input": "2021-10-05T07:43:37.033377Z",
     "iopub.status.busy": "2021-10-05T07:43:37.032550Z",
     "iopub.status.idle": "2021-10-05T07:43:37.035817Z",
     "shell.execute_reply": "2021-10-05T07:43:37.036297Z",
     "shell.execute_reply.started": "2021-10-05T06:29:59.519061Z"
    },
    "papermill": {
     "duration": 0.037391,
     "end_time": "2021-10-05T07:43:37.036465",
     "exception": false,
     "start_time": "2021-10-05T07:43:36.999074",
     "status": "completed"
    },
    "tags": []
   },
   "outputs": [
    {
     "data": {
      "text/plain": [
       "(970, 1174)"
      ]
     },
     "execution_count": 14,
     "metadata": {},
     "output_type": "execute_result"
    }
   ],
   "source": [
    "X_train.shape"
   ]
  },
  {
   "cell_type": "code",
   "execution_count": 15,
   "id": "a78ae40a",
   "metadata": {
    "execution": {
     "iopub.execute_input": "2021-10-05T07:43:37.099426Z",
     "iopub.status.busy": "2021-10-05T07:43:37.098525Z",
     "iopub.status.idle": "2021-10-05T07:43:37.102558Z",
     "shell.execute_reply": "2021-10-05T07:43:37.102032Z",
     "shell.execute_reply.started": "2021-10-05T06:29:59.529398Z"
    },
    "papermill": {
     "duration": 0.037464,
     "end_time": "2021-10-05T07:43:37.102714",
     "exception": false,
     "start_time": "2021-10-05T07:43:37.065250",
     "status": "completed"
    },
    "tags": []
   },
   "outputs": [
    {
     "data": {
      "text/plain": [
       "(243, 1174)"
      ]
     },
     "execution_count": 15,
     "metadata": {},
     "output_type": "execute_result"
    }
   ],
   "source": [
    "X_val.shape"
   ]
  },
  {
   "cell_type": "code",
   "execution_count": 16,
   "id": "bf797b94",
   "metadata": {
    "execution": {
     "iopub.execute_input": "2021-10-05T07:43:37.166783Z",
     "iopub.status.busy": "2021-10-05T07:43:37.165873Z",
     "iopub.status.idle": "2021-10-05T07:43:37.170484Z",
     "shell.execute_reply": "2021-10-05T07:43:37.169784Z",
     "shell.execute_reply.started": "2021-10-05T06:29:59.543447Z"
    },
    "papermill": {
     "duration": 0.039976,
     "end_time": "2021-10-05T07:43:37.170650",
     "exception": false,
     "start_time": "2021-10-05T07:43:37.130674",
     "status": "completed"
    },
    "tags": []
   },
   "outputs": [
    {
     "data": {
      "text/plain": [
       "(304, 1174)"
      ]
     },
     "execution_count": 16,
     "metadata": {},
     "output_type": "execute_result"
    }
   ],
   "source": [
    "X_test.shape"
   ]
  },
  {
   "cell_type": "code",
   "execution_count": 17,
   "id": "58733173",
   "metadata": {
    "execution": {
     "iopub.execute_input": "2021-10-05T07:43:37.237651Z",
     "iopub.status.busy": "2021-10-05T07:43:37.236787Z",
     "iopub.status.idle": "2021-10-05T07:43:37.933312Z",
     "shell.execute_reply": "2021-10-05T07:43:37.932635Z",
     "shell.execute_reply.started": "2021-10-05T06:29:59.556236Z"
    },
    "papermill": {
     "duration": 0.733807,
     "end_time": "2021-10-05T07:43:37.933464",
     "exception": false,
     "start_time": "2021-10-05T07:43:37.199657",
     "status": "completed"
    },
    "tags": []
   },
   "outputs": [],
   "source": [
    "from imblearn.over_sampling import SMOTE\n",
    "sm = SMOTE(random_state=0)\n",
    "X_res, y_res = sm.fit_resample(X_train, y)\n",
    "\n",
    "from sklearn.preprocessing import MinMaxScaler\n",
    "scl = MinMaxScaler()\n",
    "scl.fit(X_res)\n",
    "X_train_norm = scl.transform(X_res)\n",
    "X_val_norm = scl.transform(X_val)\n",
    "X_test_norm = scl.transform(X_test)\n",
    "y = y_res"
   ]
  },
  {
   "cell_type": "code",
   "execution_count": 18,
   "id": "41b44886",
   "metadata": {
    "execution": {
     "iopub.execute_input": "2021-10-05T07:43:37.997051Z",
     "iopub.status.busy": "2021-10-05T07:43:37.996030Z",
     "iopub.status.idle": "2021-10-05T07:43:38.000384Z",
     "shell.execute_reply": "2021-10-05T07:43:37.999777Z",
     "shell.execute_reply.started": "2021-10-05T06:29:59.962346Z"
    },
    "papermill": {
     "duration": 0.037673,
     "end_time": "2021-10-05T07:43:38.000524",
     "exception": false,
     "start_time": "2021-10-05T07:43:37.962851",
     "status": "completed"
    },
    "tags": []
   },
   "outputs": [
    {
     "data": {
      "text/plain": [
       "array([1, 0, 1, ..., 2, 2, 2])"
      ]
     },
     "execution_count": 18,
     "metadata": {},
     "output_type": "execute_result"
    }
   ],
   "source": [
    "y"
   ]
  },
  {
   "cell_type": "code",
   "execution_count": 19,
   "id": "8d73a93c",
   "metadata": {
    "execution": {
     "iopub.execute_input": "2021-10-05T07:43:38.066858Z",
     "iopub.status.busy": "2021-10-05T07:43:38.066182Z",
     "iopub.status.idle": "2021-10-05T07:43:38.071873Z",
     "shell.execute_reply": "2021-10-05T07:43:38.071324Z",
     "shell.execute_reply.started": "2021-10-05T06:29:59.972737Z"
    },
    "papermill": {
     "duration": 0.041462,
     "end_time": "2021-10-05T07:43:38.072020",
     "exception": false,
     "start_time": "2021-10-05T07:43:38.030558",
     "status": "completed"
    },
    "tags": []
   },
   "outputs": [],
   "source": [
    "num_label = len(np.unique(y)) \n",
    "y_multi = (np.arange(num_label) == y[:,None]).astype(np.float32)\n",
    "yv_multi = (np.arange(num_label) == yv[:,None]).astype(np.float32)\n",
    "yt_multi = (np.arange(num_label) == yt[:,None]).astype(np.float32)"
   ]
  },
  {
   "cell_type": "code",
   "execution_count": 20,
   "id": "e1f59208",
   "metadata": {
    "execution": {
     "iopub.execute_input": "2021-10-05T07:43:38.145872Z",
     "iopub.status.busy": "2021-10-05T07:43:38.145115Z",
     "iopub.status.idle": "2021-10-05T07:43:38.148039Z",
     "shell.execute_reply": "2021-10-05T07:43:38.148525Z",
     "shell.execute_reply.started": "2021-10-05T06:29:59.982895Z"
    },
    "papermill": {
     "duration": 0.047757,
     "end_time": "2021-10-05T07:43:38.148719",
     "exception": false,
     "start_time": "2021-10-05T07:43:38.100962",
     "status": "completed"
    },
    "tags": []
   },
   "outputs": [
    {
     "data": {
      "text/plain": [
       "array([[0., 1., 0.],\n",
       "       [0., 1., 0.],\n",
       "       [0., 1., 0.],\n",
       "       [0., 1., 0.],\n",
       "       [0., 0., 1.],\n",
       "       [1., 0., 0.],\n",
       "       [0., 0., 1.],\n",
       "       [0., 1., 0.],\n",
       "       [0., 0., 1.],\n",
       "       [0., 1., 0.],\n",
       "       [0., 1., 0.],\n",
       "       [0., 1., 0.],\n",
       "       [0., 1., 0.],\n",
       "       [0., 1., 0.],\n",
       "       [1., 0., 0.],\n",
       "       [0., 1., 0.],\n",
       "       [0., 0., 1.],\n",
       "       [1., 0., 0.],\n",
       "       [1., 0., 0.],\n",
       "       [0., 1., 0.],\n",
       "       [0., 0., 1.],\n",
       "       [0., 1., 0.],\n",
       "       [1., 0., 0.],\n",
       "       [0., 1., 0.],\n",
       "       [0., 0., 1.],\n",
       "       [1., 0., 0.],\n",
       "       [0., 0., 1.],\n",
       "       [0., 1., 0.],\n",
       "       [0., 1., 0.],\n",
       "       [0., 1., 0.],\n",
       "       [0., 1., 0.],\n",
       "       [0., 0., 1.],\n",
       "       [1., 0., 0.],\n",
       "       [0., 1., 0.],\n",
       "       [0., 1., 0.],\n",
       "       [0., 1., 0.],\n",
       "       [0., 0., 1.],\n",
       "       [0., 1., 0.],\n",
       "       [1., 0., 0.],\n",
       "       [0., 1., 0.],\n",
       "       [0., 1., 0.],\n",
       "       [0., 1., 0.],\n",
       "       [1., 0., 0.],\n",
       "       [1., 0., 0.],\n",
       "       [0., 0., 1.],\n",
       "       [0., 0., 1.],\n",
       "       [1., 0., 0.],\n",
       "       [0., 1., 0.],\n",
       "       [0., 0., 1.],\n",
       "       [0., 1., 0.],\n",
       "       [0., 0., 1.],\n",
       "       [1., 0., 0.],\n",
       "       [0., 0., 1.],\n",
       "       [0., 1., 0.],\n",
       "       [0., 0., 1.],\n",
       "       [0., 1., 0.],\n",
       "       [1., 0., 0.],\n",
       "       [0., 1., 0.],\n",
       "       [0., 1., 0.],\n",
       "       [1., 0., 0.],\n",
       "       [1., 0., 0.],\n",
       "       [0., 1., 0.],\n",
       "       [0., 0., 1.],\n",
       "       [0., 1., 0.],\n",
       "       [0., 0., 1.],\n",
       "       [0., 1., 0.],\n",
       "       [0., 0., 1.],\n",
       "       [0., 0., 1.],\n",
       "       [1., 0., 0.],\n",
       "       [0., 1., 0.],\n",
       "       [1., 0., 0.],\n",
       "       [0., 1., 0.],\n",
       "       [1., 0., 0.],\n",
       "       [0., 0., 1.],\n",
       "       [0., 1., 0.],\n",
       "       [1., 0., 0.],\n",
       "       [0., 0., 1.],\n",
       "       [0., 1., 0.],\n",
       "       [0., 0., 1.],\n",
       "       [0., 0., 1.],\n",
       "       [0., 1., 0.],\n",
       "       [0., 1., 0.],\n",
       "       [0., 1., 0.],\n",
       "       [0., 0., 1.],\n",
       "       [0., 1., 0.],\n",
       "       [0., 1., 0.],\n",
       "       [0., 1., 0.],\n",
       "       [1., 0., 0.],\n",
       "       [0., 1., 0.],\n",
       "       [0., 1., 0.],\n",
       "       [1., 0., 0.],\n",
       "       [1., 0., 0.],\n",
       "       [1., 0., 0.],\n",
       "       [0., 1., 0.],\n",
       "       [0., 1., 0.],\n",
       "       [1., 0., 0.],\n",
       "       [1., 0., 0.],\n",
       "       [0., 1., 0.],\n",
       "       [1., 0., 0.],\n",
       "       [1., 0., 0.],\n",
       "       [1., 0., 0.],\n",
       "       [0., 0., 1.],\n",
       "       [1., 0., 0.],\n",
       "       [0., 0., 1.],\n",
       "       [0., 0., 1.],\n",
       "       [0., 1., 0.],\n",
       "       [0., 1., 0.],\n",
       "       [0., 1., 0.],\n",
       "       [0., 1., 0.],\n",
       "       [0., 0., 1.],\n",
       "       [0., 1., 0.],\n",
       "       [0., 1., 0.],\n",
       "       [1., 0., 0.],\n",
       "       [0., 1., 0.],\n",
       "       [0., 1., 0.],\n",
       "       [0., 0., 1.],\n",
       "       [0., 1., 0.],\n",
       "       [0., 1., 0.],\n",
       "       [0., 1., 0.],\n",
       "       [0., 1., 0.],\n",
       "       [0., 1., 0.],\n",
       "       [0., 0., 1.],\n",
       "       [0., 1., 0.],\n",
       "       [0., 0., 1.],\n",
       "       [1., 0., 0.],\n",
       "       [0., 0., 1.],\n",
       "       [0., 1., 0.],\n",
       "       [1., 0., 0.],\n",
       "       [0., 1., 0.],\n",
       "       [1., 0., 0.],\n",
       "       [0., 0., 1.],\n",
       "       [0., 1., 0.],\n",
       "       [1., 0., 0.],\n",
       "       [1., 0., 0.],\n",
       "       [0., 1., 0.],\n",
       "       [0., 1., 0.],\n",
       "       [0., 0., 1.],\n",
       "       [0., 1., 0.],\n",
       "       [0., 1., 0.],\n",
       "       [0., 1., 0.],\n",
       "       [0., 1., 0.],\n",
       "       [0., 1., 0.],\n",
       "       [0., 1., 0.],\n",
       "       [0., 1., 0.],\n",
       "       [1., 0., 0.],\n",
       "       [0., 0., 1.],\n",
       "       [0., 1., 0.],\n",
       "       [0., 1., 0.],\n",
       "       [0., 0., 1.],\n",
       "       [0., 0., 1.],\n",
       "       [0., 1., 0.],\n",
       "       [0., 1., 0.],\n",
       "       [0., 1., 0.],\n",
       "       [0., 1., 0.],\n",
       "       [1., 0., 0.],\n",
       "       [0., 0., 1.],\n",
       "       [1., 0., 0.],\n",
       "       [0., 1., 0.],\n",
       "       [0., 0., 1.],\n",
       "       [0., 0., 1.],\n",
       "       [0., 0., 1.],\n",
       "       [0., 1., 0.],\n",
       "       [0., 1., 0.],\n",
       "       [0., 0., 1.],\n",
       "       [1., 0., 0.],\n",
       "       [0., 1., 0.],\n",
       "       [1., 0., 0.],\n",
       "       [0., 1., 0.],\n",
       "       [0., 0., 1.],\n",
       "       [0., 0., 1.],\n",
       "       [0., 0., 1.],\n",
       "       [0., 1., 0.],\n",
       "       [0., 1., 0.],\n",
       "       [0., 1., 0.],\n",
       "       [0., 1., 0.],\n",
       "       [1., 0., 0.],\n",
       "       [0., 0., 1.],\n",
       "       [0., 1., 0.],\n",
       "       [0., 0., 1.],\n",
       "       [1., 0., 0.],\n",
       "       [0., 0., 1.],\n",
       "       [0., 0., 1.],\n",
       "       [1., 0., 0.],\n",
       "       [0., 1., 0.],\n",
       "       [1., 0., 0.],\n",
       "       [1., 0., 0.],\n",
       "       [0., 0., 1.],\n",
       "       [0., 1., 0.],\n",
       "       [0., 1., 0.],\n",
       "       [0., 1., 0.],\n",
       "       [0., 0., 1.],\n",
       "       [1., 0., 0.],\n",
       "       [0., 0., 1.],\n",
       "       [0., 0., 1.],\n",
       "       [0., 0., 1.],\n",
       "       [0., 1., 0.],\n",
       "       [0., 1., 0.],\n",
       "       [1., 0., 0.],\n",
       "       [0., 1., 0.],\n",
       "       [0., 0., 1.],\n",
       "       [0., 1., 0.],\n",
       "       [1., 0., 0.],\n",
       "       [0., 1., 0.],\n",
       "       [0., 0., 1.],\n",
       "       [0., 0., 1.],\n",
       "       [1., 0., 0.],\n",
       "       [0., 1., 0.],\n",
       "       [0., 1., 0.],\n",
       "       [0., 1., 0.],\n",
       "       [0., 1., 0.],\n",
       "       [0., 0., 1.],\n",
       "       [0., 1., 0.],\n",
       "       [0., 1., 0.],\n",
       "       [0., 1., 0.],\n",
       "       [0., 0., 1.],\n",
       "       [0., 1., 0.],\n",
       "       [0., 1., 0.],\n",
       "       [0., 1., 0.],\n",
       "       [0., 1., 0.],\n",
       "       [0., 1., 0.],\n",
       "       [0., 0., 1.],\n",
       "       [0., 0., 1.],\n",
       "       [0., 0., 1.],\n",
       "       [1., 0., 0.],\n",
       "       [0., 1., 0.],\n",
       "       [0., 0., 1.],\n",
       "       [1., 0., 0.],\n",
       "       [1., 0., 0.],\n",
       "       [0., 1., 0.],\n",
       "       [0., 0., 1.],\n",
       "       [0., 1., 0.],\n",
       "       [0., 0., 1.],\n",
       "       [1., 0., 0.],\n",
       "       [1., 0., 0.],\n",
       "       [0., 0., 1.],\n",
       "       [0., 0., 1.],\n",
       "       [0., 1., 0.],\n",
       "       [0., 1., 0.],\n",
       "       [0., 0., 1.],\n",
       "       [0., 0., 1.],\n",
       "       [1., 0., 0.],\n",
       "       [0., 1., 0.],\n",
       "       [1., 0., 0.]], dtype=float32)"
      ]
     },
     "execution_count": 20,
     "metadata": {},
     "output_type": "execute_result"
    }
   ],
   "source": [
    "yv_multi"
   ]
  },
  {
   "cell_type": "code",
   "execution_count": 21,
   "id": "3ce77ed7",
   "metadata": {
    "execution": {
     "iopub.execute_input": "2021-10-05T07:43:38.212984Z",
     "iopub.status.busy": "2021-10-05T07:43:38.212192Z",
     "iopub.status.idle": "2021-10-05T07:43:38.215723Z",
     "shell.execute_reply": "2021-10-05T07:43:38.216251Z",
     "shell.execute_reply.started": "2021-10-05T06:30:00.009617Z"
    },
    "papermill": {
     "duration": 0.037081,
     "end_time": "2021-10-05T07:43:38.216422",
     "exception": false,
     "start_time": "2021-10-05T07:43:38.179341",
     "status": "completed"
    },
    "tags": []
   },
   "outputs": [],
   "source": [
    "sample_size, input_size = X_train_norm.shape"
   ]
  },
  {
   "cell_type": "code",
   "execution_count": 22,
   "id": "86f768ad",
   "metadata": {
    "execution": {
     "iopub.execute_input": "2021-10-05T07:43:38.278740Z",
     "iopub.status.busy": "2021-10-05T07:43:38.278034Z",
     "iopub.status.idle": "2021-10-05T07:43:43.747953Z",
     "shell.execute_reply": "2021-10-05T07:43:43.747354Z",
     "shell.execute_reply.started": "2021-10-05T07:30:47.889519Z"
    },
    "papermill": {
     "duration": 5.501953,
     "end_time": "2021-10-05T07:43:43.748099",
     "exception": false,
     "start_time": "2021-10-05T07:43:38.246146",
     "status": "completed"
    },
    "tags": []
   },
   "outputs": [
    {
     "name": "stderr",
     "output_type": "stream",
     "text": [
      "2021-10-05 07:43:38.929501: W tensorflow/stream_executor/platform/default/dso_loader.cc:60] Could not load dynamic library 'libcudart.so.11.0'; dlerror: libcudart.so.11.0: cannot open shared object file: No such file or directory; LD_LIBRARY_PATH: /opt/conda/lib\n",
      "2021-10-05 07:43:38.929673: I tensorflow/stream_executor/cuda/cudart_stub.cc:29] Ignore above cudart dlerror if you do not have a GPU set up on your machine.\n"
     ]
    }
   ],
   "source": [
    "import tensorflow as tf\n",
    "def create_model(input_size, num_label):\n",
    "    tf.random.set_seed(0)\n",
    "    tf.compat.v1.reset_default_graph() # Clear Model\n",
    "    model = tf.keras.models.Sequential([\n",
    "      tf.keras.layers.Dense(32, activation='relu', input_shape=(input_size,)),\n",
    "      #tf.keras.layers.Dense(2, activation='relu'),\n",
    "      #tf.keras.layers.Dense(3, activation='relu'),\n",
    "      tf.keras.layers.Dropout(0.2),\n",
    "      tf.keras.layers.Dense(num_label, activation='softmax')    \n",
    "    ])\n",
    "    return model"
   ]
  },
  {
   "cell_type": "code",
   "execution_count": 23,
   "id": "9e4206b6",
   "metadata": {
    "execution": {
     "iopub.execute_input": "2021-10-05T07:43:43.816486Z",
     "iopub.status.busy": "2021-10-05T07:43:43.815749Z",
     "iopub.status.idle": "2021-10-05T07:44:11.941653Z",
     "shell.execute_reply": "2021-10-05T07:44:11.940439Z",
     "shell.execute_reply.started": "2021-10-05T07:31:38.218783Z"
    },
    "papermill": {
     "duration": 28.162866,
     "end_time": "2021-10-05T07:44:11.941870",
     "exception": false,
     "start_time": "2021-10-05T07:43:43.779004",
     "status": "completed"
    },
    "tags": []
   },
   "outputs": [
    {
     "name": "stderr",
     "output_type": "stream",
     "text": [
      "2021-10-05 07:43:43.838417: I tensorflow/compiler/jit/xla_cpu_device.cc:41] Not creating XLA devices, tf_xla_enable_xla_devices not set\n",
      "2021-10-05 07:43:43.841274: W tensorflow/stream_executor/platform/default/dso_loader.cc:60] Could not load dynamic library 'libcuda.so.1'; dlerror: libcuda.so.1: cannot open shared object file: No such file or directory; LD_LIBRARY_PATH: /opt/conda/lib\n",
      "2021-10-05 07:43:43.841318: W tensorflow/stream_executor/cuda/cuda_driver.cc:326] failed call to cuInit: UNKNOWN ERROR (303)\n",
      "2021-10-05 07:43:43.841351: I tensorflow/stream_executor/cuda/cuda_diagnostics.cc:156] kernel driver does not appear to be running on this host (37ac24e685dc): /proc/driver/nvidia/version does not exist\n",
      "2021-10-05 07:43:43.842431: I tensorflow/core/platform/cpu_feature_guard.cc:142] This TensorFlow binary is optimized with oneAPI Deep Neural Network Library (oneDNN) to use the following CPU instructions in performance-critical operations:  AVX2 FMA\n",
      "To enable them in other operations, rebuild TensorFlow with the appropriate compiler flags.\n",
      "2021-10-05 07:43:43.843407: I tensorflow/compiler/jit/xla_gpu_device.cc:99] Not creating XLA devices, tf_xla_enable_xla_devices not set\n",
      "2021-10-05 07:43:44.183307: I tensorflow/compiler/mlir/mlir_graph_optimization_pass.cc:116] None of the MLIR optimization passes are enabled (registered 2)\n",
      "2021-10-05 07:43:44.197799: I tensorflow/core/platform/profile_utils/cpu_utils.cc:112] CPU Frequency: 2199995000 Hz\n"
     ]
    },
    {
     "name": "stdout",
     "output_type": "stream",
     "text": [
      "Epoch 1/2\n",
      "5/5 [==============================] - 1s 165ms/step - loss: 1.0318 - accuracy: 0.4895 - val_loss: 0.8370 - val_accuracy: 0.8272\n",
      "Epoch 2/2\n",
      "5/5 [==============================] - 0s 18ms/step - loss: 0.7929 - accuracy: 0.7409 - val_loss: 0.7483 - val_accuracy: 0.6996\n",
      "Epoch 1/2\n",
      "5/5 [==============================] - 0s 33ms/step - loss: 0.6258 - accuracy: 0.8132 - val_loss: 0.5546 - val_accuracy: 0.8724\n",
      "Epoch 2/2\n",
      "5/5 [==============================] - 0s 17ms/step - loss: 0.5058 - accuracy: 0.8785 - val_loss: 0.5222 - val_accuracy: 0.8436\n",
      "Epoch 1/2\n",
      "5/5 [==============================] - 0s 35ms/step - loss: 0.4333 - accuracy: 0.8861 - val_loss: 0.3939 - val_accuracy: 0.9095\n",
      "Epoch 2/2\n",
      "5/5 [==============================] - 0s 18ms/step - loss: 0.3800 - accuracy: 0.9021 - val_loss: 0.4002 - val_accuracy: 0.8971\n",
      "Epoch 1/2\n",
      "5/5 [==============================] - 0s 38ms/step - loss: 0.3367 - accuracy: 0.9097 - val_loss: 0.3143 - val_accuracy: 0.9218\n",
      "Epoch 2/2\n",
      "5/5 [==============================] - 0s 17ms/step - loss: 0.3081 - accuracy: 0.9215 - val_loss: 0.3321 - val_accuracy: 0.9136\n",
      "Epoch 1/2\n",
      "5/5 [==============================] - 0s 34ms/step - loss: 0.2801 - accuracy: 0.9187 - val_loss: 0.2738 - val_accuracy: 0.9465\n",
      "Epoch 2/2\n",
      "5/5 [==============================] - 0s 17ms/step - loss: 0.2560 - accuracy: 0.9264 - val_loss: 0.2986 - val_accuracy: 0.9259\n",
      "Epoch 1/2\n",
      "5/5 [==============================] - 0s 34ms/step - loss: 0.2502 - accuracy: 0.9229 - val_loss: 0.2472 - val_accuracy: 0.9424\n",
      "Epoch 2/2\n",
      "5/5 [==============================] - 0s 18ms/step - loss: 0.2434 - accuracy: 0.9306 - val_loss: 0.2722 - val_accuracy: 0.9259\n",
      "Epoch 1/2\n",
      "5/5 [==============================] - 0s 35ms/step - loss: 0.2392 - accuracy: 0.9250 - val_loss: 0.2213 - val_accuracy: 0.9465\n",
      "Epoch 2/2\n",
      "5/5 [==============================] - 0s 17ms/step - loss: 0.2299 - accuracy: 0.9243 - val_loss: 0.2344 - val_accuracy: 0.9424\n",
      "Epoch 1/2\n",
      "5/5 [==============================] - 0s 35ms/step - loss: 0.2204 - accuracy: 0.9319 - val_loss: 0.2013 - val_accuracy: 0.9465\n",
      "Epoch 2/2\n",
      "5/5 [==============================] - 0s 18ms/step - loss: 0.2286 - accuracy: 0.9181 - val_loss: 0.1936 - val_accuracy: 0.9465\n",
      "Epoch 1/2\n",
      "5/5 [==============================] - 0s 38ms/step - loss: 0.2141 - accuracy: 0.9333 - val_loss: 0.2062 - val_accuracy: 0.9465\n",
      "Epoch 2/2\n",
      "5/5 [==============================] - 0s 17ms/step - loss: 0.2018 - accuracy: 0.9347 - val_loss: 0.1877 - val_accuracy: 0.9506\n",
      "Epoch 1/2\n",
      "5/5 [==============================] - 0s 34ms/step - loss: 0.1886 - accuracy: 0.9479 - val_loss: 0.2130 - val_accuracy: 0.9424\n",
      "Epoch 2/2\n",
      "5/5 [==============================] - 0s 17ms/step - loss: 0.1752 - accuracy: 0.9424 - val_loss: 0.1818 - val_accuracy: 0.9547\n",
      "Epoch 1/2\n",
      "5/5 [==============================] - 0s 34ms/step - loss: 0.1693 - accuracy: 0.9472 - val_loss: 0.1917 - val_accuracy: 0.9506\n",
      "Epoch 2/2\n",
      "5/5 [==============================] - 0s 17ms/step - loss: 0.1609 - accuracy: 0.9507 - val_loss: 0.1672 - val_accuracy: 0.9588\n",
      "Epoch 1/2\n",
      "5/5 [==============================] - 0s 34ms/step - loss: 0.1452 - accuracy: 0.9563 - val_loss: 0.1718 - val_accuracy: 0.9465\n",
      "Epoch 2/2\n",
      "5/5 [==============================] - 0s 17ms/step - loss: 0.1504 - accuracy: 0.9542 - val_loss: 0.1617 - val_accuracy: 0.9547\n",
      "Epoch 1/2\n",
      "5/5 [==============================] - 0s 35ms/step - loss: 0.1434 - accuracy: 0.9618 - val_loss: 0.1611 - val_accuracy: 0.9547\n",
      "Epoch 2/2\n",
      "5/5 [==============================] - 0s 17ms/step - loss: 0.1475 - accuracy: 0.9549 - val_loss: 0.1559 - val_accuracy: 0.9547\n",
      "Epoch 1/2\n",
      "5/5 [==============================] - 0s 35ms/step - loss: 0.1376 - accuracy: 0.9604 - val_loss: 0.1654 - val_accuracy: 0.9506\n",
      "Epoch 2/2\n",
      "5/5 [==============================] - 0s 18ms/step - loss: 0.1499 - accuracy: 0.9528 - val_loss: 0.1508 - val_accuracy: 0.9630\n",
      "Epoch 1/2\n",
      "5/5 [==============================] - 0s 33ms/step - loss: 0.1318 - accuracy: 0.9597 - val_loss: 0.1649 - val_accuracy: 0.9547\n",
      "Epoch 2/2\n",
      "5/5 [==============================] - 0s 17ms/step - loss: 0.1325 - accuracy: 0.9583 - val_loss: 0.1461 - val_accuracy: 0.9588\n",
      "Epoch 1/2\n",
      "5/5 [==============================] - 0s 34ms/step - loss: 0.1254 - accuracy: 0.9674 - val_loss: 0.1509 - val_accuracy: 0.9506\n",
      "Epoch 2/2\n",
      "5/5 [==============================] - 0s 17ms/step - loss: 0.1281 - accuracy: 0.9660 - val_loss: 0.1425 - val_accuracy: 0.9547\n",
      "Epoch 1/2\n",
      "5/5 [==============================] - 0s 33ms/step - loss: 0.1223 - accuracy: 0.9681 - val_loss: 0.1420 - val_accuracy: 0.9588\n",
      "Epoch 2/2\n",
      "5/5 [==============================] - 0s 17ms/step - loss: 0.1230 - accuracy: 0.9667 - val_loss: 0.1398 - val_accuracy: 0.9547\n",
      "Epoch 1/2\n",
      "5/5 [==============================] - 0s 35ms/step - loss: 0.1144 - accuracy: 0.9674 - val_loss: 0.1458 - val_accuracy: 0.9506\n",
      "Epoch 2/2\n",
      "5/5 [==============================] - 0s 18ms/step - loss: 0.1172 - accuracy: 0.9618 - val_loss: 0.1364 - val_accuracy: 0.9588\n",
      "Epoch 1/2\n",
      "5/5 [==============================] - 0s 34ms/step - loss: 0.1125 - accuracy: 0.9653 - val_loss: 0.1473 - val_accuracy: 0.9547\n",
      "Epoch 2/2\n",
      "5/5 [==============================] - 0s 17ms/step - loss: 0.1187 - accuracy: 0.9632 - val_loss: 0.1331 - val_accuracy: 0.9588\n",
      "Epoch 1/2\n",
      "5/5 [==============================] - 0s 34ms/step - loss: 0.1045 - accuracy: 0.9722 - val_loss: 0.1396 - val_accuracy: 0.9547\n",
      "Epoch 2/2\n",
      "5/5 [==============================] - 0s 17ms/step - loss: 0.1125 - accuracy: 0.9674 - val_loss: 0.1311 - val_accuracy: 0.9588\n",
      "Epoch 1/2\n",
      "5/5 [==============================] - 0s 34ms/step - loss: 0.1113 - accuracy: 0.9688 - val_loss: 0.1367 - val_accuracy: 0.9547\n",
      "Epoch 2/2\n",
      "5/5 [==============================] - 0s 17ms/step - loss: 0.1112 - accuracy: 0.9694 - val_loss: 0.1290 - val_accuracy: 0.9588\n",
      "Epoch 1/2\n",
      "5/5 [==============================] - 0s 35ms/step - loss: 0.1008 - accuracy: 0.9722 - val_loss: 0.1342 - val_accuracy: 0.9547\n",
      "Epoch 2/2\n",
      "5/5 [==============================] - 0s 17ms/step - loss: 0.1032 - accuracy: 0.9688 - val_loss: 0.1264 - val_accuracy: 0.9588\n",
      "Epoch 1/2\n",
      "5/5 [==============================] - 0s 35ms/step - loss: 0.1022 - accuracy: 0.9667 - val_loss: 0.1322 - val_accuracy: 0.9547\n",
      "Epoch 2/2\n",
      "5/5 [==============================] - 0s 18ms/step - loss: 0.0994 - accuracy: 0.9674 - val_loss: 0.1258 - val_accuracy: 0.9630\n",
      "Epoch 1/2\n",
      "5/5 [==============================] - 0s 35ms/step - loss: 0.0924 - accuracy: 0.9743 - val_loss: 0.1323 - val_accuracy: 0.9588\n",
      "Epoch 2/2\n",
      "5/5 [==============================] - 0s 17ms/step - loss: 0.0938 - accuracy: 0.9743 - val_loss: 0.1240 - val_accuracy: 0.9630\n",
      "Epoch 1/2\n",
      "5/5 [==============================] - 0s 34ms/step - loss: 0.0952 - accuracy: 0.9715 - val_loss: 0.1291 - val_accuracy: 0.9588\n",
      "Epoch 2/2\n",
      "5/5 [==============================] - 0s 18ms/step - loss: 0.0943 - accuracy: 0.9701 - val_loss: 0.1212 - val_accuracy: 0.9671\n",
      "Epoch 1/2\n",
      "5/5 [==============================] - 0s 37ms/step - loss: 0.0921 - accuracy: 0.9722 - val_loss: 0.1275 - val_accuracy: 0.9588\n",
      "Epoch 2/2\n",
      "5/5 [==============================] - 0s 17ms/step - loss: 0.0901 - accuracy: 0.9743 - val_loss: 0.1199 - val_accuracy: 0.9671\n",
      "Epoch 1/2\n",
      "5/5 [==============================] - 0s 35ms/step - loss: 0.0922 - accuracy: 0.9701 - val_loss: 0.1236 - val_accuracy: 0.9671\n",
      "Epoch 2/2\n",
      "5/5 [==============================] - 0s 18ms/step - loss: 0.0914 - accuracy: 0.9729 - val_loss: 0.1186 - val_accuracy: 0.9671\n",
      "Epoch 1/2\n",
      "5/5 [==============================] - 0s 33ms/step - loss: 0.0902 - accuracy: 0.9722 - val_loss: 0.1225 - val_accuracy: 0.9671\n",
      "Epoch 2/2\n",
      "5/5 [==============================] - 0s 18ms/step - loss: 0.0866 - accuracy: 0.9715 - val_loss: 0.1175 - val_accuracy: 0.9671\n",
      "Epoch 1/2\n",
      "5/5 [==============================] - 0s 33ms/step - loss: 0.0831 - accuracy: 0.9757 - val_loss: 0.1196 - val_accuracy: 0.9671\n",
      "Epoch 2/2\n",
      "5/5 [==============================] - 0s 17ms/step - loss: 0.0800 - accuracy: 0.9736 - val_loss: 0.1168 - val_accuracy: 0.9753\n",
      "Epoch 1/2\n",
      "5/5 [==============================] - 0s 37ms/step - loss: 0.0792 - accuracy: 0.9764 - val_loss: 0.1185 - val_accuracy: 0.9671\n",
      "Epoch 2/2\n",
      "5/5 [==============================] - 0s 17ms/step - loss: 0.0839 - accuracy: 0.9743 - val_loss: 0.1150 - val_accuracy: 0.9671\n",
      "Epoch 1/2\n",
      "5/5 [==============================] - 0s 35ms/step - loss: 0.0725 - accuracy: 0.9799 - val_loss: 0.1193 - val_accuracy: 0.9671\n",
      "Epoch 2/2\n",
      "5/5 [==============================] - 0s 18ms/step - loss: 0.0803 - accuracy: 0.9785 - val_loss: 0.1147 - val_accuracy: 0.9753\n",
      "Epoch 1/2\n",
      "5/5 [==============================] - 0s 35ms/step - loss: 0.0805 - accuracy: 0.9750 - val_loss: 0.1142 - val_accuracy: 0.9671\n",
      "Epoch 2/2\n",
      "5/5 [==============================] - 0s 17ms/step - loss: 0.0791 - accuracy: 0.9750 - val_loss: 0.1138 - val_accuracy: 0.9712\n",
      "Epoch 1/2\n",
      "5/5 [==============================] - 0s 35ms/step - loss: 0.0723 - accuracy: 0.9771 - val_loss: 0.1167 - val_accuracy: 0.9630\n",
      "Epoch 2/2\n",
      "5/5 [==============================] - 0s 18ms/step - loss: 0.0792 - accuracy: 0.9785 - val_loss: 0.1137 - val_accuracy: 0.9753\n",
      "Epoch 1/2\n",
      "5/5 [==============================] - 0s 37ms/step - loss: 0.0749 - accuracy: 0.9785 - val_loss: 0.1170 - val_accuracy: 0.9671\n",
      "Epoch 2/2\n",
      "5/5 [==============================] - 0s 17ms/step - loss: 0.0752 - accuracy: 0.9771 - val_loss: 0.1124 - val_accuracy: 0.9712\n",
      "Epoch 1/2\n",
      "5/5 [==============================] - 0s 36ms/step - loss: 0.0753 - accuracy: 0.9778 - val_loss: 0.1166 - val_accuracy: 0.9671\n",
      "Epoch 2/2\n",
      "5/5 [==============================] - 0s 17ms/step - loss: 0.0788 - accuracy: 0.9757 - val_loss: 0.1121 - val_accuracy: 0.9753\n",
      "Epoch 1/2\n",
      "5/5 [==============================] - 0s 33ms/step - loss: 0.0729 - accuracy: 0.9785 - val_loss: 0.1123 - val_accuracy: 0.9712\n",
      "Epoch 2/2\n",
      "5/5 [==============================] - 0s 18ms/step - loss: 0.0713 - accuracy: 0.9771 - val_loss: 0.1110 - val_accuracy: 0.9753\n",
      "Epoch 1/2\n",
      "5/5 [==============================] - 0s 34ms/step - loss: 0.0720 - accuracy: 0.9771 - val_loss: 0.1126 - val_accuracy: 0.9630\n",
      "Epoch 2/2\n",
      "5/5 [==============================] - 0s 17ms/step - loss: 0.0659 - accuracy: 0.9812 - val_loss: 0.1098 - val_accuracy: 0.9753\n",
      "Epoch 1/2\n",
      "5/5 [==============================] - 0s 33ms/step - loss: 0.0663 - accuracy: 0.9792 - val_loss: 0.1108 - val_accuracy: 0.9712\n",
      "Epoch 2/2\n",
      "5/5 [==============================] - 0s 18ms/step - loss: 0.0703 - accuracy: 0.9806 - val_loss: 0.1089 - val_accuracy: 0.9753\n",
      "Epoch 1/2\n",
      "5/5 [==============================] - 0s 33ms/step - loss: 0.0680 - accuracy: 0.9812 - val_loss: 0.1133 - val_accuracy: 0.9712\n",
      "Epoch 2/2\n",
      "5/5 [==============================] - 0s 17ms/step - loss: 0.0700 - accuracy: 0.9812 - val_loss: 0.1103 - val_accuracy: 0.9753\n",
      "Epoch 1/2\n",
      "5/5 [==============================] - 0s 34ms/step - loss: 0.0663 - accuracy: 0.9806 - val_loss: 0.1140 - val_accuracy: 0.9671\n",
      "Epoch 2/2\n",
      "5/5 [==============================] - 0s 18ms/step - loss: 0.0648 - accuracy: 0.9847 - val_loss: 0.1091 - val_accuracy: 0.9753\n",
      "Epoch 1/2\n",
      "5/5 [==============================] - 0s 35ms/step - loss: 0.0590 - accuracy: 0.9812 - val_loss: 0.1087 - val_accuracy: 0.9712\n",
      "Epoch 2/2\n",
      "5/5 [==============================] - 0s 18ms/step - loss: 0.0701 - accuracy: 0.9757 - val_loss: 0.1075 - val_accuracy: 0.9753\n",
      "Epoch 1/2\n",
      "5/5 [==============================] - 0s 33ms/step - loss: 0.0701 - accuracy: 0.9806 - val_loss: 0.1105 - val_accuracy: 0.9712\n",
      "Epoch 2/2\n",
      "5/5 [==============================] - 0s 19ms/step - loss: 0.0679 - accuracy: 0.9826 - val_loss: 0.1087 - val_accuracy: 0.9753\n",
      "Epoch 1/2\n",
      "5/5 [==============================] - 0s 34ms/step - loss: 0.0654 - accuracy: 0.9833 - val_loss: 0.1091 - val_accuracy: 0.9712\n",
      "Epoch 2/2\n",
      "5/5 [==============================] - 0s 17ms/step - loss: 0.0613 - accuracy: 0.9826 - val_loss: 0.1067 - val_accuracy: 0.9753\n",
      "Epoch 1/2\n",
      "5/5 [==============================] - 0s 34ms/step - loss: 0.0670 - accuracy: 0.9785 - val_loss: 0.1091 - val_accuracy: 0.9712\n",
      "Epoch 2/2\n",
      "5/5 [==============================] - 0s 17ms/step - loss: 0.0659 - accuracy: 0.9792 - val_loss: 0.1089 - val_accuracy: 0.9753\n",
      "Epoch 1/2\n",
      "5/5 [==============================] - 0s 37ms/step - loss: 0.0625 - accuracy: 0.9771 - val_loss: 0.1136 - val_accuracy: 0.9671\n",
      "Epoch 2/2\n",
      "5/5 [==============================] - 0s 20ms/step - loss: 0.0686 - accuracy: 0.9785 - val_loss: 0.1086 - val_accuracy: 0.9753\n",
      "Epoch 1/2\n",
      "5/5 [==============================] - 0s 35ms/step - loss: 0.0591 - accuracy: 0.9840 - val_loss: 0.1119 - val_accuracy: 0.9671\n",
      "Epoch 2/2\n",
      "5/5 [==============================] - 0s 19ms/step - loss: 0.0665 - accuracy: 0.9785 - val_loss: 0.1058 - val_accuracy: 0.9753\n",
      "Epoch 1/2\n",
      "5/5 [==============================] - 0s 33ms/step - loss: 0.0602 - accuracy: 0.9826 - val_loss: 0.1070 - val_accuracy: 0.9712\n",
      "Epoch 2/2\n",
      "5/5 [==============================] - 0s 17ms/step - loss: 0.0592 - accuracy: 0.9778 - val_loss: 0.1063 - val_accuracy: 0.9753\n",
      "Epoch 1/2\n",
      "5/5 [==============================] - 0s 33ms/step - loss: 0.0586 - accuracy: 0.9840 - val_loss: 0.1084 - val_accuracy: 0.9753\n",
      "Epoch 2/2\n",
      "5/5 [==============================] - 0s 18ms/step - loss: 0.0559 - accuracy: 0.9826 - val_loss: 0.1060 - val_accuracy: 0.9753\n",
      "Epoch 1/2\n",
      "5/5 [==============================] - 0s 34ms/step - loss: 0.0617 - accuracy: 0.9806 - val_loss: 0.1098 - val_accuracy: 0.9712\n",
      "Epoch 2/2\n",
      "5/5 [==============================] - 0s 17ms/step - loss: 0.0670 - accuracy: 0.9778 - val_loss: 0.1072 - val_accuracy: 0.9753\n",
      "Epoch 1/2\n",
      "5/5 [==============================] - 0s 34ms/step - loss: 0.0538 - accuracy: 0.9847 - val_loss: 0.1055 - val_accuracy: 0.9712\n",
      "Epoch 2/2\n",
      "5/5 [==============================] - 0s 19ms/step - loss: 0.0615 - accuracy: 0.9833 - val_loss: 0.1041 - val_accuracy: 0.9712\n",
      "Epoch 1/2\n",
      "5/5 [==============================] - 0s 32ms/step - loss: 0.0546 - accuracy: 0.9826 - val_loss: 0.1056 - val_accuracy: 0.9753\n",
      "Epoch 2/2\n",
      "5/5 [==============================] - 0s 17ms/step - loss: 0.0569 - accuracy: 0.9847 - val_loss: 0.1066 - val_accuracy: 0.9753\n",
      "Epoch 1/2\n",
      "5/5 [==============================] - 0s 34ms/step - loss: 0.0564 - accuracy: 0.9799 - val_loss: 0.1056 - val_accuracy: 0.9712\n",
      "Epoch 2/2\n",
      "5/5 [==============================] - 0s 17ms/step - loss: 0.0543 - accuracy: 0.9861 - val_loss: 0.1047 - val_accuracy: 0.9753\n",
      "Epoch 1/2\n",
      "5/5 [==============================] - 0s 35ms/step - loss: 0.0562 - accuracy: 0.9826 - val_loss: 0.1078 - val_accuracy: 0.9712\n",
      "Epoch 2/2\n",
      "5/5 [==============================] - 0s 17ms/step - loss: 0.0623 - accuracy: 0.9778 - val_loss: 0.1036 - val_accuracy: 0.9753\n",
      "Epoch 1/2\n",
      "5/5 [==============================] - 0s 33ms/step - loss: 0.0547 - accuracy: 0.9792 - val_loss: 0.1052 - val_accuracy: 0.9712\n",
      "Epoch 2/2\n",
      "5/5 [==============================] - 0s 19ms/step - loss: 0.0630 - accuracy: 0.9792 - val_loss: 0.1046 - val_accuracy: 0.9753\n",
      "Epoch 1/2\n",
      "5/5 [==============================] - 0s 33ms/step - loss: 0.0553 - accuracy: 0.9819 - val_loss: 0.1077 - val_accuracy: 0.9712\n",
      "Epoch 2/2\n",
      "5/5 [==============================] - 0s 18ms/step - loss: 0.0533 - accuracy: 0.9840 - val_loss: 0.1044 - val_accuracy: 0.9753\n",
      "Epoch 1/2\n",
      "5/5 [==============================] - 0s 36ms/step - loss: 0.0545 - accuracy: 0.9833 - val_loss: 0.1074 - val_accuracy: 0.9712\n",
      "Epoch 2/2\n",
      "5/5 [==============================] - 0s 18ms/step - loss: 0.0567 - accuracy: 0.9806 - val_loss: 0.1044 - val_accuracy: 0.9753\n",
      "Epoch 1/2\n",
      "5/5 [==============================] - 0s 33ms/step - loss: 0.0482 - accuracy: 0.9847 - val_loss: 0.1076 - val_accuracy: 0.9712\n",
      "Epoch 2/2\n",
      "5/5 [==============================] - 0s 17ms/step - loss: 0.0600 - accuracy: 0.9799 - val_loss: 0.1061 - val_accuracy: 0.9753\n",
      "Epoch 1/2\n",
      "5/5 [==============================] - 0s 33ms/step - loss: 0.0507 - accuracy: 0.9847 - val_loss: 0.1064 - val_accuracy: 0.9712\n",
      "Epoch 2/2\n",
      "5/5 [==============================] - 0s 19ms/step - loss: 0.0531 - accuracy: 0.9854 - val_loss: 0.1028 - val_accuracy: 0.9753\n",
      "Epoch 1/2\n",
      "5/5 [==============================] - 0s 34ms/step - loss: 0.0528 - accuracy: 0.9819 - val_loss: 0.1035 - val_accuracy: 0.9712\n",
      "Epoch 2/2\n",
      "5/5 [==============================] - 0s 18ms/step - loss: 0.0519 - accuracy: 0.9826 - val_loss: 0.1033 - val_accuracy: 0.9753\n",
      "Epoch 1/2\n",
      "5/5 [==============================] - 0s 34ms/step - loss: 0.0485 - accuracy: 0.9833 - val_loss: 0.1056 - val_accuracy: 0.9712\n",
      "Epoch 2/2\n",
      "5/5 [==============================] - 0s 17ms/step - loss: 0.0565 - accuracy: 0.9847 - val_loss: 0.1071 - val_accuracy: 0.9753\n",
      "Epoch 1/2\n",
      "5/5 [==============================] - 0s 35ms/step - loss: 0.0584 - accuracy: 0.9819 - val_loss: 0.1091 - val_accuracy: 0.9712\n",
      "Epoch 2/2\n",
      "5/5 [==============================] - 0s 18ms/step - loss: 0.0545 - accuracy: 0.9840 - val_loss: 0.1038 - val_accuracy: 0.9753\n",
      "Epoch 1/2\n",
      "5/5 [==============================] - 0s 35ms/step - loss: 0.0473 - accuracy: 0.9840 - val_loss: 0.1058 - val_accuracy: 0.9712\n",
      "Epoch 2/2\n",
      "5/5 [==============================] - 0s 19ms/step - loss: 0.0497 - accuracy: 0.9840 - val_loss: 0.1040 - val_accuracy: 0.9753\n",
      "Epoch 1/2\n",
      "5/5 [==============================] - 0s 34ms/step - loss: 0.0450 - accuracy: 0.9854 - val_loss: 0.1055 - val_accuracy: 0.9712\n",
      "Epoch 2/2\n",
      "5/5 [==============================] - 0s 18ms/step - loss: 0.0532 - accuracy: 0.9826 - val_loss: 0.1044 - val_accuracy: 0.9753\n",
      "Epoch 1/2\n",
      "5/5 [==============================] - 0s 35ms/step - loss: 0.0461 - accuracy: 0.9868 - val_loss: 0.1064 - val_accuracy: 0.9712\n",
      "Epoch 2/2\n",
      "5/5 [==============================] - 0s 18ms/step - loss: 0.0569 - accuracy: 0.9778 - val_loss: 0.1039 - val_accuracy: 0.9753\n",
      "Epoch 1/2\n",
      "5/5 [==============================] - 0s 35ms/step - loss: 0.0540 - accuracy: 0.9826 - val_loss: 0.1028 - val_accuracy: 0.9712\n",
      "Epoch 2/2\n",
      "5/5 [==============================] - 0s 20ms/step - loss: 0.0523 - accuracy: 0.9840 - val_loss: 0.1015 - val_accuracy: 0.9753\n",
      "Epoch 1/2\n",
      "5/5 [==============================] - 0s 36ms/step - loss: 0.0441 - accuracy: 0.9903 - val_loss: 0.1034 - val_accuracy: 0.9712\n",
      "Epoch 2/2\n",
      "5/5 [==============================] - 0s 21ms/step - loss: 0.0494 - accuracy: 0.9840 - val_loss: 0.1042 - val_accuracy: 0.9712\n",
      "Epoch 1/2\n",
      "5/5 [==============================] - 0s 34ms/step - loss: 0.0448 - accuracy: 0.9854 - val_loss: 0.1047 - val_accuracy: 0.9712\n",
      "Epoch 2/2\n",
      "5/5 [==============================] - 0s 19ms/step - loss: 0.0483 - accuracy: 0.9840 - val_loss: 0.1050 - val_accuracy: 0.9712\n",
      "Epoch 1/2\n",
      "5/5 [==============================] - 0s 34ms/step - loss: 0.0435 - accuracy: 0.9854 - val_loss: 0.1036 - val_accuracy: 0.9712\n",
      "Epoch 2/2\n",
      "5/5 [==============================] - 0s 18ms/step - loss: 0.0495 - accuracy: 0.9847 - val_loss: 0.1037 - val_accuracy: 0.9712\n",
      "Epoch 1/2\n",
      "5/5 [==============================] - 0s 35ms/step - loss: 0.0487 - accuracy: 0.9847 - val_loss: 0.1043 - val_accuracy: 0.9712\n",
      "Epoch 2/2\n",
      "5/5 [==============================] - 0s 18ms/step - loss: 0.0457 - accuracy: 0.9889 - val_loss: 0.1042 - val_accuracy: 0.9753\n",
      "Epoch 1/2\n",
      "5/5 [==============================] - 0s 33ms/step - loss: 0.0428 - accuracy: 0.9875 - val_loss: 0.1060 - val_accuracy: 0.9712\n",
      "Epoch 2/2\n",
      "5/5 [==============================] - 0s 19ms/step - loss: 0.0491 - accuracy: 0.9833 - val_loss: 0.1065 - val_accuracy: 0.9753\n",
      "Epoch 1/2\n",
      "5/5 [==============================] - 0s 34ms/step - loss: 0.0454 - accuracy: 0.9819 - val_loss: 0.1050 - val_accuracy: 0.9712\n",
      "Epoch 2/2\n",
      "5/5 [==============================] - 0s 17ms/step - loss: 0.0458 - accuracy: 0.9861 - val_loss: 0.1026 - val_accuracy: 0.9753\n",
      "Epoch 1/2\n",
      "5/5 [==============================] - 0s 33ms/step - loss: 0.0465 - accuracy: 0.9868 - val_loss: 0.1039 - val_accuracy: 0.9712\n",
      "Epoch 2/2\n",
      "5/5 [==============================] - 0s 17ms/step - loss: 0.0446 - accuracy: 0.9854 - val_loss: 0.1047 - val_accuracy: 0.9753\n",
      "Epoch 1/2\n",
      "5/5 [==============================] - 0s 34ms/step - loss: 0.0491 - accuracy: 0.9840 - val_loss: 0.1059 - val_accuracy: 0.9712\n",
      "Epoch 2/2\n",
      "5/5 [==============================] - 0s 18ms/step - loss: 0.0474 - accuracy: 0.9826 - val_loss: 0.1054 - val_accuracy: 0.9753\n",
      "Epoch 1/2\n",
      "5/5 [==============================] - 0s 33ms/step - loss: 0.0443 - accuracy: 0.9861 - val_loss: 0.1045 - val_accuracy: 0.9712\n",
      "Epoch 2/2\n",
      "5/5 [==============================] - 0s 19ms/step - loss: 0.0485 - accuracy: 0.9847 - val_loss: 0.1029 - val_accuracy: 0.9753\n",
      "Epoch 1/2\n",
      "5/5 [==============================] - 0s 35ms/step - loss: 0.0431 - accuracy: 0.9896 - val_loss: 0.1040 - val_accuracy: 0.9712\n",
      "Epoch 2/2\n",
      "5/5 [==============================] - 0s 17ms/step - loss: 0.0449 - accuracy: 0.9889 - val_loss: 0.1031 - val_accuracy: 0.9712\n",
      "Epoch 1/2\n",
      "5/5 [==============================] - 0s 34ms/step - loss: 0.0408 - accuracy: 0.9875 - val_loss: 0.1031 - val_accuracy: 0.9712\n",
      "Epoch 2/2\n",
      "5/5 [==============================] - 0s 17ms/step - loss: 0.0500 - accuracy: 0.9847 - val_loss: 0.1029 - val_accuracy: 0.9712\n",
      "Epoch 1/2\n",
      "5/5 [==============================] - 0s 33ms/step - loss: 0.0401 - accuracy: 0.9875 - val_loss: 0.1044 - val_accuracy: 0.9712\n",
      "Epoch 2/2\n",
      "5/5 [==============================] - 0s 17ms/step - loss: 0.0413 - accuracy: 0.9882 - val_loss: 0.1061 - val_accuracy: 0.9712\n",
      "Epoch 1/2\n",
      "5/5 [==============================] - 0s 34ms/step - loss: 0.0423 - accuracy: 0.9854 - val_loss: 0.1047 - val_accuracy: 0.9712\n",
      "Epoch 2/2\n",
      "5/5 [==============================] - 0s 20ms/step - loss: 0.0427 - accuracy: 0.9861 - val_loss: 0.1058 - val_accuracy: 0.9712\n",
      "Epoch 1/2\n",
      "5/5 [==============================] - 0s 35ms/step - loss: 0.0386 - accuracy: 0.9868 - val_loss: 0.1059 - val_accuracy: 0.9712\n",
      "Epoch 2/2\n",
      "5/5 [==============================] - 0s 19ms/step - loss: 0.0445 - accuracy: 0.9875 - val_loss: 0.1047 - val_accuracy: 0.9712\n",
      "Epoch 1/2\n",
      "5/5 [==============================] - 0s 35ms/step - loss: 0.0458 - accuracy: 0.9847 - val_loss: 0.1041 - val_accuracy: 0.9712\n",
      "Epoch 2/2\n",
      "5/5 [==============================] - 0s 17ms/step - loss: 0.0396 - accuracy: 0.9896 - val_loss: 0.1054 - val_accuracy: 0.9753\n",
      "Epoch 1/2\n",
      "5/5 [==============================] - 0s 34ms/step - loss: 0.0458 - accuracy: 0.9854 - val_loss: 0.1046 - val_accuracy: 0.9712\n",
      "Epoch 2/2\n",
      "5/5 [==============================] - 0s 17ms/step - loss: 0.0427 - accuracy: 0.9868 - val_loss: 0.1047 - val_accuracy: 0.9712\n",
      "Epoch 1/2\n",
      "5/5 [==============================] - 0s 34ms/step - loss: 0.0394 - accuracy: 0.9861 - val_loss: 0.1050 - val_accuracy: 0.9712\n",
      "Epoch 2/2\n",
      "5/5 [==============================] - 0s 20ms/step - loss: 0.0460 - accuracy: 0.9840 - val_loss: 0.1037 - val_accuracy: 0.9753\n",
      "Epoch 1/2\n",
      "5/5 [==============================] - 0s 35ms/step - loss: 0.0429 - accuracy: 0.9847 - val_loss: 0.1042 - val_accuracy: 0.9712\n",
      "Epoch 2/2\n",
      "5/5 [==============================] - 0s 18ms/step - loss: 0.0422 - accuracy: 0.9854 - val_loss: 0.1058 - val_accuracy: 0.9753\n",
      "Epoch 1/2\n",
      "5/5 [==============================] - 0s 33ms/step - loss: 0.0424 - accuracy: 0.9854 - val_loss: 0.1059 - val_accuracy: 0.9712\n",
      "Epoch 2/2\n",
      "5/5 [==============================] - 0s 17ms/step - loss: 0.0402 - accuracy: 0.9854 - val_loss: 0.1051 - val_accuracy: 0.9753\n",
      "Epoch 1/2\n",
      "5/5 [==============================] - 0s 33ms/step - loss: 0.0359 - accuracy: 0.9896 - val_loss: 0.1059 - val_accuracy: 0.9712\n",
      "Epoch 2/2\n",
      "5/5 [==============================] - 0s 17ms/step - loss: 0.0407 - accuracy: 0.9861 - val_loss: 0.1070 - val_accuracy: 0.9753\n",
      "Epoch 1/2\n",
      "5/5 [==============================] - 0s 34ms/step - loss: 0.0404 - accuracy: 0.9868 - val_loss: 0.1050 - val_accuracy: 0.9712\n",
      "Epoch 2/2\n",
      "5/5 [==============================] - 0s 24ms/step - loss: 0.0388 - accuracy: 0.9910 - val_loss: 0.1043 - val_accuracy: 0.9712\n",
      "Epoch 1/2\n",
      "5/5 [==============================] - 0s 40ms/step - loss: 0.0398 - accuracy: 0.9854 - val_loss: 0.1049 - val_accuracy: 0.9712\n",
      "Epoch 2/2\n",
      "5/5 [==============================] - 0s 18ms/step - loss: 0.0389 - accuracy: 0.9868 - val_loss: 0.1054 - val_accuracy: 0.9712\n",
      "Epoch 1/2\n",
      "5/5 [==============================] - 0s 35ms/step - loss: 0.0333 - accuracy: 0.9903 - val_loss: 0.1046 - val_accuracy: 0.9712\n",
      "Epoch 2/2\n",
      "5/5 [==============================] - 0s 17ms/step - loss: 0.0408 - accuracy: 0.9847 - val_loss: 0.1064 - val_accuracy: 0.9712\n",
      "Epoch 1/2\n",
      "5/5 [==============================] - 0s 33ms/step - loss: 0.0423 - accuracy: 0.9875 - val_loss: 0.1069 - val_accuracy: 0.9753\n",
      "Epoch 2/2\n",
      "5/5 [==============================] - 0s 17ms/step - loss: 0.0425 - accuracy: 0.9847 - val_loss: 0.1055 - val_accuracy: 0.9712\n",
      "Epoch 1/2\n",
      "5/5 [==============================] - 0s 34ms/step - loss: 0.0372 - accuracy: 0.9882 - val_loss: 0.1050 - val_accuracy: 0.9753\n",
      "Epoch 2/2\n",
      "5/5 [==============================] - 0s 19ms/step - loss: 0.0426 - accuracy: 0.9847 - val_loss: 0.1062 - val_accuracy: 0.9712\n",
      "Epoch 1/2\n",
      "5/5 [==============================] - 0s 35ms/step - loss: 0.0399 - accuracy: 0.9854 - val_loss: 0.1064 - val_accuracy: 0.9712\n",
      "Epoch 2/2\n",
      "5/5 [==============================] - 0s 18ms/step - loss: 0.0453 - accuracy: 0.9840 - val_loss: 0.1048 - val_accuracy: 0.9712\n",
      "Epoch 1/2\n",
      "5/5 [==============================] - 0s 35ms/step - loss: 0.0403 - accuracy: 0.9854 - val_loss: 0.1019 - val_accuracy: 0.9712\n",
      "Epoch 2/2\n",
      "5/5 [==============================] - 0s 17ms/step - loss: 0.0416 - accuracy: 0.9875 - val_loss: 0.1033 - val_accuracy: 0.9712\n",
      "Epoch 1/2\n",
      "5/5 [==============================] - 0s 36ms/step - loss: 0.0391 - accuracy: 0.9854 - val_loss: 0.1062 - val_accuracy: 0.9712\n",
      "Epoch 2/2\n",
      "5/5 [==============================] - 0s 19ms/step - loss: 0.0380 - accuracy: 0.9875 - val_loss: 0.1074 - val_accuracy: 0.9712\n",
      "Epoch 1/2\n",
      "5/5 [==============================] - 0s 36ms/step - loss: 0.0354 - accuracy: 0.9868 - val_loss: 0.1068 - val_accuracy: 0.9712\n",
      "Epoch 2/2\n",
      "5/5 [==============================] - 0s 21ms/step - loss: 0.0374 - accuracy: 0.9896 - val_loss: 0.1089 - val_accuracy: 0.9753\n",
      "Epoch 1/2\n",
      "5/5 [==============================] - 0s 35ms/step - loss: 0.0370 - accuracy: 0.9889 - val_loss: 0.1119 - val_accuracy: 0.9712\n",
      "Epoch 2/2\n",
      "5/5 [==============================] - 0s 18ms/step - loss: 0.0407 - accuracy: 0.9868 - val_loss: 0.1083 - val_accuracy: 0.9753\n",
      "Epoch 1/2\n",
      "5/5 [==============================] - 0s 37ms/step - loss: 0.0351 - accuracy: 0.9896 - val_loss: 0.1064 - val_accuracy: 0.9712\n",
      "Epoch 2/2\n",
      "5/5 [==============================] - 0s 18ms/step - loss: 0.0353 - accuracy: 0.9917 - val_loss: 0.1071 - val_accuracy: 0.9712\n",
      "Epoch 1/2\n",
      "5/5 [==============================] - 0s 34ms/step - loss: 0.0366 - accuracy: 0.9868 - val_loss: 0.1071 - val_accuracy: 0.9712\n",
      "Epoch 2/2\n",
      "5/5 [==============================] - 0s 18ms/step - loss: 0.0342 - accuracy: 0.9910 - val_loss: 0.1070 - val_accuracy: 0.9712\n",
      "Epoch 1/2\n",
      "5/5 [==============================] - 0s 33ms/step - loss: 0.0330 - accuracy: 0.9903 - val_loss: 0.1068 - val_accuracy: 0.9712\n",
      "Epoch 2/2\n",
      "5/5 [==============================] - 0s 20ms/step - loss: 0.0359 - accuracy: 0.9861 - val_loss: 0.1053 - val_accuracy: 0.9712\n",
      "Epoch 1/2\n",
      "5/5 [==============================] - 0s 35ms/step - loss: 0.0330 - accuracy: 0.9889 - val_loss: 0.1070 - val_accuracy: 0.9712\n",
      "Epoch 2/2\n",
      "5/5 [==============================] - 0s 18ms/step - loss: 0.0356 - accuracy: 0.9889 - val_loss: 0.1084 - val_accuracy: 0.9712\n",
      "Epoch 1/2\n",
      "5/5 [==============================] - 0s 34ms/step - loss: 0.0365 - accuracy: 0.9875 - val_loss: 0.1087 - val_accuracy: 0.9712\n",
      "Epoch 2/2\n",
      "5/5 [==============================] - 0s 18ms/step - loss: 0.0387 - accuracy: 0.9840 - val_loss: 0.1078 - val_accuracy: 0.9712\n"
     ]
    }
   ],
   "source": [
    "model = create_model(input_size, num_label)\n",
    "model.compile(optimizer='adam', loss='categorical_crossentropy', metrics=['accuracy'])\n",
    "train_acc = list()\n",
    "val_acc = list()\n",
    "for i in range(0,100):\n",
    "  history = model.fit(X_train_norm, y_multi, epochs= 2, batch_size = int(sample_size/5), validation_data= (X_val_norm, yv_multi))\n",
    "  tmp_avg = np.mean(history.history['loss'])\n",
    "  tmp_avg_val = np.mean(history.history['val_loss'])\n",
    "  train_acc.append(tmp_avg)\n",
    "  val_acc.append(tmp_avg_val)"
   ]
  },
  {
   "cell_type": "code",
   "execution_count": 24,
   "id": "63d5cbae",
   "metadata": {
    "execution": {
     "iopub.execute_input": "2021-10-05T07:44:12.266656Z",
     "iopub.status.busy": "2021-10-05T07:44:12.265681Z",
     "iopub.status.idle": "2021-10-05T07:44:12.382628Z",
     "shell.execute_reply": "2021-10-05T07:44:12.382046Z",
     "shell.execute_reply.started": "2021-10-05T07:32:22.378775Z"
    },
    "papermill": {
     "duration": 0.278668,
     "end_time": "2021-10-05T07:44:12.382783",
     "exception": false,
     "start_time": "2021-10-05T07:44:12.104115",
     "status": "completed"
    },
    "tags": []
   },
   "outputs": [
    {
     "data": {
      "text/plain": [
       "0.9638157894736842"
      ]
     },
     "execution_count": 24,
     "metadata": {},
     "output_type": "execute_result"
    }
   ],
   "source": [
    "yp = model.predict(X_test_norm)\n",
    "yp = np.argmax(yp, 1)\n",
    "sum(yp == yt)/len(yt)"
   ]
  },
  {
   "cell_type": "code",
   "execution_count": 25,
   "id": "38d211d2",
   "metadata": {
    "execution": {
     "iopub.execute_input": "2021-10-05T07:44:12.712960Z",
     "iopub.status.busy": "2021-10-05T07:44:12.712173Z",
     "iopub.status.idle": "2021-10-05T07:44:12.896972Z",
     "shell.execute_reply": "2021-10-05T07:44:12.896237Z",
     "shell.execute_reply.started": "2021-10-05T07:32:24.883101Z"
    },
    "papermill": {
     "duration": 0.352148,
     "end_time": "2021-10-05T07:44:12.897151",
     "exception": false,
     "start_time": "2021-10-05T07:44:12.545003",
     "status": "completed"
    },
    "tags": []
   },
   "outputs": [],
   "source": [
    "import numpy as np\n",
    "import matplotlib.pyplot as plt\n",
    "import seaborn as sns\n",
    "def make_confusion_matrix(cf,\n",
    "                          group_names=None,\n",
    "                          categories='auto',\n",
    "                          count=True,\n",
    "                          percent=True,\n",
    "                          cbar=True,\n",
    "                          xyticks=True,\n",
    "                          xyplotlabels=True,\n",
    "                          sum_stats=True,\n",
    "                          figsize=None,\n",
    "                          cmap='Blues',\n",
    "                          title=None):\n",
    "    '''\n",
    "    This function will make a pretty plot of an sklearn Confusion Matrix cm using a Seaborn heatmap visualization.\n",
    "    Arguments\n",
    "    ---------\n",
    "    cf:            confusion matrix to be passed in\n",
    "    group_names:   List of strings that represent the labels row by row to be shown in each square.\n",
    "    categories:    List of strings containing the categories to be displayed on the x,y axis. Default is 'auto'\n",
    "    count:         If True, show the raw number in the confusion matrix. Default is True.\n",
    "    normalize:     If True, show the proportions for each category. Default is True.\n",
    "    cbar:          If True, show the color bar. The cbar values are based off the values in the confusion matrix.\n",
    "                   Default is True.\n",
    "    xyticks:       If True, show x and y ticks. Default is True.\n",
    "    xyplotlabels:  If True, show 'True Label' and 'Predicted Label' on the figure. Default is True.\n",
    "    sum_stats:     If True, display summary statistics below the figure. Default is True.\n",
    "    figsize:       Tuple representing the figure size. Default will be the matplotlib rcParams value.\n",
    "    cmap:          Colormap of the values displayed from matplotlib.pyplot.cm. Default is 'Blues'\n",
    "                   See http://matplotlib.org/examples/color/colormaps_reference.html\n",
    "                   \n",
    "    title:         Title for the heatmap. Default is None.\n",
    "    '''\n",
    "\n",
    "\n",
    "    # CODE TO GENERATE TEXT INSIDE EACH SQUARE\n",
    "    blanks = ['' for i in range(cf.size)]\n",
    "\n",
    "    if group_names and len(group_names)==cf.size:\n",
    "        group_labels = [\"{}\\n\".format(value) for value in group_names]\n",
    "    else:\n",
    "        group_labels = blanks\n",
    "\n",
    "    if count:\n",
    "        group_counts = [\"{0:0.0f}\\n\".format(value) for value in cf.flatten()]\n",
    "    else:\n",
    "        group_counts = blanks\n",
    "\n",
    "    if percent:\n",
    "        group_percentages = [\"{0:.2%}\".format(value) for value in (cf/cf.astype(np.float).sum(axis=0)).flatten()]\n",
    "    else:\n",
    "        group_percentages = blanks\n",
    "\n",
    "    box_labels = [f\"{v1}{v2}{v3}\".strip() for v1, v2, v3 in zip(group_labels,group_counts,group_percentages)]\n",
    "    box_labels = np.asarray(box_labels).reshape(cf.shape[0],cf.shape[1])\n",
    "\n",
    "\n",
    "    # CODE TO GENERATE SUMMARY STATISTICS & TEXT FOR SUMMARY STATS\n",
    "    if sum_stats:\n",
    "        #Accuracy is sum of diagonal divided by total observations\n",
    "        accuracy  = np.trace(cf) / float(np.sum(cf))\n",
    "\n",
    "        #if it is a binary confusion matrix, show some more stats\n",
    "        if len(cf)==2:\n",
    "            #Metrics for Binary Confusion Matrices\n",
    "            precision = cf[1,1] / sum(cf[:,1])\n",
    "            recall    = cf[1,1] / sum(cf[1,:])\n",
    "            f1_score  = 2*precision*recall / (precision + recall)\n",
    "            stats_text = \"\\n\\nAccuracy={:0.3f}\\nPrecision={:0.3f}\\nRecall={:0.3f}\\nF1 Score={:0.3f}\".format(\n",
    "                accuracy,precision,recall,f1_score)\n",
    "        else:\n",
    "            stats_text = \"\\n\\nAccuracy={:0.3f}\".format(accuracy)\n",
    "    else:\n",
    "        stats_text = \"\"\n",
    "\n",
    "\n",
    "    # SET FIGURE PARAMETERS ACCORDING TO OTHER ARGUMENTS\n",
    "    if figsize==None:\n",
    "        #Get default figure size if not set\n",
    "        figsize = plt.rcParams.get('figure.figsize')\n",
    "\n",
    "    if xyticks==False:\n",
    "        #Do not show categories if xyticks is False\n",
    "        categories=False\n",
    "\n",
    "\n",
    "    # MAKE THE HEATMAP VISUALIZATION\n",
    "    plt.figure(figsize=figsize)\n",
    "    sns.heatmap(cf,annot=box_labels,fmt=\"\",cmap=cmap,cbar=cbar,xticklabels=categories,yticklabels=categories)\n",
    "\n",
    "    if xyplotlabels:\n",
    "        plt.ylabel('True label')\n",
    "        plt.xlabel('Predicted label' + stats_text)\n",
    "    else:\n",
    "        plt.xlabel(stats_text)\n",
    "    \n",
    "    if title:\n",
    "        plt.title(title)"
   ]
  },
  {
   "cell_type": "code",
   "execution_count": 26,
   "id": "24bdc4fd",
   "metadata": {
    "execution": {
     "iopub.execute_input": "2021-10-05T07:44:13.221962Z",
     "iopub.status.busy": "2021-10-05T07:44:13.219712Z",
     "iopub.status.idle": "2021-10-05T07:44:13.224265Z",
     "shell.execute_reply": "2021-10-05T07:44:13.224756Z",
     "shell.execute_reply.started": "2021-10-05T07:33:51.918293Z"
    },
    "papermill": {
     "duration": 0.16962,
     "end_time": "2021-10-05T07:44:13.224933",
     "exception": false,
     "start_time": "2021-10-05T07:44:13.055313",
     "status": "completed"
    },
    "tags": []
   },
   "outputs": [],
   "source": [
    "labelnames = ['0', '8', '9']"
   ]
  },
  {
   "cell_type": "code",
   "execution_count": 27,
   "id": "6030e024",
   "metadata": {
    "execution": {
     "iopub.execute_input": "2021-10-05T07:44:13.572675Z",
     "iopub.status.busy": "2021-10-05T07:44:13.570443Z",
     "iopub.status.idle": "2021-10-05T07:44:13.953385Z",
     "shell.execute_reply": "2021-10-05T07:44:13.952645Z",
     "shell.execute_reply.started": "2021-10-05T07:33:54.013174Z"
    },
    "papermill": {
     "duration": 0.566462,
     "end_time": "2021-10-05T07:44:13.953555",
     "exception": false,
     "start_time": "2021-10-05T07:44:13.387093",
     "status": "completed"
    },
    "tags": []
   },
   "outputs": [
    {
     "data": {
      "image/png": "[encoded data removed]",
      "text/plain": [
       "<Figure size 432x288 with 2 Axes>"
      ]
     },
     "metadata": {
      "needs_background": "light"
     },
     "output_type": "display_data"
    }
   ],
   "source": [
    "from sklearn.metrics import confusion_matrix\n",
    "cf_matrix = confusion_matrix(yt, yp)\n",
    "make_confusion_matrix(cf_matrix, cmap='Blues', categories=labelnames)"
   ]
  },
  {
   "cell_type": "code",
   "execution_count": null,
   "id": "73a86a17",
   "metadata": {
    "execution": {
     "iopub.execute_input": "2021-10-05T07:41:38.747512Z",
     "iopub.status.busy": "2021-10-05T07:41:38.747203Z",
     "iopub.status.idle": "2021-10-05T07:43:01.067549Z",
     "shell.execute_reply": "2021-10-05T07:43:01.065741Z",
     "shell.execute_reply.started": "2021-10-05T07:41:38.747480Z"
    },
    "papermill": {
     "duration": 0.161389,
     "end_time": "2021-10-05T07:44:14.275715",
     "exception": false,
     "start_time": "2021-10-05T07:44:14.114326",
     "status": "completed"
    },
    "tags": []
   },
   "outputs": [],
   "source": []
  },
  {
   "cell_type": "code",
   "execution_count": null,
   "id": "9e8e83aa",
   "metadata": {
    "papermill": {
     "duration": 0.155122,
     "end_time": "2021-10-05T07:44:14.593935",
     "exception": false,
     "start_time": "2021-10-05T07:44:14.438813",
     "status": "completed"
    },
    "tags": []
   },
   "outputs": [],
   "source": []
  }
 ],
 "metadata": {
  "kernelspec": {
   "display_name": "Python 3",
   "language": "python",
   "name": "python3"
  },
  "language_info": {
   "codemirror_mode": {
    "name": "ipython",
    "version": 3
   },
   "file_extension": ".py",
   "mimetype": "text/x-python",
   "name": "python",
   "nbconvert_exporter": "python",
   "pygments_lexer": "ipython3",
   "version": "3.7.10"
  },
  "papermill": {
   "default_parameters": {},
   "duration": 52.865332,
   "end_time": "2021-10-05T07:44:18.061544",
   "environment_variables": {},
   "exception": null,
   "input_path": "__notebook__.ipynb",
   "output_path": "__notebook__.ipynb",
   "parameters": {},
   "start_time": "2021-10-05T07:43:25.196212",
   "version": "2.3.3"
  }
 },
 "nbformat": 4,
 "nbformat_minor": 5
}
