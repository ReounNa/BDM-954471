{
 "cells": [
  {
   "cell_type": "code",
   "execution_count": 1,
   "id": "0ec664a5",
   "metadata": {
    "_cell_guid": "b1076dfc-b9ad-4769-8c92-a6c4dae69d19",
    "_uuid": "8f2839f25d086af736a60e9eeb907d3b93b6e0e5",
    "execution": {
     "iopub.execute_input": "2021-08-31T12:57:13.477182Z",
     "iopub.status.busy": "2021-08-31T12:57:13.476578Z",
     "iopub.status.idle": "2021-08-31T12:57:13.493178Z",
     "shell.execute_reply": "2021-08-31T12:57:13.492482Z",
     "shell.execute_reply.started": "2021-08-31T06:34:01.820771Z"
    },
    "papermill": {
     "duration": 0.061695,
     "end_time": "2021-08-31T12:57:13.493348",
     "exception": false,
     "start_time": "2021-08-31T12:57:13.431653",
     "status": "completed"
    },
    "tags": []
   },
   "outputs": [
    {
     "name": "stdout",
     "output_type": "stream",
     "text": [
      "/kaggle/input/telecom-churn/telecom_churn.csv\n"
     ]
    }
   ],
   "source": [
    "# This Python 3 environment comes with many helpful analytics libraries installed\n",
    "# It is defined by the kaggle/python Docker image: https://github.com/kaggle/docker-python\n",
    "# For example, here's several helpful packages to load\n",
    "\n",
    "import numpy as np # linear algebra\n",
    "import pandas as pd # data processing, CSV file I/O (e.g. pd.read_csv)\n",
    "\n",
    "# Input data files are available in the read-only \"../input/\" directory\n",
    "# For example, running this (by clicking run or pressing Shift+Enter) will list all files under the input directory\n",
    "\n",
    "import os\n",
    "for dirname, _, filenames in os.walk('/kaggle/input'):\n",
    "    for filename in filenames:\n",
    "        print(os.path.join(dirname, filename))\n",
    "\n",
    "# You can write up to 20GB to the current directory (/kaggle/working/) that gets preserved as output when you create a version using \"Save & Run All\" \n",
    "# You can also write temporary files to /kaggle/temp/, but they won't be saved outside of the current session"
   ]
  },
  {
   "cell_type": "code",
   "execution_count": 2,
   "id": "87fd16c9",
   "metadata": {
    "execution": {
     "iopub.execute_input": "2021-08-31T12:57:13.566027Z",
     "iopub.status.busy": "2021-08-31T12:57:13.565303Z",
     "iopub.status.idle": "2021-08-31T12:57:13.706174Z",
     "shell.execute_reply": "2021-08-31T12:57:13.704955Z",
     "shell.execute_reply.started": "2021-08-31T06:43:18.455584Z"
    },
    "papermill": {
     "duration": 0.179032,
     "end_time": "2021-08-31T12:57:13.706313",
     "exception": false,
     "start_time": "2021-08-31T12:57:13.527281",
     "status": "completed"
    },
    "tags": []
   },
   "outputs": [
    {
     "data": {
      "text/html": [
       "<div>\n",
       "<style scoped>\n",
       "    .dataframe tbody tr th:only-of-type {\n",
       "        vertical-align: middle;\n",
       "    }\n",
       "\n",
       "    .dataframe tbody tr th {\n",
       "        vertical-align: top;\n",
       "    }\n",
       "\n",
       "    .dataframe thead th {\n",
       "        text-align: right;\n",
       "    }\n",
       "</style>\n",
       "<table border=\"1\" class=\"dataframe\">\n",
       "  <thead>\n",
       "    <tr style=\"text-align: right;\">\n",
       "      <th></th>\n",
       "      <th>Churn</th>\n",
       "      <th>AccountWeeks</th>\n",
       "      <th>ContractRenewal</th>\n",
       "      <th>DataPlan</th>\n",
       "      <th>DataUsage</th>\n",
       "      <th>CustServCalls</th>\n",
       "      <th>DayMins</th>\n",
       "      <th>DayCalls</th>\n",
       "      <th>MonthlyCharge</th>\n",
       "      <th>OverageFee</th>\n",
       "      <th>RoamMins</th>\n",
       "    </tr>\n",
       "  </thead>\n",
       "  <tbody>\n",
       "    <tr>\n",
       "      <th>0</th>\n",
       "      <td>0</td>\n",
       "      <td>128</td>\n",
       "      <td>1</td>\n",
       "      <td>1</td>\n",
       "      <td>2.70</td>\n",
       "      <td>1</td>\n",
       "      <td>265.1</td>\n",
       "      <td>110</td>\n",
       "      <td>89.0</td>\n",
       "      <td>9.87</td>\n",
       "      <td>10.0</td>\n",
       "    </tr>\n",
       "    <tr>\n",
       "      <th>1</th>\n",
       "      <td>0</td>\n",
       "      <td>107</td>\n",
       "      <td>1</td>\n",
       "      <td>1</td>\n",
       "      <td>3.70</td>\n",
       "      <td>1</td>\n",
       "      <td>161.6</td>\n",
       "      <td>123</td>\n",
       "      <td>82.0</td>\n",
       "      <td>9.78</td>\n",
       "      <td>13.7</td>\n",
       "    </tr>\n",
       "    <tr>\n",
       "      <th>2</th>\n",
       "      <td>0</td>\n",
       "      <td>137</td>\n",
       "      <td>1</td>\n",
       "      <td>0</td>\n",
       "      <td>0.00</td>\n",
       "      <td>0</td>\n",
       "      <td>243.4</td>\n",
       "      <td>114</td>\n",
       "      <td>52.0</td>\n",
       "      <td>6.06</td>\n",
       "      <td>12.2</td>\n",
       "    </tr>\n",
       "    <tr>\n",
       "      <th>3</th>\n",
       "      <td>0</td>\n",
       "      <td>84</td>\n",
       "      <td>0</td>\n",
       "      <td>0</td>\n",
       "      <td>0.00</td>\n",
       "      <td>2</td>\n",
       "      <td>299.4</td>\n",
       "      <td>71</td>\n",
       "      <td>57.0</td>\n",
       "      <td>3.10</td>\n",
       "      <td>6.6</td>\n",
       "    </tr>\n",
       "    <tr>\n",
       "      <th>4</th>\n",
       "      <td>0</td>\n",
       "      <td>75</td>\n",
       "      <td>0</td>\n",
       "      <td>0</td>\n",
       "      <td>0.00</td>\n",
       "      <td>3</td>\n",
       "      <td>166.7</td>\n",
       "      <td>113</td>\n",
       "      <td>41.0</td>\n",
       "      <td>7.42</td>\n",
       "      <td>10.1</td>\n",
       "    </tr>\n",
       "    <tr>\n",
       "      <th>...</th>\n",
       "      <td>...</td>\n",
       "      <td>...</td>\n",
       "      <td>...</td>\n",
       "      <td>...</td>\n",
       "      <td>...</td>\n",
       "      <td>...</td>\n",
       "      <td>...</td>\n",
       "      <td>...</td>\n",
       "      <td>...</td>\n",
       "      <td>...</td>\n",
       "      <td>...</td>\n",
       "    </tr>\n",
       "    <tr>\n",
       "      <th>3328</th>\n",
       "      <td>0</td>\n",
       "      <td>192</td>\n",
       "      <td>1</td>\n",
       "      <td>1</td>\n",
       "      <td>2.67</td>\n",
       "      <td>2</td>\n",
       "      <td>156.2</td>\n",
       "      <td>77</td>\n",
       "      <td>71.7</td>\n",
       "      <td>10.78</td>\n",
       "      <td>9.9</td>\n",
       "    </tr>\n",
       "    <tr>\n",
       "      <th>3329</th>\n",
       "      <td>0</td>\n",
       "      <td>68</td>\n",
       "      <td>1</td>\n",
       "      <td>0</td>\n",
       "      <td>0.34</td>\n",
       "      <td>3</td>\n",
       "      <td>231.1</td>\n",
       "      <td>57</td>\n",
       "      <td>56.4</td>\n",
       "      <td>7.67</td>\n",
       "      <td>9.6</td>\n",
       "    </tr>\n",
       "    <tr>\n",
       "      <th>3330</th>\n",
       "      <td>0</td>\n",
       "      <td>28</td>\n",
       "      <td>1</td>\n",
       "      <td>0</td>\n",
       "      <td>0.00</td>\n",
       "      <td>2</td>\n",
       "      <td>180.8</td>\n",
       "      <td>109</td>\n",
       "      <td>56.0</td>\n",
       "      <td>14.44</td>\n",
       "      <td>14.1</td>\n",
       "    </tr>\n",
       "    <tr>\n",
       "      <th>3331</th>\n",
       "      <td>0</td>\n",
       "      <td>184</td>\n",
       "      <td>0</td>\n",
       "      <td>0</td>\n",
       "      <td>0.00</td>\n",
       "      <td>2</td>\n",
       "      <td>213.8</td>\n",
       "      <td>105</td>\n",
       "      <td>50.0</td>\n",
       "      <td>7.98</td>\n",
       "      <td>5.0</td>\n",
       "    </tr>\n",
       "    <tr>\n",
       "      <th>3332</th>\n",
       "      <td>0</td>\n",
       "      <td>74</td>\n",
       "      <td>1</td>\n",
       "      <td>1</td>\n",
       "      <td>3.70</td>\n",
       "      <td>0</td>\n",
       "      <td>234.4</td>\n",
       "      <td>113</td>\n",
       "      <td>100.0</td>\n",
       "      <td>13.30</td>\n",
       "      <td>13.7</td>\n",
       "    </tr>\n",
       "  </tbody>\n",
       "</table>\n",
       "<p>3333 rows × 11 columns</p>\n",
       "</div>"
      ],
      "text/plain": [
       "      Churn  AccountWeeks  ContractRenewal  DataPlan  DataUsage  \\\n",
       "0         0           128                1         1       2.70   \n",
       "1         0           107                1         1       3.70   \n",
       "2         0           137                1         0       0.00   \n",
       "3         0            84                0         0       0.00   \n",
       "4         0            75                0         0       0.00   \n",
       "...     ...           ...              ...       ...        ...   \n",
       "3328      0           192                1         1       2.67   \n",
       "3329      0            68                1         0       0.34   \n",
       "3330      0            28                1         0       0.00   \n",
       "3331      0           184                0         0       0.00   \n",
       "3332      0            74                1         1       3.70   \n",
       "\n",
       "      CustServCalls  DayMins  DayCalls  MonthlyCharge  OverageFee  RoamMins  \n",
       "0                 1    265.1       110           89.0        9.87      10.0  \n",
       "1                 1    161.6       123           82.0        9.78      13.7  \n",
       "2                 0    243.4       114           52.0        6.06      12.2  \n",
       "3                 2    299.4        71           57.0        3.10       6.6  \n",
       "4                 3    166.7       113           41.0        7.42      10.1  \n",
       "...             ...      ...       ...            ...         ...       ...  \n",
       "3328              2    156.2        77           71.7       10.78       9.9  \n",
       "3329              3    231.1        57           56.4        7.67       9.6  \n",
       "3330              2    180.8       109           56.0       14.44      14.1  \n",
       "3331              2    213.8       105           50.0        7.98       5.0  \n",
       "3332              0    234.4       113          100.0       13.30      13.7  \n",
       "\n",
       "[3333 rows x 11 columns]"
      ]
     },
     "execution_count": 2,
     "metadata": {},
     "output_type": "execute_result"
    }
   ],
   "source": [
    "df = pd.read_csv('../input/telecom-churn/telecom_churn.csv', sep=',', header = 0)\n",
    "#df = df.set_index('hn')\n",
    "df"
   ]
  },
  {
   "cell_type": "code",
   "execution_count": 3,
   "id": "6349d370",
   "metadata": {
    "execution": {
     "iopub.execute_input": "2021-08-31T12:57:13.784239Z",
     "iopub.status.busy": "2021-08-31T12:57:13.781422Z",
     "iopub.status.idle": "2021-08-31T12:57:13.787208Z",
     "shell.execute_reply": "2021-08-31T12:57:13.787760Z",
     "shell.execute_reply.started": "2021-08-31T06:44:04.232234Z"
    },
    "papermill": {
     "duration": 0.04579,
     "end_time": "2021-08-31T12:57:13.787925",
     "exception": false,
     "start_time": "2021-08-31T12:57:13.742135",
     "status": "completed"
    },
    "tags": []
   },
   "outputs": [
    {
     "data": {
      "text/plain": [
       "Churn              False\n",
       "AccountWeeks       False\n",
       "ContractRenewal    False\n",
       "DataPlan           False\n",
       "DataUsage          False\n",
       "CustServCalls      False\n",
       "DayMins            False\n",
       "DayCalls           False\n",
       "MonthlyCharge      False\n",
       "OverageFee         False\n",
       "RoamMins           False\n",
       "dtype: bool"
      ]
     },
     "execution_count": 3,
     "metadata": {},
     "output_type": "execute_result"
    }
   ],
   "source": [
    "df.isnull().any()"
   ]
  },
  {
   "cell_type": "code",
   "execution_count": 4,
   "id": "e82199c8",
   "metadata": {
    "execution": {
     "iopub.execute_input": "2021-08-31T12:57:13.858996Z",
     "iopub.status.busy": "2021-08-31T12:57:13.858422Z",
     "iopub.status.idle": "2021-08-31T12:57:13.903879Z",
     "shell.execute_reply": "2021-08-31T12:57:13.903255Z",
     "shell.execute_reply.started": "2021-08-31T06:46:46.156625Z"
    },
    "papermill": {
     "duration": 0.082334,
     "end_time": "2021-08-31T12:57:13.904017",
     "exception": false,
     "start_time": "2021-08-31T12:57:13.821683",
     "status": "completed"
    },
    "tags": []
   },
   "outputs": [
    {
     "data": {
      "text/html": [
       "<div>\n",
       "<style scoped>\n",
       "    .dataframe tbody tr th:only-of-type {\n",
       "        vertical-align: middle;\n",
       "    }\n",
       "\n",
       "    .dataframe tbody tr th {\n",
       "        vertical-align: top;\n",
       "    }\n",
       "\n",
       "    .dataframe thead th {\n",
       "        text-align: right;\n",
       "    }\n",
       "</style>\n",
       "<table border=\"1\" class=\"dataframe\">\n",
       "  <thead>\n",
       "    <tr style=\"text-align: right;\">\n",
       "      <th></th>\n",
       "      <th>Churn</th>\n",
       "      <th>AccountWeeks</th>\n",
       "      <th>ContractRenewal</th>\n",
       "      <th>DataPlan</th>\n",
       "      <th>DataUsage</th>\n",
       "      <th>CustServCalls</th>\n",
       "      <th>DayMins</th>\n",
       "      <th>DayCalls</th>\n",
       "      <th>MonthlyCharge</th>\n",
       "      <th>OverageFee</th>\n",
       "      <th>RoamMins</th>\n",
       "    </tr>\n",
       "  </thead>\n",
       "  <tbody>\n",
       "    <tr>\n",
       "      <th>count</th>\n",
       "      <td>3333.000000</td>\n",
       "      <td>3333.000000</td>\n",
       "      <td>3333.000000</td>\n",
       "      <td>3333.000000</td>\n",
       "      <td>3333.000000</td>\n",
       "      <td>3333.000000</td>\n",
       "      <td>3333.000000</td>\n",
       "      <td>3333.000000</td>\n",
       "      <td>3333.000000</td>\n",
       "      <td>3333.000000</td>\n",
       "      <td>3333.000000</td>\n",
       "    </tr>\n",
       "    <tr>\n",
       "      <th>mean</th>\n",
       "      <td>0.144914</td>\n",
       "      <td>101.064806</td>\n",
       "      <td>0.903090</td>\n",
       "      <td>0.276628</td>\n",
       "      <td>0.816475</td>\n",
       "      <td>1.562856</td>\n",
       "      <td>179.775098</td>\n",
       "      <td>100.435644</td>\n",
       "      <td>56.305161</td>\n",
       "      <td>10.051488</td>\n",
       "      <td>10.237294</td>\n",
       "    </tr>\n",
       "    <tr>\n",
       "      <th>std</th>\n",
       "      <td>0.352067</td>\n",
       "      <td>39.822106</td>\n",
       "      <td>0.295879</td>\n",
       "      <td>0.447398</td>\n",
       "      <td>1.272668</td>\n",
       "      <td>1.315491</td>\n",
       "      <td>54.467389</td>\n",
       "      <td>20.069084</td>\n",
       "      <td>16.426032</td>\n",
       "      <td>2.535712</td>\n",
       "      <td>2.791840</td>\n",
       "    </tr>\n",
       "    <tr>\n",
       "      <th>min</th>\n",
       "      <td>0.000000</td>\n",
       "      <td>1.000000</td>\n",
       "      <td>0.000000</td>\n",
       "      <td>0.000000</td>\n",
       "      <td>0.000000</td>\n",
       "      <td>0.000000</td>\n",
       "      <td>0.000000</td>\n",
       "      <td>0.000000</td>\n",
       "      <td>14.000000</td>\n",
       "      <td>0.000000</td>\n",
       "      <td>0.000000</td>\n",
       "    </tr>\n",
       "    <tr>\n",
       "      <th>25%</th>\n",
       "      <td>0.000000</td>\n",
       "      <td>74.000000</td>\n",
       "      <td>1.000000</td>\n",
       "      <td>0.000000</td>\n",
       "      <td>0.000000</td>\n",
       "      <td>1.000000</td>\n",
       "      <td>143.700000</td>\n",
       "      <td>87.000000</td>\n",
       "      <td>45.000000</td>\n",
       "      <td>8.330000</td>\n",
       "      <td>8.500000</td>\n",
       "    </tr>\n",
       "    <tr>\n",
       "      <th>50%</th>\n",
       "      <td>0.000000</td>\n",
       "      <td>101.000000</td>\n",
       "      <td>1.000000</td>\n",
       "      <td>0.000000</td>\n",
       "      <td>0.000000</td>\n",
       "      <td>1.000000</td>\n",
       "      <td>179.400000</td>\n",
       "      <td>101.000000</td>\n",
       "      <td>53.500000</td>\n",
       "      <td>10.070000</td>\n",
       "      <td>10.300000</td>\n",
       "    </tr>\n",
       "    <tr>\n",
       "      <th>75%</th>\n",
       "      <td>0.000000</td>\n",
       "      <td>127.000000</td>\n",
       "      <td>1.000000</td>\n",
       "      <td>1.000000</td>\n",
       "      <td>1.780000</td>\n",
       "      <td>2.000000</td>\n",
       "      <td>216.400000</td>\n",
       "      <td>114.000000</td>\n",
       "      <td>66.200000</td>\n",
       "      <td>11.770000</td>\n",
       "      <td>12.100000</td>\n",
       "    </tr>\n",
       "    <tr>\n",
       "      <th>max</th>\n",
       "      <td>1.000000</td>\n",
       "      <td>243.000000</td>\n",
       "      <td>1.000000</td>\n",
       "      <td>1.000000</td>\n",
       "      <td>5.400000</td>\n",
       "      <td>9.000000</td>\n",
       "      <td>350.800000</td>\n",
       "      <td>165.000000</td>\n",
       "      <td>111.300000</td>\n",
       "      <td>18.190000</td>\n",
       "      <td>20.000000</td>\n",
       "    </tr>\n",
       "  </tbody>\n",
       "</table>\n",
       "</div>"
      ],
      "text/plain": [
       "             Churn  AccountWeeks  ContractRenewal     DataPlan    DataUsage  \\\n",
       "count  3333.000000   3333.000000      3333.000000  3333.000000  3333.000000   \n",
       "mean      0.144914    101.064806         0.903090     0.276628     0.816475   \n",
       "std       0.352067     39.822106         0.295879     0.447398     1.272668   \n",
       "min       0.000000      1.000000         0.000000     0.000000     0.000000   \n",
       "25%       0.000000     74.000000         1.000000     0.000000     0.000000   \n",
       "50%       0.000000    101.000000         1.000000     0.000000     0.000000   \n",
       "75%       0.000000    127.000000         1.000000     1.000000     1.780000   \n",
       "max       1.000000    243.000000         1.000000     1.000000     5.400000   \n",
       "\n",
       "       CustServCalls      DayMins     DayCalls  MonthlyCharge   OverageFee  \\\n",
       "count    3333.000000  3333.000000  3333.000000    3333.000000  3333.000000   \n",
       "mean        1.562856   179.775098   100.435644      56.305161    10.051488   \n",
       "std         1.315491    54.467389    20.069084      16.426032     2.535712   \n",
       "min         0.000000     0.000000     0.000000      14.000000     0.000000   \n",
       "25%         1.000000   143.700000    87.000000      45.000000     8.330000   \n",
       "50%         1.000000   179.400000   101.000000      53.500000    10.070000   \n",
       "75%         2.000000   216.400000   114.000000      66.200000    11.770000   \n",
       "max         9.000000   350.800000   165.000000     111.300000    18.190000   \n",
       "\n",
       "          RoamMins  \n",
       "count  3333.000000  \n",
       "mean     10.237294  \n",
       "std       2.791840  \n",
       "min       0.000000  \n",
       "25%       8.500000  \n",
       "50%      10.300000  \n",
       "75%      12.100000  \n",
       "max      20.000000  "
      ]
     },
     "execution_count": 4,
     "metadata": {},
     "output_type": "execute_result"
    }
   ],
   "source": [
    "df.describe() #show data โดยรวม\n",
    "# meanของคนย้ายค่ายได้ 0.14 ข้อมูล imbalance ละ มีปัญหา"
   ]
  },
  {
   "cell_type": "code",
   "execution_count": 5,
   "id": "0eab5c33",
   "metadata": {
    "execution": {
     "iopub.execute_input": "2021-08-31T12:57:13.979176Z",
     "iopub.status.busy": "2021-08-31T12:57:13.978579Z",
     "iopub.status.idle": "2021-08-31T12:57:13.981773Z",
     "shell.execute_reply": "2021-08-31T12:57:13.981270Z",
     "shell.execute_reply.started": "2021-08-31T06:54:32.511718Z"
    },
    "papermill": {
     "duration": 0.043641,
     "end_time": "2021-08-31T12:57:13.981909",
     "exception": false,
     "start_time": "2021-08-31T12:57:13.938268",
     "status": "completed"
    },
    "tags": []
   },
   "outputs": [],
   "source": [
    "y = df['Churn'] # label\n",
    "X = df.drop(['Churn'],axis = 1)#features"
   ]
  },
  {
   "cell_type": "code",
   "execution_count": 6,
   "id": "991430e8",
   "metadata": {
    "execution": {
     "iopub.execute_input": "2021-08-31T12:57:14.073635Z",
     "iopub.status.busy": "2021-08-31T12:57:14.073022Z",
     "iopub.status.idle": "2021-08-31T12:57:14.077915Z",
     "shell.execute_reply": "2021-08-31T12:57:14.078351Z",
     "shell.execute_reply.started": "2021-08-31T06:54:36.739049Z"
    },
    "papermill": {
     "duration": 0.062717,
     "end_time": "2021-08-31T12:57:14.078680",
     "exception": false,
     "start_time": "2021-08-31T12:57:14.015963",
     "status": "completed"
    },
    "tags": []
   },
   "outputs": [
    {
     "data": {
      "text/html": [
       "<div>\n",
       "<style scoped>\n",
       "    .dataframe tbody tr th:only-of-type {\n",
       "        vertical-align: middle;\n",
       "    }\n",
       "\n",
       "    .dataframe tbody tr th {\n",
       "        vertical-align: top;\n",
       "    }\n",
       "\n",
       "    .dataframe thead th {\n",
       "        text-align: right;\n",
       "    }\n",
       "</style>\n",
       "<table border=\"1\" class=\"dataframe\">\n",
       "  <thead>\n",
       "    <tr style=\"text-align: right;\">\n",
       "      <th></th>\n",
       "      <th>AccountWeeks</th>\n",
       "      <th>ContractRenewal</th>\n",
       "      <th>DataPlan</th>\n",
       "      <th>DataUsage</th>\n",
       "      <th>CustServCalls</th>\n",
       "      <th>DayMins</th>\n",
       "      <th>DayCalls</th>\n",
       "      <th>MonthlyCharge</th>\n",
       "      <th>OverageFee</th>\n",
       "      <th>RoamMins</th>\n",
       "    </tr>\n",
       "  </thead>\n",
       "  <tbody>\n",
       "    <tr>\n",
       "      <th>0</th>\n",
       "      <td>128</td>\n",
       "      <td>1</td>\n",
       "      <td>1</td>\n",
       "      <td>2.70</td>\n",
       "      <td>1</td>\n",
       "      <td>265.1</td>\n",
       "      <td>110</td>\n",
       "      <td>89.0</td>\n",
       "      <td>9.87</td>\n",
       "      <td>10.0</td>\n",
       "    </tr>\n",
       "    <tr>\n",
       "      <th>1</th>\n",
       "      <td>107</td>\n",
       "      <td>1</td>\n",
       "      <td>1</td>\n",
       "      <td>3.70</td>\n",
       "      <td>1</td>\n",
       "      <td>161.6</td>\n",
       "      <td>123</td>\n",
       "      <td>82.0</td>\n",
       "      <td>9.78</td>\n",
       "      <td>13.7</td>\n",
       "    </tr>\n",
       "    <tr>\n",
       "      <th>2</th>\n",
       "      <td>137</td>\n",
       "      <td>1</td>\n",
       "      <td>0</td>\n",
       "      <td>0.00</td>\n",
       "      <td>0</td>\n",
       "      <td>243.4</td>\n",
       "      <td>114</td>\n",
       "      <td>52.0</td>\n",
       "      <td>6.06</td>\n",
       "      <td>12.2</td>\n",
       "    </tr>\n",
       "    <tr>\n",
       "      <th>3</th>\n",
       "      <td>84</td>\n",
       "      <td>0</td>\n",
       "      <td>0</td>\n",
       "      <td>0.00</td>\n",
       "      <td>2</td>\n",
       "      <td>299.4</td>\n",
       "      <td>71</td>\n",
       "      <td>57.0</td>\n",
       "      <td>3.10</td>\n",
       "      <td>6.6</td>\n",
       "    </tr>\n",
       "    <tr>\n",
       "      <th>4</th>\n",
       "      <td>75</td>\n",
       "      <td>0</td>\n",
       "      <td>0</td>\n",
       "      <td>0.00</td>\n",
       "      <td>3</td>\n",
       "      <td>166.7</td>\n",
       "      <td>113</td>\n",
       "      <td>41.0</td>\n",
       "      <td>7.42</td>\n",
       "      <td>10.1</td>\n",
       "    </tr>\n",
       "    <tr>\n",
       "      <th>...</th>\n",
       "      <td>...</td>\n",
       "      <td>...</td>\n",
       "      <td>...</td>\n",
       "      <td>...</td>\n",
       "      <td>...</td>\n",
       "      <td>...</td>\n",
       "      <td>...</td>\n",
       "      <td>...</td>\n",
       "      <td>...</td>\n",
       "      <td>...</td>\n",
       "    </tr>\n",
       "    <tr>\n",
       "      <th>3328</th>\n",
       "      <td>192</td>\n",
       "      <td>1</td>\n",
       "      <td>1</td>\n",
       "      <td>2.67</td>\n",
       "      <td>2</td>\n",
       "      <td>156.2</td>\n",
       "      <td>77</td>\n",
       "      <td>71.7</td>\n",
       "      <td>10.78</td>\n",
       "      <td>9.9</td>\n",
       "    </tr>\n",
       "    <tr>\n",
       "      <th>3329</th>\n",
       "      <td>68</td>\n",
       "      <td>1</td>\n",
       "      <td>0</td>\n",
       "      <td>0.34</td>\n",
       "      <td>3</td>\n",
       "      <td>231.1</td>\n",
       "      <td>57</td>\n",
       "      <td>56.4</td>\n",
       "      <td>7.67</td>\n",
       "      <td>9.6</td>\n",
       "    </tr>\n",
       "    <tr>\n",
       "      <th>3330</th>\n",
       "      <td>28</td>\n",
       "      <td>1</td>\n",
       "      <td>0</td>\n",
       "      <td>0.00</td>\n",
       "      <td>2</td>\n",
       "      <td>180.8</td>\n",
       "      <td>109</td>\n",
       "      <td>56.0</td>\n",
       "      <td>14.44</td>\n",
       "      <td>14.1</td>\n",
       "    </tr>\n",
       "    <tr>\n",
       "      <th>3331</th>\n",
       "      <td>184</td>\n",
       "      <td>0</td>\n",
       "      <td>0</td>\n",
       "      <td>0.00</td>\n",
       "      <td>2</td>\n",
       "      <td>213.8</td>\n",
       "      <td>105</td>\n",
       "      <td>50.0</td>\n",
       "      <td>7.98</td>\n",
       "      <td>5.0</td>\n",
       "    </tr>\n",
       "    <tr>\n",
       "      <th>3332</th>\n",
       "      <td>74</td>\n",
       "      <td>1</td>\n",
       "      <td>1</td>\n",
       "      <td>3.70</td>\n",
       "      <td>0</td>\n",
       "      <td>234.4</td>\n",
       "      <td>113</td>\n",
       "      <td>100.0</td>\n",
       "      <td>13.30</td>\n",
       "      <td>13.7</td>\n",
       "    </tr>\n",
       "  </tbody>\n",
       "</table>\n",
       "<p>3333 rows × 10 columns</p>\n",
       "</div>"
      ],
      "text/plain": [
       "      AccountWeeks  ContractRenewal  DataPlan  DataUsage  CustServCalls  \\\n",
       "0              128                1         1       2.70              1   \n",
       "1              107                1         1       3.70              1   \n",
       "2              137                1         0       0.00              0   \n",
       "3               84                0         0       0.00              2   \n",
       "4               75                0         0       0.00              3   \n",
       "...            ...              ...       ...        ...            ...   \n",
       "3328           192                1         1       2.67              2   \n",
       "3329            68                1         0       0.34              3   \n",
       "3330            28                1         0       0.00              2   \n",
       "3331           184                0         0       0.00              2   \n",
       "3332            74                1         1       3.70              0   \n",
       "\n",
       "      DayMins  DayCalls  MonthlyCharge  OverageFee  RoamMins  \n",
       "0       265.1       110           89.0        9.87      10.0  \n",
       "1       161.6       123           82.0        9.78      13.7  \n",
       "2       243.4       114           52.0        6.06      12.2  \n",
       "3       299.4        71           57.0        3.10       6.6  \n",
       "4       166.7       113           41.0        7.42      10.1  \n",
       "...       ...       ...            ...         ...       ...  \n",
       "3328    156.2        77           71.7       10.78       9.9  \n",
       "3329    231.1        57           56.4        7.67       9.6  \n",
       "3330    180.8       109           56.0       14.44      14.1  \n",
       "3331    213.8       105           50.0        7.98       5.0  \n",
       "3332    234.4       113          100.0       13.30      13.7  \n",
       "\n",
       "[3333 rows x 10 columns]"
      ]
     },
     "execution_count": 6,
     "metadata": {},
     "output_type": "execute_result"
    }
   ],
   "source": [
    "X"
   ]
  },
  {
   "cell_type": "code",
   "execution_count": 7,
   "id": "4d56daf1",
   "metadata": {
    "execution": {
     "iopub.execute_input": "2021-08-31T12:57:14.157906Z",
     "iopub.status.busy": "2021-08-31T12:57:14.157019Z",
     "iopub.status.idle": "2021-08-31T12:57:14.166499Z",
     "shell.execute_reply": "2021-08-31T12:57:14.165864Z",
     "shell.execute_reply.started": "2021-08-31T06:54:57.546105Z"
    },
    "papermill": {
     "duration": 0.050229,
     "end_time": "2021-08-31T12:57:14.166661",
     "exception": false,
     "start_time": "2021-08-31T12:57:14.116432",
     "status": "completed"
    },
    "tags": []
   },
   "outputs": [
    {
     "data": {
      "text/plain": [
       "array([0, 1])"
      ]
     },
     "execution_count": 7,
     "metadata": {},
     "output_type": "execute_result"
    }
   ],
   "source": [
    "y.unique() # label มี2ค่า คือ 0 กับ 1\n",
    "# np.unique(y)"
   ]
  },
  {
   "cell_type": "code",
   "execution_count": 8,
   "id": "f17c7bba",
   "metadata": {
    "execution": {
     "iopub.execute_input": "2021-08-31T12:57:14.245053Z",
     "iopub.status.busy": "2021-08-31T12:57:14.244133Z",
     "iopub.status.idle": "2021-08-31T12:57:14.248855Z",
     "shell.execute_reply": "2021-08-31T12:57:14.248213Z",
     "shell.execute_reply.started": "2021-08-31T06:53:55.163616Z"
    },
    "papermill": {
     "duration": 0.046111,
     "end_time": "2021-08-31T12:57:14.249033",
     "exception": false,
     "start_time": "2021-08-31T12:57:14.202922",
     "status": "completed"
    },
    "tags": []
   },
   "outputs": [
    {
     "data": {
      "text/plain": [
       "483"
      ]
     },
     "execution_count": 8,
     "metadata": {},
     "output_type": "execute_result"
    }
   ],
   "source": [
    "y.sum() # มี label 1 อยู่ 483 ตัว\n",
    "# np.sum(y)"
   ]
  },
  {
   "cell_type": "code",
   "execution_count": 9,
   "id": "8e36f727",
   "metadata": {
    "execution": {
     "iopub.execute_input": "2021-08-31T12:57:14.329618Z",
     "iopub.status.busy": "2021-08-31T12:57:14.328802Z",
     "iopub.status.idle": "2021-08-31T12:57:14.333421Z",
     "shell.execute_reply": "2021-08-31T12:57:14.332824Z",
     "shell.execute_reply.started": "2021-08-31T06:54:13.617576Z"
    },
    "papermill": {
     "duration": 0.046319,
     "end_time": "2021-08-31T12:57:14.333579",
     "exception": false,
     "start_time": "2021-08-31T12:57:14.287260",
     "status": "completed"
    },
    "tags": []
   },
   "outputs": [
    {
     "data": {
      "text/plain": [
       "2850"
      ]
     },
     "execution_count": 9,
     "metadata": {},
     "output_type": "execute_result"
    }
   ],
   "source": [
    "len(y)-y.sum() # ความต่างละหว่าง label ต่างกัน 2850 คือโครต imbalance คือมี label = 0 อยู่ 2850\n",
    "# np.sum(1-y)"
   ]
  },
  {
   "cell_type": "code",
   "execution_count": 10,
   "id": "795db524",
   "metadata": {
    "execution": {
     "iopub.execute_input": "2021-08-31T12:57:14.411803Z",
     "iopub.status.busy": "2021-08-31T12:57:14.411142Z",
     "iopub.status.idle": "2021-08-31T12:57:15.343880Z",
     "shell.execute_reply": "2021-08-31T12:57:15.343148Z",
     "shell.execute_reply.started": "2021-08-31T07:04:34.91612Z"
    },
    "papermill": {
     "duration": 0.974473,
     "end_time": "2021-08-31T12:57:15.344044",
     "exception": false,
     "start_time": "2021-08-31T12:57:14.369571",
     "status": "completed"
    },
    "tags": []
   },
   "outputs": [],
   "source": [
    "from sklearn.model_selection import train_test_split\n",
    "X_train, X_test, y_train, y_test = train_test_split(X,y,test_size=0.2,random_state=0) "
   ]
  },
  {
   "cell_type": "code",
   "execution_count": 11,
   "id": "58824f4c",
   "metadata": {
    "execution": {
     "iopub.execute_input": "2021-08-31T12:57:15.423696Z",
     "iopub.status.busy": "2021-08-31T12:57:15.422710Z",
     "iopub.status.idle": "2021-08-31T12:57:15.427523Z",
     "shell.execute_reply": "2021-08-31T12:57:15.426909Z",
     "shell.execute_reply.started": "2021-08-31T07:04:43.783223Z"
    },
    "papermill": {
     "duration": 0.046246,
     "end_time": "2021-08-31T12:57:15.427683",
     "exception": false,
     "start_time": "2021-08-31T12:57:15.381437",
     "status": "completed"
    },
    "tags": []
   },
   "outputs": [
    {
     "data": {
      "text/plain": [
       "(2666, 10)"
      ]
     },
     "execution_count": 11,
     "metadata": {},
     "output_type": "execute_result"
    }
   ],
   "source": [
    "X_train.shape # มีข้อมูล train 2666"
   ]
  },
  {
   "cell_type": "code",
   "execution_count": 12,
   "id": "feabc8cf",
   "metadata": {
    "execution": {
     "iopub.execute_input": "2021-08-31T12:57:15.510839Z",
     "iopub.status.busy": "2021-08-31T12:57:15.510026Z",
     "iopub.status.idle": "2021-08-31T12:57:15.512674Z",
     "shell.execute_reply": "2021-08-31T12:57:15.513114Z",
     "shell.execute_reply.started": "2021-08-31T07:04:51.328879Z"
    },
    "papermill": {
     "duration": 0.048922,
     "end_time": "2021-08-31T12:57:15.513318",
     "exception": false,
     "start_time": "2021-08-31T12:57:15.464396",
     "status": "completed"
    },
    "tags": []
   },
   "outputs": [
    {
     "data": {
      "text/plain": [
       "(667, 10)"
      ]
     },
     "execution_count": 12,
     "metadata": {},
     "output_type": "execute_result"
    }
   ],
   "source": [
    "X_test.shape # มีข้อมูล test 667"
   ]
  },
  {
   "cell_type": "code",
   "execution_count": 13,
   "id": "624924cd",
   "metadata": {
    "execution": {
     "iopub.execute_input": "2021-08-31T12:57:15.599790Z",
     "iopub.status.busy": "2021-08-31T12:57:15.599153Z",
     "iopub.status.idle": "2021-08-31T12:57:15.604019Z",
     "shell.execute_reply": "2021-08-31T12:57:15.604434Z",
     "shell.execute_reply.started": "2021-08-31T07:08:32.686692Z"
    },
    "papermill": {
     "duration": 0.048247,
     "end_time": "2021-08-31T12:57:15.604653",
     "exception": false,
     "start_time": "2021-08-31T12:57:15.556406",
     "status": "completed"
    },
    "tags": []
   },
   "outputs": [
    {
     "data": {
      "text/plain": [
       "395"
      ]
     },
     "execution_count": 13,
     "metadata": {},
     "output_type": "execute_result"
    }
   ],
   "source": [
    "np.sum(y_train)"
   ]
  },
  {
   "cell_type": "code",
   "execution_count": 14,
   "id": "2aea992f",
   "metadata": {
    "execution": {
     "iopub.execute_input": "2021-08-31T12:57:15.682692Z",
     "iopub.status.busy": "2021-08-31T12:57:15.682082Z",
     "iopub.status.idle": "2021-08-31T12:57:15.700401Z",
     "shell.execute_reply": "2021-08-31T12:57:15.700839Z",
     "shell.execute_reply.started": "2021-08-31T07:08:35.318968Z"
    },
    "papermill": {
     "duration": 0.058806,
     "end_time": "2021-08-31T12:57:15.701073",
     "exception": false,
     "start_time": "2021-08-31T12:57:15.642267",
     "status": "completed"
    },
    "tags": []
   },
   "outputs": [
    {
     "data": {
      "text/plain": [
       "2271"
      ]
     },
     "execution_count": 14,
     "metadata": {},
     "output_type": "execute_result"
    }
   ],
   "source": [
    "np.sum(1-y_train)"
   ]
  },
  {
   "cell_type": "code",
   "execution_count": 15,
   "id": "8634ea0b",
   "metadata": {
    "execution": {
     "iopub.execute_input": "2021-08-31T12:57:15.779204Z",
     "iopub.status.busy": "2021-08-31T12:57:15.778605Z",
     "iopub.status.idle": "2021-08-31T12:57:15.784135Z",
     "shell.execute_reply": "2021-08-31T12:57:15.783650Z",
     "shell.execute_reply.started": "2021-08-31T07:09:20.880632Z"
    },
    "papermill": {
     "duration": 0.045244,
     "end_time": "2021-08-31T12:57:15.784284",
     "exception": false,
     "start_time": "2021-08-31T12:57:15.739040",
     "status": "completed"
    },
    "tags": []
   },
   "outputs": [
    {
     "data": {
      "text/plain": [
       "88"
      ]
     },
     "execution_count": 15,
     "metadata": {},
     "output_type": "execute_result"
    }
   ],
   "source": [
    "np.sum(y_test)"
   ]
  },
  {
   "cell_type": "code",
   "execution_count": 16,
   "id": "39333c30",
   "metadata": {
    "execution": {
     "iopub.execute_input": "2021-08-31T12:57:15.866049Z",
     "iopub.status.busy": "2021-08-31T12:57:15.865411Z",
     "iopub.status.idle": "2021-08-31T12:57:15.868294Z",
     "shell.execute_reply": "2021-08-31T12:57:15.868823Z",
     "shell.execute_reply.started": "2021-08-31T07:09:29.456993Z"
    },
    "papermill": {
     "duration": 0.046123,
     "end_time": "2021-08-31T12:57:15.869028",
     "exception": false,
     "start_time": "2021-08-31T12:57:15.822905",
     "status": "completed"
    },
    "tags": []
   },
   "outputs": [
    {
     "data": {
      "text/plain": [
       "579"
      ]
     },
     "execution_count": 16,
     "metadata": {},
     "output_type": "execute_result"
    }
   ],
   "source": [
    "np.sum(1-y_test)"
   ]
  },
  {
   "cell_type": "markdown",
   "id": "49274691",
   "metadata": {
    "papermill": {
     "duration": 0.037612,
     "end_time": "2021-08-31T12:57:15.944511",
     "exception": false,
     "start_time": "2021-08-31T12:57:15.906899",
     "status": "completed"
    },
    "tags": []
   },
   "source": [
    "y_test กับ y_train ห่างกันมาก"
   ]
  },
  {
   "cell_type": "markdown",
   "id": "26443f90",
   "metadata": {
    "papermill": {
     "duration": 0.038453,
     "end_time": "2021-08-31T12:57:16.020451",
     "exception": false,
     "start_time": "2021-08-31T12:57:15.981998",
     "status": "completed"
    },
    "tags": []
   },
   "source": [
    "# Model train - OLD (Slow)"
   ]
  },
  {
   "cell_type": "code",
   "execution_count": 17,
   "id": "c0f5d59d",
   "metadata": {
    "execution": {
     "iopub.execute_input": "2021-08-31T12:57:16.102590Z",
     "iopub.status.busy": "2021-08-31T12:57:16.101945Z",
     "iopub.status.idle": "2021-08-31T12:57:34.237454Z",
     "shell.execute_reply": "2021-08-31T12:57:34.237998Z",
     "shell.execute_reply.started": "2021-08-31T07:17:36.207414Z"
    },
    "papermill": {
     "duration": 18.177898,
     "end_time": "2021-08-31T12:57:34.238207",
     "exception": false,
     "start_time": "2021-08-31T12:57:16.060309",
     "status": "completed"
    },
    "tags": []
   },
   "outputs": [
    {
     "data": {
      "text/plain": [
       "Pipeline(steps=[('scaler', MinMaxScaler()),\n",
       "                ('classification',\n",
       "                 GridSearchCV(cv=10,\n",
       "                              estimator=RandomForestClassifier(random_state=0),\n",
       "                              param_grid={'n_estimators': [10, 20, 50, 100,\n",
       "                                                           200]}))])"
      ]
     },
     "execution_count": 17,
     "metadata": {},
     "output_type": "execute_result"
    }
   ],
   "source": [
    "#ทำโมเดล train RandomForestClassifier\n",
    "from sklearn.preprocessing import MinMaxScaler # *normalization\n",
    "from sklearn.ensemble import RandomForestClassifier # model\n",
    "from sklearn.model_selection import GridSearchCV # *GridSearchCV\n",
    "from sklearn.pipeline import Pipeline # Pipeline\n",
    "\n",
    "params = {\n",
    "    'n_estimators' : [10,20,50,100,200]\n",
    "}\n",
    "\n",
    "clf = Pipeline([\n",
    "  ('scaler', MinMaxScaler(feature_range=(0, 1))), \n",
    "  ('classification', GridSearchCV(RandomForestClassifier(random_state=0),params, cv = 10))\n",
    "])\n",
    "\n",
    "clf.fit(X_train, y_train) # เอา X_train, y_train เข้ามาtrain model"
   ]
  },
  {
   "cell_type": "code",
   "execution_count": 18,
   "id": "6b19bfb2",
   "metadata": {
    "execution": {
     "iopub.execute_input": "2021-08-31T12:57:34.320227Z",
     "iopub.status.busy": "2021-08-31T12:57:34.319495Z",
     "iopub.status.idle": "2021-08-31T13:00:18.165331Z",
     "shell.execute_reply": "2021-08-31T13:00:18.165842Z",
     "shell.execute_reply.started": "2021-08-31T07:30:38.716913Z"
    },
    "papermill": {
     "duration": 163.889733,
     "end_time": "2021-08-31T13:00:18.166054",
     "exception": false,
     "start_time": "2021-08-31T12:57:34.276321",
     "status": "completed"
    },
    "tags": []
   },
   "outputs": [
    {
     "name": "stdout",
     "output_type": "stream",
     "text": [
      "10CV Training Accuracy : 0.9358635352426008\n"
     ]
    }
   ],
   "source": [
    "from sklearn.model_selection import cross_val_score\n",
    "acc = cross_val_score(clf, X_train, y_train, cv=10)\n",
    "print(\"10CV Training Accuracy : \"+str(acc.mean()))"
   ]
  },
  {
   "cell_type": "code",
   "execution_count": 19,
   "id": "d6768aa0",
   "metadata": {
    "execution": {
     "iopub.execute_input": "2021-08-31T13:00:18.255371Z",
     "iopub.status.busy": "2021-08-31T13:00:18.254726Z",
     "iopub.status.idle": "2021-08-31T13:00:18.280192Z",
     "shell.execute_reply": "2021-08-31T13:00:18.279655Z",
     "shell.execute_reply.started": "2021-08-31T07:36:08.75914Z"
    },
    "papermill": {
     "duration": 0.075186,
     "end_time": "2021-08-31T13:00:18.280349",
     "exception": false,
     "start_time": "2021-08-31T13:00:18.205163",
     "status": "completed"
    },
    "tags": []
   },
   "outputs": [
    {
     "name": "stdout",
     "output_type": "stream",
     "text": [
      "Test accuracy : 0.9385307346326837\n"
     ]
    }
   ],
   "source": [
    "y_predict = clf.predict(X_test)\n",
    "acc = sum(y_predict == y_test)/len(y_test)\n",
    "print(\"Test accuracy : \"+str(acc))"
   ]
  },
  {
   "cell_type": "code",
   "execution_count": 20,
   "id": "0aa9b3a9",
   "metadata": {
    "execution": {
     "iopub.execute_input": "2021-08-31T13:00:18.364771Z",
     "iopub.status.busy": "2021-08-31T13:00:18.364102Z",
     "iopub.status.idle": "2021-08-31T13:00:18.372395Z",
     "shell.execute_reply": "2021-08-31T13:00:18.371525Z",
     "shell.execute_reply.started": "2021-08-31T07:38:35.398121Z"
    },
    "papermill": {
     "duration": 0.053281,
     "end_time": "2021-08-31T13:00:18.372620",
     "exception": false,
     "start_time": "2021-08-31T13:00:18.319339",
     "status": "completed"
    },
    "tags": []
   },
   "outputs": [
    {
     "name": "stdout",
     "output_type": "stream",
     "text": [
      "              precision    recall  f1-score   support\n",
      "\n",
      "           0       0.97      0.96      0.96       588\n",
      "           1       0.72      0.80      0.75        79\n",
      "\n",
      "    accuracy                           0.94       667\n",
      "   macro avg       0.84      0.88      0.86       667\n",
      "weighted avg       0.94      0.94      0.94       667\n",
      "\n"
     ]
    }
   ],
   "source": [
    "from sklearn.metrics import classification_report\n",
    "print(classification_report(y_predict, y_test))"
   ]
  },
  {
   "cell_type": "code",
   "execution_count": 21,
   "id": "598da551",
   "metadata": {
    "execution": {
     "iopub.execute_input": "2021-08-31T13:00:18.457037Z",
     "iopub.status.busy": "2021-08-31T13:00:18.456308Z",
     "iopub.status.idle": "2021-08-31T13:00:18.462789Z",
     "shell.execute_reply": "2021-08-31T13:00:18.463279Z",
     "shell.execute_reply.started": "2021-08-31T07:40:38.855607Z"
    },
    "papermill": {
     "duration": 0.050565,
     "end_time": "2021-08-31T13:00:18.463509",
     "exception": false,
     "start_time": "2021-08-31T13:00:18.412944",
     "status": "completed"
    },
    "tags": []
   },
   "outputs": [
    {
     "name": "stdout",
     "output_type": "stream",
     "text": [
      "[[563  16]\n",
      " [ 25  63]]\n"
     ]
    }
   ],
   "source": [
    "from sklearn.metrics import confusion_matrix\n",
    "print(confusion_matrix(y_test,y_predict))\n",
    "#ทาย 0 0 ถูก 563\n",
    "#ทาย 0 แต่คือ 1 ได้ 16\n",
    "#ทาย 1 1 ถูก 63\n",
    "#ทาย 1 แต่คือ 0 ได้ 25"
   ]
  },
  {
   "cell_type": "code",
   "execution_count": 22,
   "id": "4a4b3c12",
   "metadata": {
    "execution": {
     "iopub.execute_input": "2021-08-31T13:00:18.550899Z",
     "iopub.status.busy": "2021-08-31T13:00:18.549987Z",
     "iopub.status.idle": "2021-08-31T13:00:18.986098Z",
     "shell.execute_reply": "2021-08-31T13:00:18.985142Z",
     "shell.execute_reply.started": "2021-08-31T07:45:47.825205Z"
    },
    "papermill": {
     "duration": 0.482928,
     "end_time": "2021-08-31T13:00:18.986271",
     "exception": false,
     "start_time": "2021-08-31T13:00:18.503343",
     "status": "completed"
    },
    "tags": []
   },
   "outputs": [
    {
     "data": {
      "image/png": "[encoded data removed]",
      "text/plain": [
       "<Figure size 432x288 with 2 Axes>"
      ]
     },
     "metadata": {
      "needs_background": "light"
     },
     "output_type": "display_data"
    }
   ],
   "source": [
    "from sklearn.metrics import confusion_matrix\n",
    "import matplotlib.pyplot as plt\n",
    "import seaborn as sns\n",
    "target_names = ['(0) Not Churn', '(1) Churn']\n",
    "C = confusion_matrix(y_test,y_predict)\n",
    "C = C / C.astype(np.float).sum(axis=1)*100\n",
    "sns.heatmap(C, annot=True, fmt=\".2f\",cmap=\"GnBu\",xticklabels=target_names, yticklabels=target_names)\n",
    "plt.ylabel(\"True Label\")\n",
    "plt.xlabel(\"Predicted Label\")\n",
    "plt.show()\n",
    "\n",
    "#คือ 0 ทายว่า 0 ถูก 97%\n",
    "#คือ 0 แต่ทายว่า 1 ได้ 18%\n",
    "\n",
    "#คือ 1 ทายว่า 1 ถูก 71%\n",
    "#คือ 1 แต่ทายว่า 0 ได้ 4% "
   ]
  },
  {
   "cell_type": "markdown",
   "id": "2c5aeba6",
   "metadata": {
    "papermill": {
     "duration": 0.040348,
     "end_time": "2021-08-31T13:00:19.066776",
     "exception": false,
     "start_time": "2021-08-31T13:00:19.026428",
     "status": "completed"
    },
    "tags": []
   },
   "source": [
    "# Model train - V.new  (good)"
   ]
  },
  {
   "cell_type": "code",
   "execution_count": 23,
   "id": "0c97f5ad",
   "metadata": {
    "execution": {
     "iopub.execute_input": "2021-08-31T13:00:19.154128Z",
     "iopub.status.busy": "2021-08-31T13:00:19.153459Z",
     "iopub.status.idle": "2021-08-31T13:00:19.157026Z",
     "shell.execute_reply": "2021-08-31T13:00:19.156549Z",
     "shell.execute_reply.started": "2021-08-31T07:57:55.384129Z"
    },
    "papermill": {
     "duration": 0.050256,
     "end_time": "2021-08-31T13:00:19.157181",
     "exception": false,
     "start_time": "2021-08-31T13:00:19.106925",
     "status": "completed"
    },
    "tags": []
   },
   "outputs": [],
   "source": [
    "#ทำโมเดล train\n",
    "from sklearn.preprocessing import MinMaxScaler # *normalization\n",
    "from sklearn.ensemble import RandomForestClassifier # model\n",
    "from sklearn.model_selection import GridSearchCV # *GridSearchCV\n",
    "from sklearn.pipeline import Pipeline # Pipeline\n",
    "\n",
    "clf = Pipeline([\n",
    "  ('scaler', MinMaxScaler(feature_range=(0, 1))), \n",
    "  ('classification', RandomForestClassifier(random_state=0))\n",
    "])"
   ]
  },
  {
   "cell_type": "code",
   "execution_count": 24,
   "id": "e7b2b898",
   "metadata": {
    "execution": {
     "iopub.execute_input": "2021-08-31T13:00:19.245008Z",
     "iopub.status.busy": "2021-08-31T13:00:19.244342Z",
     "iopub.status.idle": "2021-08-31T13:00:37.620262Z",
     "shell.execute_reply": "2021-08-31T13:00:37.619689Z",
     "shell.execute_reply.started": "2021-08-31T07:58:30.948674Z"
    },
    "papermill": {
     "duration": 18.423899,
     "end_time": "2021-08-31T13:00:37.620417",
     "exception": false,
     "start_time": "2021-08-31T13:00:19.196518",
     "status": "completed"
    },
    "tags": []
   },
   "outputs": [
    {
     "data": {
      "text/plain": [
       "GridSearchCV(cv=10,\n",
       "             estimator=Pipeline(steps=[('scaler', MinMaxScaler()),\n",
       "                                       ('classification',\n",
       "                                        RandomForestClassifier(random_state=0))]),\n",
       "             param_grid={'classification__n_estimators': [10, 20, 50, 100,\n",
       "                                                          200]})"
      ]
     },
     "execution_count": 24,
     "metadata": {},
     "output_type": "execute_result"
    }
   ],
   "source": [
    "params = {\n",
    "    'classification__n_estimators' : [10,20,50,100,200]\n",
    "}\n",
    "best_clf = GridSearchCV(clf, params ,cv=10)\n",
    "best_clf.fit(X_train, y_train)"
   ]
  },
  {
   "cell_type": "code",
   "execution_count": 25,
   "id": "5a0f0fca",
   "metadata": {
    "execution": {
     "iopub.execute_input": "2021-08-31T13:00:37.704886Z",
     "iopub.status.busy": "2021-08-31T13:00:37.704019Z",
     "iopub.status.idle": "2021-08-31T13:00:37.708230Z",
     "shell.execute_reply": "2021-08-31T13:00:37.707681Z",
     "shell.execute_reply.started": "2021-08-31T07:59:37.227737Z"
    },
    "papermill": {
     "duration": 0.048109,
     "end_time": "2021-08-31T13:00:37.708359",
     "exception": false,
     "start_time": "2021-08-31T13:00:37.660250",
     "status": "completed"
    },
    "tags": []
   },
   "outputs": [
    {
     "data": {
      "text/plain": [
       "{'classification__n_estimators': 100}"
      ]
     },
     "execution_count": 25,
     "metadata": {},
     "output_type": "execute_result"
    }
   ],
   "source": [
    "best_clf.best_params_"
   ]
  },
  {
   "cell_type": "code",
   "execution_count": 26,
   "id": "d06723c9",
   "metadata": {
    "execution": {
     "iopub.execute_input": "2021-08-31T13:00:37.793021Z",
     "iopub.status.busy": "2021-08-31T13:00:37.792369Z",
     "iopub.status.idle": "2021-08-31T13:00:37.795078Z",
     "shell.execute_reply": "2021-08-31T13:00:37.796063Z",
     "shell.execute_reply.started": "2021-08-31T08:00:09.685029Z"
    },
    "papermill": {
     "duration": 0.048106,
     "end_time": "2021-08-31T13:00:37.796333",
     "exception": false,
     "start_time": "2021-08-31T13:00:37.748227",
     "status": "completed"
    },
    "tags": []
   },
   "outputs": [
    {
     "name": "stdout",
     "output_type": "stream",
     "text": [
      "10CV Training Accuracy : 0.9351130635577707\n"
     ]
    }
   ],
   "source": [
    "print(\"10CV Training Accuracy : \"+str(best_clf.best_score_))"
   ]
  },
  {
   "cell_type": "code",
   "execution_count": 27,
   "id": "51bc90bb",
   "metadata": {
    "execution": {
     "iopub.execute_input": "2021-08-31T13:00:37.882508Z",
     "iopub.status.busy": "2021-08-31T13:00:37.881824Z",
     "iopub.status.idle": "2021-08-31T13:00:37.910224Z",
     "shell.execute_reply": "2021-08-31T13:00:37.910674Z",
     "shell.execute_reply.started": "2021-08-31T08:03:08.334233Z"
    },
    "papermill": {
     "duration": 0.072055,
     "end_time": "2021-08-31T13:00:37.910848",
     "exception": false,
     "start_time": "2021-08-31T13:00:37.838793",
     "status": "completed"
    },
    "tags": []
   },
   "outputs": [
    {
     "name": "stdout",
     "output_type": "stream",
     "text": [
      "Test accuracy : 0.9385307346326837\n"
     ]
    }
   ],
   "source": [
    "y_predict = best_clf.predict(X_test)\n",
    "acc = sum(y_predict == y_test)/len(y_test)\n",
    "print(\"Test accuracy : \"+str(acc))"
   ]
  },
  {
   "cell_type": "markdown",
   "id": "c65a3024",
   "metadata": {
    "papermill": {
     "duration": 0.040592,
     "end_time": "2021-08-31T13:00:37.991726",
     "exception": false,
     "start_time": "2021-08-31T13:00:37.951134",
     "status": "completed"
    },
    "tags": []
   },
   "source": [
    "![](https://i1.sndcdn.com/artworks-000491630706-o6935j-t500x500.jpg)"
   ]
  },
  {
   "cell_type": "markdown",
   "id": "16fa04d1",
   "metadata": {
    "papermill": {
     "duration": 0.041264,
     "end_time": "2021-08-31T13:00:38.074914",
     "exception": false,
     "start_time": "2021-08-31T13:00:38.033650",
     "status": "completed"
    },
    "tags": []
   },
   "source": [
    "# Model train - V.new + feature_selection <br>\n",
    "# RandomForestClassifier จารใช้"
   ]
  },
  {
   "cell_type": "code",
   "execution_count": 28,
   "id": "3fc91085",
   "metadata": {
    "execution": {
     "iopub.execute_input": "2021-08-31T13:00:38.161985Z",
     "iopub.status.busy": "2021-08-31T13:00:38.161327Z",
     "iopub.status.idle": "2021-08-31T13:00:38.177411Z",
     "shell.execute_reply": "2021-08-31T13:00:38.176925Z",
     "shell.execute_reply.started": "2021-08-31T08:08:44.639881Z"
    },
    "papermill": {
     "duration": 0.061991,
     "end_time": "2021-08-31T13:00:38.177577",
     "exception": false,
     "start_time": "2021-08-31T13:00:38.115586",
     "status": "completed"
    },
    "tags": []
   },
   "outputs": [],
   "source": [
    "#RandomForestClassifier\n",
    "# สร้างต้นไม้เล็กๆหลายๆต้น แล้ว นำต้นที่ดีที่สุดทุกต้น นำมารวมกัน\n",
    "from sklearn.preprocessing import MinMaxScaler \n",
    "from sklearn.ensemble import RandomForestClassifier \n",
    "from sklearn.model_selection import GridSearchCV\n",
    "from sklearn.pipeline import Pipeline \n",
    "\n",
    "from sklearn.feature_selection import SelectKBest\n",
    "from sklearn.feature_selection import f_classif \n",
    "\n",
    "clf = Pipeline([\n",
    "  ('scaler', MinMaxScaler(feature_range=(0, 1))), \n",
    "  ('feature_selection', SelectKBest(f_classif)),\n",
    "  ('classification', RandomForestClassifier(random_state=0))\n",
    "])"
   ]
  },
  {
   "cell_type": "code",
   "execution_count": 29,
   "id": "3e9d6411",
   "metadata": {
    "execution": {
     "iopub.execute_input": "2021-08-31T13:00:38.267281Z",
     "iopub.status.busy": "2021-08-31T13:00:38.266642Z",
     "iopub.status.idle": "2021-08-31T13:02:00.334312Z",
     "shell.execute_reply": "2021-08-31T13:02:00.334804Z",
     "shell.execute_reply.started": "2021-08-31T08:08:46.616228Z"
    },
    "papermill": {
     "duration": 82.11685,
     "end_time": "2021-08-31T13:02:00.334973",
     "exception": false,
     "start_time": "2021-08-31T13:00:38.218123",
     "status": "completed"
    },
    "tags": []
   },
   "outputs": [
    {
     "data": {
      "text/plain": [
       "GridSearchCV(cv=10,\n",
       "             estimator=Pipeline(steps=[('scaler', MinMaxScaler()),\n",
       "                                       ('feature_selection', SelectKBest()),\n",
       "                                       ('classification',\n",
       "                                        RandomForestClassifier(random_state=0))]),\n",
       "             param_grid={'classification__max_depth': [3, 5, 7],\n",
       "                         'classification__n_estimators': [10, 20, 50, 100, 200],\n",
       "                         'feature_selection__k': [3, 5, 7]})"
      ]
     },
     "execution_count": 29,
     "metadata": {},
     "output_type": "execute_result"
    }
   ],
   "source": [
    "params = {\n",
    "    'feature_selection__k' : [3,5,7],\n",
    "    'classification__n_estimators' : [10,20,50,100,200],\n",
    "    'classification__max_depth' : [3,5,7]\n",
    "}\n",
    "best_clf = GridSearchCV(clf, params ,cv=10)\n",
    "best_clf.fit(X_train, y_train)"
   ]
  },
  {
   "cell_type": "code",
   "execution_count": 30,
   "id": "4024e126",
   "metadata": {
    "execution": {
     "iopub.execute_input": "2021-08-31T13:02:00.422552Z",
     "iopub.status.busy": "2021-08-31T13:02:00.421945Z",
     "iopub.status.idle": "2021-08-31T13:02:00.425757Z",
     "shell.execute_reply": "2021-08-31T13:02:00.425223Z",
     "shell.execute_reply.started": "2021-08-31T08:13:12.497959Z"
    },
    "papermill": {
     "duration": 0.050139,
     "end_time": "2021-08-31T13:02:00.425895",
     "exception": false,
     "start_time": "2021-08-31T13:02:00.375756",
     "status": "completed"
    },
    "tags": []
   },
   "outputs": [
    {
     "data": {
      "text/plain": [
       "{'classification__max_depth': 7,\n",
       " 'classification__n_estimators': 50,\n",
       " 'feature_selection__k': 7}"
      ]
     },
     "execution_count": 30,
     "metadata": {},
     "output_type": "execute_result"
    }
   ],
   "source": [
    "best_clf.best_params_"
   ]
  },
  {
   "cell_type": "code",
   "execution_count": 31,
   "id": "46d22be0",
   "metadata": {
    "execution": {
     "iopub.execute_input": "2021-08-31T13:02:00.513882Z",
     "iopub.status.busy": "2021-08-31T13:02:00.513289Z",
     "iopub.status.idle": "2021-08-31T13:02:00.517121Z",
     "shell.execute_reply": "2021-08-31T13:02:00.516542Z",
     "shell.execute_reply.started": "2021-08-31T08:12:31.852282Z"
    },
    "papermill": {
     "duration": 0.050242,
     "end_time": "2021-08-31T13:02:00.517250",
     "exception": false,
     "start_time": "2021-08-31T13:02:00.467008",
     "status": "completed"
    },
    "tags": []
   },
   "outputs": [
    {
     "name": "stdout",
     "output_type": "stream",
     "text": [
      "10CV Training Accuracy : 0.9291177381656388\n"
     ]
    }
   ],
   "source": [
    "print(\"10CV Training Accuracy : \"+str(best_clf.best_score_))"
   ]
  },
  {
   "cell_type": "code",
   "execution_count": 32,
   "id": "84dbc2f4",
   "metadata": {
    "execution": {
     "iopub.execute_input": "2021-08-31T13:02:00.608687Z",
     "iopub.status.busy": "2021-08-31T13:02:00.607535Z",
     "iopub.status.idle": "2021-08-31T13:02:00.623203Z",
     "shell.execute_reply": "2021-08-31T13:02:00.622656Z",
     "shell.execute_reply.started": "2021-08-31T08:11:40.949051Z"
    },
    "papermill": {
     "duration": 0.064833,
     "end_time": "2021-08-31T13:02:00.623376",
     "exception": false,
     "start_time": "2021-08-31T13:02:00.558543",
     "status": "completed"
    },
    "tags": []
   },
   "outputs": [
    {
     "name": "stdout",
     "output_type": "stream",
     "text": [
      "Test accuracy : 0.9295352323838081\n"
     ]
    }
   ],
   "source": [
    "y_predict = best_clf.predict(X_test)\n",
    "acc = sum(y_predict == y_test)/len(y_test)\n",
    "print(\"Test accuracy : \"+str(acc))"
   ]
  },
  {
   "cell_type": "markdown",
   "id": "63737fc8",
   "metadata": {
    "papermill": {
     "duration": 0.041571,
     "end_time": "2021-08-31T13:02:00.707570",
     "exception": false,
     "start_time": "2021-08-31T13:02:00.665999",
     "status": "completed"
    },
    "tags": []
   },
   "source": [
    "# SVC"
   ]
  },
  {
   "cell_type": "code",
   "execution_count": 33,
   "id": "34abf6ed",
   "metadata": {
    "execution": {
     "iopub.execute_input": "2021-08-31T13:02:00.798094Z",
     "iopub.status.busy": "2021-08-31T13:02:00.797183Z",
     "iopub.status.idle": "2021-08-31T13:02:00.800413Z",
     "shell.execute_reply": "2021-08-31T13:02:00.800949Z",
     "shell.execute_reply.started": "2021-08-31T08:23:51.109663Z"
    },
    "papermill": {
     "duration": 0.051915,
     "end_time": "2021-08-31T13:02:00.801148",
     "exception": false,
     "start_time": "2021-08-31T13:02:00.749233",
     "status": "completed"
    },
    "tags": []
   },
   "outputs": [],
   "source": [
    "#SVC\n",
    "from sklearn.preprocessing import MinMaxScaler \n",
    "from sklearn.svm import SVC\n",
    "from sklearn.model_selection import GridSearchCV\n",
    "from sklearn.pipeline import Pipeline \n",
    "\n",
    "from sklearn.feature_selection import SelectKBest\n",
    "from sklearn.feature_selection import f_classif \n",
    "\n",
    "clf = Pipeline([\n",
    "  ('scaler', MinMaxScaler(feature_range=(0, 1))), \n",
    "  ('feature_selection', SelectKBest(f_classif)),\n",
    "  ('classification', SVC(random_state=0))\n",
    "])"
   ]
  },
  {
   "cell_type": "code",
   "execution_count": 34,
   "id": "c3852f1a",
   "metadata": {
    "execution": {
     "iopub.execute_input": "2021-08-31T13:02:00.894345Z",
     "iopub.status.busy": "2021-08-31T13:02:00.892005Z",
     "iopub.status.idle": "2021-08-31T13:05:28.053844Z",
     "shell.execute_reply": "2021-08-31T13:05:28.054315Z",
     "shell.execute_reply.started": "2021-08-31T08:24:49.450383Z"
    },
    "papermill": {
     "duration": 207.210747,
     "end_time": "2021-08-31T13:05:28.054531",
     "exception": false,
     "start_time": "2021-08-31T13:02:00.843784",
     "status": "completed"
    },
    "tags": []
   },
   "outputs": [
    {
     "data": {
      "text/plain": [
       "GridSearchCV(cv=10,\n",
       "             estimator=Pipeline(steps=[('scaler', MinMaxScaler()),\n",
       "                                       ('feature_selection', SelectKBest()),\n",
       "                                       ('classification',\n",
       "                                        SVC(random_state=0))]),\n",
       "             param_grid={'classification__C': [1, 2, 4, 8, 16, 32],\n",
       "                         'classification__gamma': [0.0625, 0.0125, 0.025, 0.05,\n",
       "                                                   0.01, 0, 1, 2, 4, 8, 16,\n",
       "                                                   32],\n",
       "                         'feature_selection__k': [3, 5, 7]})"
      ]
     },
     "execution_count": 34,
     "metadata": {},
     "output_type": "execute_result"
    }
   ],
   "source": [
    "params = {\n",
    "    'feature_selection__k' : [3,5,7],\n",
    "    'classification__C' : [1,2,4,8,16,32],\n",
    "    'classification__gamma' : [0.0625,0.0125,0.025,0.05,0.01,0,1,2,4,8,16,32]\n",
    "}\n",
    "best_clf = GridSearchCV(clf, params ,cv=10)\n",
    "best_clf.fit(X_train, y_train)"
   ]
  },
  {
   "cell_type": "code",
   "execution_count": 35,
   "id": "87ea053f",
   "metadata": {
    "execution": {
     "iopub.execute_input": "2021-08-31T13:05:28.145162Z",
     "iopub.status.busy": "2021-08-31T13:05:28.144420Z",
     "iopub.status.idle": "2021-08-31T13:05:28.147754Z",
     "shell.execute_reply": "2021-08-31T13:05:28.148219Z",
     "shell.execute_reply.started": "2021-08-31T08:28:22.694735Z"
    },
    "papermill": {
     "duration": 0.051539,
     "end_time": "2021-08-31T13:05:28.148431",
     "exception": false,
     "start_time": "2021-08-31T13:05:28.096892",
     "status": "completed"
    },
    "tags": []
   },
   "outputs": [
    {
     "data": {
      "text/plain": [
       "{'classification__C': 32,\n",
       " 'classification__gamma': 4,\n",
       " 'feature_selection__k': 7}"
      ]
     },
     "execution_count": 35,
     "metadata": {},
     "output_type": "execute_result"
    }
   ],
   "source": [
    "best_clf.best_params_"
   ]
  },
  {
   "cell_type": "code",
   "execution_count": 36,
   "id": "b717ab17",
   "metadata": {
    "execution": {
     "iopub.execute_input": "2021-08-31T13:05:28.310632Z",
     "iopub.status.busy": "2021-08-31T13:05:28.309988Z",
     "iopub.status.idle": "2021-08-31T13:05:28.312622Z",
     "shell.execute_reply": "2021-08-31T13:05:28.313088Z",
     "shell.execute_reply.started": "2021-08-31T08:28:22.705031Z"
    },
    "papermill": {
     "duration": 0.051747,
     "end_time": "2021-08-31T13:05:28.313279",
     "exception": false,
     "start_time": "2021-08-31T13:05:28.261532",
     "status": "completed"
    },
    "tags": []
   },
   "outputs": [
    {
     "name": "stdout",
     "output_type": "stream",
     "text": [
      "10CV Training Accuracy : 0.9156106558531159\n"
     ]
    }
   ],
   "source": [
    "print(\"10CV Training Accuracy : \"+str(best_clf.best_score_))"
   ]
  },
  {
   "cell_type": "code",
   "execution_count": 37,
   "id": "d10a5fcc",
   "metadata": {
    "execution": {
     "iopub.execute_input": "2021-08-31T13:05:28.409168Z",
     "iopub.status.busy": "2021-08-31T13:05:28.408518Z",
     "iopub.status.idle": "2021-08-31T13:05:28.426341Z",
     "shell.execute_reply": "2021-08-31T13:05:28.425832Z",
     "shell.execute_reply.started": "2021-08-31T08:28:22.721357Z"
    },
    "papermill": {
     "duration": 0.068716,
     "end_time": "2021-08-31T13:05:28.426507",
     "exception": false,
     "start_time": "2021-08-31T13:05:28.357791",
     "status": "completed"
    },
    "tags": []
   },
   "outputs": [
    {
     "name": "stdout",
     "output_type": "stream",
     "text": [
      "Test accuracy : 0.9220389805097451\n"
     ]
    }
   ],
   "source": [
    "y_predict = best_clf.predict(X_test)\n",
    "acc = sum(y_predict == y_test)/len(y_test)\n",
    "print(\"Test accuracy : \"+str(acc))"
   ]
  },
  {
   "cell_type": "markdown",
   "id": "9d15487d",
   "metadata": {
    "papermill": {
     "duration": 0.041965,
     "end_time": "2021-08-31T13:05:28.511118",
     "exception": false,
     "start_time": "2021-08-31T13:05:28.469153",
     "status": "completed"
    },
    "tags": []
   },
   "source": [
    "![](https://i.ytimg.com/vi/Q1qpG7gwix4/maxresdefault.jpg)"
   ]
  },
  {
   "cell_type": "markdown",
   "id": "93dfbd02",
   "metadata": {
    "papermill": {
     "duration": 0.041924,
     "end_time": "2021-08-31T13:05:28.595689",
     "exception": false,
     "start_time": "2021-08-31T13:05:28.553765",
     "status": "completed"
    },
    "tags": []
   },
   "source": [
    "# ExtraTreesClassifier จารใช้"
   ]
  },
  {
   "cell_type": "code",
   "execution_count": 38,
   "id": "e1068c1d",
   "metadata": {
    "execution": {
     "iopub.execute_input": "2021-08-31T13:05:28.687150Z",
     "iopub.status.busy": "2021-08-31T13:05:28.686450Z",
     "iopub.status.idle": "2021-08-31T13:05:28.689408Z",
     "shell.execute_reply": "2021-08-31T13:05:28.688931Z",
     "shell.execute_reply.started": "2021-08-31T08:30:53.559687Z"
    },
    "papermill": {
     "duration": 0.051452,
     "end_time": "2021-08-31T13:05:28.689587",
     "exception": false,
     "start_time": "2021-08-31T13:05:28.638135",
     "status": "completed"
    },
    "tags": []
   },
   "outputs": [],
   "source": [
    "#ExtraTreesClassifier\n",
    "# สร้างต้นไม้เล็กๆหลายๆต้น แล้ว นำต้นไม้หลายๆต้นความสูขไม่เท่ากัน นำมารวมกัน\n",
    "# ไม่ค่อยต่างจาก Randomforestมาก\n",
    "from sklearn.preprocessing import MinMaxScaler \n",
    "from sklearn.ensemble import ExtraTreesClassifier\n",
    "from sklearn.model_selection import GridSearchCV\n",
    "from sklearn.pipeline import Pipeline \n",
    "\n",
    "#from sklearn.feature_selection import SelectKBest\n",
    "#from sklearn.feature_selection import f_classif \n",
    "\n",
    "clf = Pipeline([\n",
    "  ('scaler', MinMaxScaler(feature_range=(0, 1))), \n",
    "  #('feature_selection', SelectKBest(f_classif)),\n",
    "  ('classification', ExtraTreesClassifier(random_state=0))\n",
    "])"
   ]
  },
  {
   "cell_type": "code",
   "execution_count": 39,
   "id": "39612354",
   "metadata": {
    "execution": {
     "iopub.execute_input": "2021-08-31T13:05:28.783671Z",
     "iopub.status.busy": "2021-08-31T13:05:28.783027Z",
     "iopub.status.idle": "2021-08-31T13:05:38.954311Z",
     "shell.execute_reply": "2021-08-31T13:05:38.953701Z",
     "shell.execute_reply.started": "2021-08-31T08:30:54.99981Z"
    },
    "papermill": {
     "duration": 10.221268,
     "end_time": "2021-08-31T13:05:38.954455",
     "exception": false,
     "start_time": "2021-08-31T13:05:28.733187",
     "status": "completed"
    },
    "tags": []
   },
   "outputs": [
    {
     "data": {
      "text/plain": [
       "GridSearchCV(cv=10,\n",
       "             estimator=Pipeline(steps=[('scaler', MinMaxScaler()),\n",
       "                                       ('classification',\n",
       "                                        ExtraTreesClassifier(random_state=0))]),\n",
       "             param_grid={'classification__n_estimators': [10, 20, 50, 100,\n",
       "                                                          200]})"
      ]
     },
     "execution_count": 39,
     "metadata": {},
     "output_type": "execute_result"
    }
   ],
   "source": [
    "params = {\n",
    "    'classification__n_estimators' : [10,20,50,100,200],\n",
    "}\n",
    "best_clf = GridSearchCV(clf, params ,cv=10)\n",
    "best_clf.fit(X_train, y_train)"
   ]
  },
  {
   "cell_type": "code",
   "execution_count": 40,
   "id": "c2492e07",
   "metadata": {
    "execution": {
     "iopub.execute_input": "2021-08-31T13:05:39.048866Z",
     "iopub.status.busy": "2021-08-31T13:05:39.047948Z",
     "iopub.status.idle": "2021-08-31T13:05:39.052605Z",
     "shell.execute_reply": "2021-08-31T13:05:39.051998Z",
     "shell.execute_reply.started": "2021-08-31T08:31:10.25888Z"
    },
    "papermill": {
     "duration": 0.054197,
     "end_time": "2021-08-31T13:05:39.052762",
     "exception": false,
     "start_time": "2021-08-31T13:05:38.998565",
     "status": "completed"
    },
    "tags": []
   },
   "outputs": [
    {
     "data": {
      "text/plain": [
       "{'classification__n_estimators': 200}"
      ]
     },
     "execution_count": 40,
     "metadata": {},
     "output_type": "execute_result"
    }
   ],
   "source": [
    "best_clf.best_params_"
   ]
  },
  {
   "cell_type": "code",
   "execution_count": 41,
   "id": "2736f8a7",
   "metadata": {
    "execution": {
     "iopub.execute_input": "2021-08-31T13:05:39.150650Z",
     "iopub.status.busy": "2021-08-31T13:05:39.149832Z",
     "iopub.status.idle": "2021-08-31T13:05:39.154538Z",
     "shell.execute_reply": "2021-08-31T13:05:39.155221Z",
     "shell.execute_reply.started": "2021-08-31T08:31:11.741812Z"
    },
    "papermill": {
     "duration": 0.056188,
     "end_time": "2021-08-31T13:05:39.155484",
     "exception": false,
     "start_time": "2021-08-31T13:05:39.099296",
     "status": "completed"
    },
    "tags": []
   },
   "outputs": [
    {
     "name": "stdout",
     "output_type": "stream",
     "text": [
      "10CV Training Accuracy : 0.9298555377207063\n"
     ]
    }
   ],
   "source": [
    "print(\"10CV Training Accuracy : \"+str(best_clf.best_score_))"
   ]
  },
  {
   "cell_type": "code",
   "execution_count": 42,
   "id": "cd3a7193",
   "metadata": {
    "execution": {
     "iopub.execute_input": "2021-08-31T13:05:39.248042Z",
     "iopub.status.busy": "2021-08-31T13:05:39.247114Z",
     "iopub.status.idle": "2021-08-31T13:05:39.300001Z",
     "shell.execute_reply": "2021-08-31T13:05:39.300431Z",
     "shell.execute_reply.started": "2021-08-31T08:31:13.132067Z"
    },
    "papermill": {
     "duration": 0.100716,
     "end_time": "2021-08-31T13:05:39.300613",
     "exception": false,
     "start_time": "2021-08-31T13:05:39.199897",
     "status": "completed"
    },
    "tags": []
   },
   "outputs": [
    {
     "name": "stdout",
     "output_type": "stream",
     "text": [
      "Test accuracy : 0.9250374812593704\n"
     ]
    }
   ],
   "source": [
    "y_predict = best_clf.predict(X_test)\n",
    "acc = sum(y_predict == y_test)/len(y_test)\n",
    "print(\"Test accuracy : \"+str(acc))"
   ]
  },
  {
   "cell_type": "code",
   "execution_count": 43,
   "id": "727c812d",
   "metadata": {
    "execution": {
     "iopub.execute_input": "2021-08-31T13:05:39.392460Z",
     "iopub.status.busy": "2021-08-31T13:05:39.391580Z",
     "iopub.status.idle": "2021-08-31T13:05:39.545072Z",
     "shell.execute_reply": "2021-08-31T13:05:39.545574Z",
     "shell.execute_reply.started": "2021-08-31T08:35:21.768171Z"
    },
    "papermill": {
     "duration": 0.201481,
     "end_time": "2021-08-31T13:05:39.545748",
     "exception": false,
     "start_time": "2021-08-31T13:05:39.344267",
     "status": "completed"
    },
    "tags": []
   },
   "outputs": [
    {
     "data": {
      "image/png": "[encoded data removed]",
      "text/plain": [
       "<Figure size 432x288 with 2 Axes>"
      ]
     },
     "metadata": {
      "needs_background": "light"
     },
     "output_type": "display_data"
    }
   ],
   "source": [
    "from sklearn.metrics import confusion_matrix\n",
    "import matplotlib.pyplot as plt\n",
    "import seaborn as sns\n",
    "target_names = ['(0) Not Churn', '(1) Churn']\n",
    "C = confusion_matrix(y_test,y_predict)\n",
    "C = C / C.astype(np.float).sum(axis=1)*100\n",
    "sns.heatmap(C, annot=True, fmt=\".2f\",cmap=\"GnBu\",xticklabels=target_names, yticklabels=target_names)\n",
    "plt.ylabel(\"True Label\")\n",
    "plt.xlabel(\"Predicted Label\")\n",
    "plt.show()"
   ]
  },
  {
   "cell_type": "markdown",
   "id": "c6df7b9a",
   "metadata": {
    "papermill": {
     "duration": 0.044456,
     "end_time": "2021-08-31T13:05:39.635065",
     "exception": false,
     "start_time": "2021-08-31T13:05:39.590609",
     "status": "completed"
    },
    "tags": []
   },
   "source": [
    "# หา best_estimator_ (features)ที่สำคัญสุด"
   ]
  },
  {
   "cell_type": "code",
   "execution_count": 44,
   "id": "e02a0082",
   "metadata": {
    "execution": {
     "iopub.execute_input": "2021-08-31T13:05:39.729186Z",
     "iopub.status.busy": "2021-08-31T13:05:39.728601Z",
     "iopub.status.idle": "2021-08-31T13:05:39.732779Z",
     "shell.execute_reply": "2021-08-31T13:05:39.732128Z",
     "shell.execute_reply.started": "2021-08-31T08:40:15.308035Z"
    },
    "papermill": {
     "duration": 0.053276,
     "end_time": "2021-08-31T13:05:39.732951",
     "exception": false,
     "start_time": "2021-08-31T13:05:39.679675",
     "status": "completed"
    },
    "tags": []
   },
   "outputs": [
    {
     "data": {
      "text/plain": [
       "[('scaler', MinMaxScaler()),\n",
       " ('classification', ExtraTreesClassifier(n_estimators=200, random_state=0))]"
      ]
     },
     "execution_count": 44,
     "metadata": {},
     "output_type": "execute_result"
    }
   ],
   "source": [
    "best_clf.best_estimator_.steps"
   ]
  },
  {
   "cell_type": "code",
   "execution_count": 45,
   "id": "c12d0ca7",
   "metadata": {
    "execution": {
     "iopub.execute_input": "2021-08-31T13:05:39.829062Z",
     "iopub.status.busy": "2021-08-31T13:05:39.828412Z",
     "iopub.status.idle": "2021-08-31T13:05:39.833926Z",
     "shell.execute_reply": "2021-08-31T13:05:39.834411Z",
     "shell.execute_reply.started": "2021-08-31T08:40:21.991447Z"
    },
    "papermill": {
     "duration": 0.055807,
     "end_time": "2021-08-31T13:05:39.834638",
     "exception": false,
     "start_time": "2021-08-31T13:05:39.778831",
     "status": "completed"
    },
    "tags": []
   },
   "outputs": [
    {
     "data": {
      "text/plain": [
       "('classification', ExtraTreesClassifier(n_estimators=200, random_state=0))"
      ]
     },
     "execution_count": 45,
     "metadata": {},
     "output_type": "execute_result"
    }
   ],
   "source": [
    "best_clf.best_estimator_.steps[1]\n",
    "# 0 = scaler\n",
    "# 1 = classification หรือ -1 ก็ได้ เพราะแปลว่าตัวสุดท้าย"
   ]
  },
  {
   "cell_type": "code",
   "execution_count": 46,
   "id": "c5898fc4",
   "metadata": {
    "execution": {
     "iopub.execute_input": "2021-08-31T13:05:39.932205Z",
     "iopub.status.busy": "2021-08-31T13:05:39.931559Z",
     "iopub.status.idle": "2021-08-31T13:05:39.955808Z",
     "shell.execute_reply": "2021-08-31T13:05:39.956323Z",
     "shell.execute_reply.started": "2021-08-31T08:42:55.928885Z"
    },
    "papermill": {
     "duration": 0.074018,
     "end_time": "2021-08-31T13:05:39.956549",
     "exception": false,
     "start_time": "2021-08-31T13:05:39.882531",
     "status": "completed"
    },
    "tags": []
   },
   "outputs": [
    {
     "data": {
      "text/plain": [
       "array([0.07042887, 0.07255904, 0.02574699, 0.05180713, 0.15808602,\n",
       "       0.17833695, 0.07211594, 0.19021937, 0.09295035, 0.08774935])"
      ]
     },
     "execution_count": 46,
     "metadata": {},
     "output_type": "execute_result"
    }
   ],
   "source": [
    "f = best_clf.best_estimator_.steps[-1][1].feature_importances_\n",
    "f"
   ]
  },
  {
   "cell_type": "code",
   "execution_count": 47,
   "id": "d32642fd",
   "metadata": {
    "execution": {
     "iopub.execute_input": "2021-08-31T13:05:40.054629Z",
     "iopub.status.busy": "2021-08-31T13:05:40.053969Z",
     "iopub.status.idle": "2021-08-31T13:05:40.056754Z",
     "shell.execute_reply": "2021-08-31T13:05:40.057161Z",
     "shell.execute_reply.started": "2021-08-31T08:42:48.750255Z"
    },
    "papermill": {
     "duration": 0.054799,
     "end_time": "2021-08-31T13:05:40.057365",
     "exception": false,
     "start_time": "2021-08-31T13:05:40.002566",
     "status": "completed"
    },
    "tags": []
   },
   "outputs": [
    {
     "data": {
      "text/plain": [
       "array([7, 5, 4, 8, 9, 1, 6, 0, 3, 2])"
      ]
     },
     "execution_count": 47,
     "metadata": {},
     "output_type": "execute_result"
    }
   ],
   "source": [
    "f_idx = np.argsort(-f) #เรียงมากไปน้อย\n",
    "f_idx"
   ]
  },
  {
   "cell_type": "code",
   "execution_count": 48,
   "id": "0d95e7d1",
   "metadata": {
    "execution": {
     "iopub.execute_input": "2021-08-31T13:05:40.157150Z",
     "iopub.status.busy": "2021-08-31T13:05:40.156428Z",
     "iopub.status.idle": "2021-08-31T13:05:40.161711Z",
     "shell.execute_reply": "2021-08-31T13:05:40.162156Z",
     "shell.execute_reply.started": "2021-08-31T08:41:55.579309Z"
    },
    "papermill": {
     "duration": 0.056165,
     "end_time": "2021-08-31T13:05:40.162340",
     "exception": false,
     "start_time": "2021-08-31T13:05:40.106175",
     "status": "completed"
    },
    "tags": []
   },
   "outputs": [
    {
     "data": {
      "text/plain": [
       "Index(['AccountWeeks', 'ContractRenewal', 'DataPlan', 'DataUsage',\n",
       "       'CustServCalls', 'DayMins', 'DayCalls', 'MonthlyCharge', 'OverageFee',\n",
       "       'RoamMins'],\n",
       "      dtype='object')"
      ]
     },
     "execution_count": 48,
     "metadata": {},
     "output_type": "execute_result"
    }
   ],
   "source": [
    "X.columns"
   ]
  },
  {
   "cell_type": "code",
   "execution_count": 49,
   "id": "7b771f88",
   "metadata": {
    "execution": {
     "iopub.execute_input": "2021-08-31T13:05:40.257290Z",
     "iopub.status.busy": "2021-08-31T13:05:40.256706Z",
     "iopub.status.idle": "2021-08-31T13:05:40.261752Z",
     "shell.execute_reply": "2021-08-31T13:05:40.262322Z",
     "shell.execute_reply.started": "2021-08-31T08:43:16.678811Z"
    },
    "papermill": {
     "duration": 0.054514,
     "end_time": "2021-08-31T13:05:40.262527",
     "exception": false,
     "start_time": "2021-08-31T13:05:40.208013",
     "status": "completed"
    },
    "tags": []
   },
   "outputs": [
    {
     "data": {
      "text/plain": [
       "array(['MonthlyCharge', 'DayMins', 'CustServCalls', 'OverageFee',\n",
       "       'RoamMins', 'ContractRenewal', 'DayCalls', 'AccountWeeks',\n",
       "       'DataUsage', 'DataPlan'], dtype=object)"
      ]
     },
     "execution_count": 49,
     "metadata": {},
     "output_type": "execute_result"
    }
   ],
   "source": [
    "X.columns.values[f_idx]\n",
    "# สิ่งที่ใช้ดูว่าผู้ใช้จะเปลี่ยนค่ายอันดับ1คือ MonthlyCharge\n",
    "# อันดับ2คือ DayMins\n",
    "# ..."
   ]
  },
  {
   "cell_type": "markdown",
   "id": "fa9031ba",
   "metadata": {
    "papermill": {
     "duration": 0.04578,
     "end_time": "2021-08-31T13:05:40.354607",
     "exception": false,
     "start_time": "2021-08-31T13:05:40.308827",
     "status": "completed"
    },
    "tags": []
   },
   "source": [
    "# ทำ select form embaited model"
   ]
  },
  {
   "cell_type": "code",
   "execution_count": 50,
   "id": "0babb3c8",
   "metadata": {
    "execution": {
     "iopub.execute_input": "2021-08-31T13:05:40.460703Z",
     "iopub.status.busy": "2021-08-31T13:05:40.460072Z",
     "iopub.status.idle": "2021-08-31T13:05:40.462699Z",
     "shell.execute_reply": "2021-08-31T13:05:40.461947Z"
    },
    "papermill": {
     "duration": 0.05816,
     "end_time": "2021-08-31T13:05:40.462877",
     "exception": false,
     "start_time": "2021-08-31T13:05:40.404717",
     "status": "completed"
    },
    "tags": []
   },
   "outputs": [],
   "source": [
    "#เอาไว้ก่อน"
   ]
  },
  {
   "cell_type": "markdown",
   "id": "1196bb5f",
   "metadata": {
    "papermill": {
     "duration": 0.050131,
     "end_time": "2021-08-31T13:05:40.561371",
     "exception": false,
     "start_time": "2021-08-31T13:05:40.511240",
     "status": "completed"
    },
    "tags": []
   },
   "source": [
    "การบ้าน ไปทำเปน smote ลองสร้าง model ที่ดีสุด || train acc 93 จะดีมาก"
   ]
  },
  {
   "cell_type": "markdown",
   "id": "a75f64e3",
   "metadata": {
    "papermill": {
     "duration": 0.047843,
     "end_time": "2021-08-31T13:05:40.660450",
     "exception": false,
     "start_time": "2021-08-31T13:05:40.612607",
     "status": "completed"
    },
    "tags": []
   },
   "source": [
    "![](https://i.imgflip.com/1tzeet.jpg?a452736)"
   ]
  }
 ],
 "metadata": {
  "kernelspec": {
   "display_name": "Python 3",
   "language": "python",
   "name": "python3"
  },
  "language_info": {
   "codemirror_mode": {
    "name": "ipython",
    "version": 3
   },
   "file_extension": ".py",
   "mimetype": "text/x-python",
   "name": "python",
   "nbconvert_exporter": "python",
   "pygments_lexer": "ipython3",
   "version": "3.7.10"
  },
  "papermill": {
   "default_parameters": {},
   "duration": 516.108937,
   "end_time": "2021-08-31T13:05:42.369522",
   "environment_variables": {},
   "exception": null,
   "input_path": "__notebook__.ipynb",
   "output_path": "__notebook__.ipynb",
   "parameters": {},
   "start_time": "2021-08-31T12:57:06.260585",
   "version": "2.3.3"
  }
 },
 "nbformat": 4,
 "nbformat_minor": 5
}
